{
 "cells": [
  {
   "cell_type": "markdown",
   "id": "6bb113ce",
   "metadata": {},
   "source": [
    "#### 0. Import basic methods (a.o. from source2.py)"
   ]
  },
  {
   "cell_type": "code",
   "execution_count": 1,
   "id": "f9fd7be4",
   "metadata": {},
   "outputs": [],
   "source": [
    "from source2 import *\n",
    "import numpy as np"
   ]
  },
  {
   "cell_type": "code",
   "execution_count": 44,
   "id": "ec38e936",
   "metadata": {},
   "outputs": [],
   "source": [
    "# load basic info from the Input sheet\n",
    "mapping = load_input_from_xls(filename=r'H2 Model - Input sheet.xlsm')\n",
    "Inputs = extract_scenario(mapping, 'Scenario1')"
   ]
  },
  {
   "cell_type": "markdown",
   "id": "89024b92",
   "metadata": {},
   "source": [
    "##### 1. prepare input data and generate objects\n",
    "We are testing the following case:"
   ]
  },
  {
   "cell_type": "code",
   "execution_count": 45,
   "id": "2d6f6591",
   "metadata": {},
   "outputs": [
    {
     "data": {
      "text/plain": [
       "{'sub_system': 'Wind energy source & Transport',\n",
       " 'element': 'Offshore wind park',\n",
       " 'component': 'Turbine',\n",
       " 'escalation_base_year': 2023,\n",
       " 'escalation_rate': 0.02,\n",
       " 'capex_per_unit': 1495000,\n",
       " 'capex_per_unit_units': 'EUR / MW',\n",
       " 'unit': 3000,\n",
       " 'unit_units': 'MW',\n",
       " 'construction_duration': 3,\n",
       " 'share_of_investments': [0.2, 0.4, 0.4],\n",
       " 'economic_lifetime': 30,\n",
       " 'depreciation_flag': 1,\n",
       " 'depreciation_rate': 0.03333333333333333,\n",
       " 'yearly_variable_costs_flag': 1,\n",
       " 'yearly_variable_costs_rate': 0.03,\n",
       " 'insurance_flag': 1,\n",
       " 'insurance_rate': 0.005,\n",
       " 'decommissioning_rate': 0.02,\n",
       " 'residual_value': 0.01}"
      ]
     },
     "metadata": {},
     "output_type": "display_data"
    }
   ],
   "source": [
    "turbine_data = get_object_data(Inputs=Inputs, \n",
    "                               subsystem='Wind energy source & Transport', \n",
    "                               element='Offshore wind park',\n",
    "                               component='Turbine')\n",
    "turbine_data['depreciation_rate']=1/turbine_data['economic_lifetime']\n",
    "display(turbine_data)"
   ]
  },
  {
   "cell_type": "code",
   "execution_count": 46,
   "id": "a1b0e25d",
   "metadata": {},
   "outputs": [],
   "source": [
    "Turbine = Object(**turbine_data)\n",
    "# hier heb je alleen het object met inputs"
   ]
  },
  {
   "cell_type": "code",
   "execution_count": 47,
   "id": "282865cc",
   "metadata": {},
   "outputs": [],
   "source": [
    "Turbine.generate_cashflows(startyear=2023, lifecycle=30, debug=False)\n",
    "# na deze regel heeft Turbine.df (dataframe met alleen Capex, Opex en Residuals)"
   ]
  },
  {
   "cell_type": "code",
   "execution_count": 48,
   "id": "ca2915b2",
   "metadata": {},
   "outputs": [
    {
     "data": {
      "text/plain": [
       "{'sub_system': 'Wind energy source & Transport',\n",
       " 'element': 'Offshore wind park',\n",
       " 'component': 'Foundation & cable',\n",
       " 'escalation_base_year': 2023,\n",
       " 'escalation_rate': 0.02,\n",
       " 'capex_per_unit': 2691000,\n",
       " 'capex_per_unit_units': 'EUR / MW',\n",
       " 'unit': 3000,\n",
       " 'unit_units': 'MW',\n",
       " 'construction_duration': 3,\n",
       " 'share_of_investments': [0.2, 0.4, 0.4],\n",
       " 'economic_lifetime': 30,\n",
       " 'depreciation_flag': 1,\n",
       " 'depreciation_rate': 0.03,\n",
       " 'yearly_variable_costs_flag': 1,\n",
       " 'yearly_variable_costs_rate': 0.03,\n",
       " 'insurance_flag': 1,\n",
       " 'insurance_rate': 0.005,\n",
       " 'decommissioning_rate': 0.02,\n",
       " 'residual_value': 0.01}"
      ]
     },
     "metadata": {},
     "output_type": "display_data"
    }
   ],
   "source": [
    "foundation_data = get_object_data(Inputs=Inputs, \n",
    "                               subsystem='Wind energy source & Transport', \n",
    "                               element='Offshore wind park',\n",
    "                               component='Foundation & cable')\n",
    "foundation_data['depreciation_rate']==1/foundation_data['economic_lifetime']\n",
    "display(foundation_data)"
   ]
  },
  {
   "cell_type": "code",
   "execution_count": 49,
   "id": "5874d285",
   "metadata": {},
   "outputs": [],
   "source": [
    "Foundation = Object(**foundation_data)\n",
    "# hier heb je alleen het object met inputs"
   ]
  },
  {
   "cell_type": "code",
   "execution_count": 50,
   "id": "0b4be3bf",
   "metadata": {},
   "outputs": [],
   "source": [
    "Foundation.generate_cashflows(startyear=2023, lifecycle=30, debug=False)\n",
    "# na deze regel heeft Turbine.df (dataframe met alleen Capex, Opex en Residuals)"
   ]
  },
  {
   "attachments": {},
   "cell_type": "markdown",
   "id": "177dbb3d",
   "metadata": {},
   "source": [
    "#####  2. Test values - Turbines\n",
    "##### 2.1 - CAPEX values"
   ]
  },
  {
   "cell_type": "code",
   "execution_count": 51,
   "id": "145a9163",
   "metadata": {},
   "outputs": [],
   "source": [
    "MTBS_values = {'years': [2023, 2024, 2025], \n",
    "               'values': [-914940000, -1866477600, -1903807151]}"
   ]
  },
  {
   "cell_type": "code",
   "execution_count": 52,
   "id": "72b197f5",
   "metadata": {},
   "outputs": [
    {
     "name": "stdout",
     "output_type": "stream",
     "text": [
      "CAPEX value testing in 2023: MTBS: -914940000 TUD/VO: -914940000.0\n",
      "CAPEX value testing in 2024: MTBS: -1866477600 TUD/VO: -1866477600.0\n",
      "CAPEX value testing in 2025: MTBS: -1903807151 TUD/VO: -1903807151.9999998\n"
     ]
    }
   ],
   "source": [
    "for index, year in enumerate(MTBS_values['years']):\n",
    "    \n",
    "    print('CAPEX value testing in {}: MTBS: {} TUD/VO: {}'.format(year, MTBS_values['values'][index], Turbine.df[Turbine.df.index==year].capex.item()))\n",
    "    np.testing.assert_almost_equal(MTBS_values['values'][index],  Turbine.df[Turbine.df.index==year].capex.item(), 0)"
   ]
  },
  {
   "cell_type": "markdown",
   "id": "7e646293",
   "metadata": {},
   "source": [
    "##### 2.2 - OPEX values"
   ]
  },
  {
   "cell_type": "code",
   "execution_count": 53,
   "id": "f050fba9",
   "metadata": {},
   "outputs": [],
   "source": [
    "MTBS_values = {'years': [2026, 2027, 2028, 2029, 2030, 2031, 2032, 2033, 2034, 2035, 2036, 2037, 2038, 2039, 2040, 2041, 2042, 2043, 2044, 2045, 2046, 2047, 2048, 2049, 2050, 2051, 2052, 2053],\n",
    "               'values': [-177500328.19374883, -181050334.75762382, -184671341.4527763, -188364768.28183183, -192132063.64746848, -195974704.92041785, -199894199.01882622, -203892082.99920273, -207969924.65918678, -212129323.1523705, -216371909.61541796, -220699347.80772632, -225113334.76388085, -229615601.45915848, -234207913.48834166, -238892071.75810847, -243669913.19327065, -248543311.4571361, -253514177.68627882, -258584461.2400044, -263756150.4648045, -269031273.4741006, -274411898.9435826, -279900136.92245424, -285498139.66090333, -291208102.4541214, -297032264.50320387, -302972909.7932679]}"
   ]
  },
  {
   "cell_type": "code",
   "execution_count": 54,
   "id": "ecb03db9",
   "metadata": {},
   "outputs": [
    {
     "name": "stdout",
     "output_type": "stream",
     "text": [
      "Opex value testing in 2026: MTBS: -177500328.19374883 TUD/VO: -177500328.19374883\n",
      "Opex value testing in 2027: MTBS: -181050334.75762382 TUD/VO: -181050334.75762382\n",
      "Opex value testing in 2028: MTBS: -184671341.4527763 TUD/VO: -184671341.4527763\n",
      "Opex value testing in 2029: MTBS: -188364768.28183183 TUD/VO: -188364768.28183183\n",
      "Opex value testing in 2030: MTBS: -192132063.64746848 TUD/VO: -192132063.64746848\n",
      "Opex value testing in 2031: MTBS: -195974704.92041785 TUD/VO: -195974704.92041785\n",
      "Opex value testing in 2032: MTBS: -199894199.01882622 TUD/VO: -199894199.01882622\n",
      "Opex value testing in 2033: MTBS: -203892082.99920273 TUD/VO: -203892082.99920273\n",
      "Opex value testing in 2034: MTBS: -207969924.65918678 TUD/VO: -207969924.65918678\n",
      "Opex value testing in 2035: MTBS: -212129323.1523705 TUD/VO: -212129323.1523705\n",
      "Opex value testing in 2036: MTBS: -216371909.61541796 TUD/VO: -216371909.61541796\n",
      "Opex value testing in 2037: MTBS: -220699347.80772632 TUD/VO: -220699347.80772632\n",
      "Opex value testing in 2038: MTBS: -225113334.76388085 TUD/VO: -225113334.76388085\n",
      "Opex value testing in 2039: MTBS: -229615601.45915848 TUD/VO: -229615601.45915848\n",
      "Opex value testing in 2040: MTBS: -234207913.48834166 TUD/VO: -234207913.48834166\n",
      "Opex value testing in 2041: MTBS: -238892071.75810847 TUD/VO: -238892071.75810847\n",
      "Opex value testing in 2042: MTBS: -243669913.19327065 TUD/VO: -243669913.19327065\n",
      "Opex value testing in 2043: MTBS: -248543311.4571361 TUD/VO: -248543311.4571361\n",
      "Opex value testing in 2044: MTBS: -253514177.68627882 TUD/VO: -253514177.68627882\n",
      "Opex value testing in 2045: MTBS: -258584461.2400044 TUD/VO: -258584461.2400044\n",
      "Opex value testing in 2046: MTBS: -263756150.4648045 TUD/VO: -263756150.4648045\n",
      "Opex value testing in 2047: MTBS: -269031273.4741006 TUD/VO: -269031273.4741006\n",
      "Opex value testing in 2048: MTBS: -274411898.9435826 TUD/VO: -274411898.9435826\n",
      "Opex value testing in 2049: MTBS: -279900136.92245424 TUD/VO: -279900136.92245424\n",
      "Opex value testing in 2050: MTBS: -285498139.66090333 TUD/VO: -285498139.66090333\n",
      "Opex value testing in 2051: MTBS: -291208102.4541214 TUD/VO: -291208102.4541214\n",
      "Opex value testing in 2052: MTBS: -297032264.50320387 TUD/VO: -297032264.50320387\n",
      "Opex value testing in 2053: MTBS: -302972909.7932679 TUD/VO: -302972909.7932679\n"
     ]
    }
   ],
   "source": [
    "for index, year in enumerate(MTBS_values['years']):\n",
    "    \n",
    "    print('Opex value testing in {}: MTBS: {} TUD/VO: {}'.format(year, MTBS_values['values'][index], Turbine.df[Turbine.df.index==year].opex.item()))\n",
    "    np.testing.assert_almost_equal(MTBS_values['values'][index],  Turbine.df[Turbine.df.index==year].opex.item(), 0)"
   ]
  },
  {
   "cell_type": "markdown",
   "id": "03327417",
   "metadata": {},
   "source": [
    "##### 2.3 - Decommissioning\n"
   ]
  },
  {
   "cell_type": "code",
   "execution_count": 55,
   "id": "b42cc65a",
   "metadata": {},
   "outputs": [],
   "source": [
    "MTBS_values = {'years': [2053],\n",
    "               'values': [-4685224752.0  * Turbine.decommissioning_rate * 1.847588815785422]}"
   ]
  },
  {
   "cell_type": "code",
   "execution_count": 56,
   "id": "9cbafcff",
   "metadata": {},
   "outputs": [
    {
     "name": "stdout",
     "output_type": "stream",
     "text": [
      "Decommissioning value testing in 2053: MTBS: -173127377.02472454 TUD/VO: -173127377.02472454\n"
     ]
    }
   ],
   "source": [
    "for index, year in enumerate(MTBS_values['years']):\n",
    "    \n",
    "    print('Decommissioning value testing in {}: MTBS: {} TUD/VO: {}'.format(year, MTBS_values['values'][index], Turbine.df[Turbine.df.index==year].capex.item()))\n",
    "    np.testing.assert_almost_equal(MTBS_values['values'][index],  Turbine.df[Turbine.df.index==year].capex.item(), 0)"
   ]
  },
  {
   "cell_type": "markdown",
   "id": "5f40ea36",
   "metadata": {},
   "source": [
    "##### 2.4 - Residual value"
   ]
  },
  {
   "cell_type": "code",
   "execution_count": 61,
   "id": "03fcc534",
   "metadata": {},
   "outputs": [],
   "source": [
    "MTBS_values = {'years': [2053],\n",
    "               'values': [865636885.1236223]}"
   ]
  },
  {
   "cell_type": "code",
   "execution_count": 62,
   "id": "2befb4d2",
   "metadata": {},
   "outputs": [
    {
     "name": "stdout",
     "output_type": "stream",
     "text": [
      "Residual value testing in 2053: MTBS: 865636885.1236223 TUD/VO: 865636885.1236223\n"
     ]
    }
   ],
   "source": [
    "for index, year in enumerate(MTBS_values['years']):\n",
    "    \n",
    "    print('Residual value testing in {}: MTBS: {} TUD/VO: {}'.format(year, MTBS_values['values'][index], Turbine.df[Turbine.df.index==year].revenue.item()))\n",
    "    np.testing.assert_almost_equal(MTBS_values['values'][index],  Turbine.df[Turbine.df.index==year].revenue.item(), 0)"
   ]
  },
  {
   "cell_type": "markdown",
   "id": "229b86bb",
   "metadata": {},
   "source": [
    "#####  3. Test values - Foundations and cables\n",
    "##### 3.1 - CAPEX values"
   ]
  },
  {
   "cell_type": "code",
   "execution_count": 64,
   "id": "9f5243b4",
   "metadata": {},
   "outputs": [],
   "source": [
    "MTBS_values = {'years': [2023, 2024, 2025], \n",
    "               'values': [-914940000, -1866477600, -1903807151]}"
   ]
  },
  {
   "cell_type": "code",
   "execution_count": 65,
   "id": "290c431f",
   "metadata": {},
   "outputs": [
    {
     "name": "stdout",
     "output_type": "stream",
     "text": [
      "CAPEX value testing in 2023: MTBS: -914940000 TUD/VO: -1646892000.0\n"
     ]
    },
    {
     "ename": "AssertionError",
     "evalue": "\nArrays are not almost equal to 0 decimals\n ACTUAL: -914940000\n DESIRED: -1646892000.0",
     "output_type": "error",
     "traceback": [
      "\u001b[1;31m---------------------------------------------------------------------------\u001b[0m",
      "\u001b[1;31mAssertionError\u001b[0m                            Traceback (most recent call last)",
      "Input \u001b[1;32mIn [65]\u001b[0m, in \u001b[0;36m<cell line: 1>\u001b[1;34m()\u001b[0m\n\u001b[0;32m      1\u001b[0m \u001b[38;5;28;01mfor\u001b[39;00m index, year \u001b[38;5;129;01min\u001b[39;00m \u001b[38;5;28menumerate\u001b[39m(MTBS_values[\u001b[38;5;124m'\u001b[39m\u001b[38;5;124myears\u001b[39m\u001b[38;5;124m'\u001b[39m]):\n\u001b[0;32m      3\u001b[0m     \u001b[38;5;28mprint\u001b[39m(\u001b[38;5;124m'\u001b[39m\u001b[38;5;124mCAPEX value testing in \u001b[39m\u001b[38;5;132;01m{}\u001b[39;00m\u001b[38;5;124m: MTBS: \u001b[39m\u001b[38;5;132;01m{}\u001b[39;00m\u001b[38;5;124m TUD/VO: \u001b[39m\u001b[38;5;132;01m{}\u001b[39;00m\u001b[38;5;124m'\u001b[39m\u001b[38;5;241m.\u001b[39mformat(year, MTBS_values[\u001b[38;5;124m'\u001b[39m\u001b[38;5;124mvalues\u001b[39m\u001b[38;5;124m'\u001b[39m][index], Foundation\u001b[38;5;241m.\u001b[39mdf[Foundation\u001b[38;5;241m.\u001b[39mdf\u001b[38;5;241m.\u001b[39mindex\u001b[38;5;241m==\u001b[39myear]\u001b[38;5;241m.\u001b[39mcapex\u001b[38;5;241m.\u001b[39mitem()))\n\u001b[1;32m----> 4\u001b[0m     \u001b[43mnp\u001b[49m\u001b[38;5;241;43m.\u001b[39;49m\u001b[43mtesting\u001b[49m\u001b[38;5;241;43m.\u001b[39;49m\u001b[43massert_almost_equal\u001b[49m\u001b[43m(\u001b[49m\u001b[43mMTBS_values\u001b[49m\u001b[43m[\u001b[49m\u001b[38;5;124;43m'\u001b[39;49m\u001b[38;5;124;43mvalues\u001b[39;49m\u001b[38;5;124;43m'\u001b[39;49m\u001b[43m]\u001b[49m\u001b[43m[\u001b[49m\u001b[43mindex\u001b[49m\u001b[43m]\u001b[49m\u001b[43m,\u001b[49m\u001b[43m  \u001b[49m\u001b[43mFoundation\u001b[49m\u001b[38;5;241;43m.\u001b[39;49m\u001b[43mdf\u001b[49m\u001b[43m[\u001b[49m\u001b[43mFoundation\u001b[49m\u001b[38;5;241;43m.\u001b[39;49m\u001b[43mdf\u001b[49m\u001b[38;5;241;43m.\u001b[39;49m\u001b[43mindex\u001b[49m\u001b[38;5;241;43m==\u001b[39;49m\u001b[43myear\u001b[49m\u001b[43m]\u001b[49m\u001b[38;5;241;43m.\u001b[39;49m\u001b[43mcapex\u001b[49m\u001b[38;5;241;43m.\u001b[39;49m\u001b[43mitem\u001b[49m\u001b[43m(\u001b[49m\u001b[43m)\u001b[49m\u001b[43m,\u001b[49m\u001b[43m \u001b[49m\u001b[38;5;241;43m0\u001b[39;49m\u001b[43m)\u001b[49m\n",
      "File \u001b[1;32m~\\Anaconda3\\envs\\gdal\\lib\\site-packages\\numpy\\testing\\_private\\utils.py:599\u001b[0m, in \u001b[0;36massert_almost_equal\u001b[1;34m(actual, desired, decimal, err_msg, verbose)\u001b[0m\n\u001b[0;32m    597\u001b[0m     \u001b[38;5;28;01mpass\u001b[39;00m\n\u001b[0;32m    598\u001b[0m \u001b[38;5;28;01mif\u001b[39;00m \u001b[38;5;28mabs\u001b[39m(desired \u001b[38;5;241m-\u001b[39m actual) \u001b[38;5;241m>\u001b[39m\u001b[38;5;241m=\u001b[39m \u001b[38;5;241m1.5\u001b[39m \u001b[38;5;241m*\u001b[39m \u001b[38;5;241m10.0\u001b[39m\u001b[38;5;241m*\u001b[39m\u001b[38;5;241m*\u001b[39m(\u001b[38;5;241m-\u001b[39mdecimal):\n\u001b[1;32m--> 599\u001b[0m     \u001b[38;5;28;01mraise\u001b[39;00m \u001b[38;5;167;01mAssertionError\u001b[39;00m(_build_err_msg())\n",
      "\u001b[1;31mAssertionError\u001b[0m: \nArrays are not almost equal to 0 decimals\n ACTUAL: -914940000\n DESIRED: -1646892000.0"
     ]
    }
   ],
   "source": [
    "for index, year in enumerate(MTBS_values['years']):\n",
    "    \n",
    "    print('CAPEX value testing in {}: MTBS: {} TUD/VO: {}'.format(year, MTBS_values['values'][index], Foundation.df[Foundation.df.index==year].capex.item()))\n",
    "    np.testing.assert_almost_equal(MTBS_values['values'][index],  Foundation.df[Foundation.df.index==year].capex.item(), 0)"
   ]
  },
  {
   "cell_type": "markdown",
   "id": "b5657a22",
   "metadata": {},
   "source": [
    "##### 3.2 - OPEX values"
   ]
  },
  {
   "cell_type": "code",
   "execution_count": null,
   "id": "c2dd336c",
   "metadata": {},
   "outputs": [],
   "source": [
    "MTBS_values = {'years': [2026, 2027, 2028, 2029, 2030, 2031, 2032, 2033, 2034, 2035, 2036, 2037, 2038, 2039, 2040, 2041, 2042, 2043, 2044, 2045, 2046, 2047, 2048, 2049, 2050, 2051, 2052, 2053],\n",
    "               'values': [-177500328.19374883, -181050334.75762382, -184671341.4527763, -188364768.28183183, -192132063.64746848, -195974704.92041785, -199894199.01882622, -203892082.99920273, -207969924.65918678, -212129323.1523705, -216371909.61541796, -220699347.80772632, -225113334.76388085, -229615601.45915848, -234207913.48834166, -238892071.75810847, -243669913.19327065, -248543311.4571361, -253514177.68627882, -258584461.2400044, -263756150.4648045, -269031273.4741006, -274411898.9435826, -279900136.92245424, -285498139.66090333, -291208102.4541214, -297032264.50320387, -302972909.7932679]}"
   ]
  },
  {
   "cell_type": "code",
   "execution_count": null,
   "id": "e8e4334a",
   "metadata": {},
   "outputs": [],
   "source": [
    "for index, year in enumerate(MTBS_values['years']):\n",
    "    \n",
    "    print('Opex value testing in {}: MTBS: {} TUD/VO: {}'.format(year, MTBS_values['values'][index], Foundation.df[Foundation.df.index==year].opex.item()))\n",
    "    np.testing.assert_almost_equal(MTBS_values['values'][index],  Foundation.df[Foundation.df.index==year].opex.item(), 0)"
   ]
  },
  {
   "cell_type": "markdown",
   "id": "24866453",
   "metadata": {},
   "source": [
    "##### 3.3 - Decommissioning\n"
   ]
  },
  {
   "cell_type": "code",
   "execution_count": null,
   "id": "69eb9665",
   "metadata": {},
   "outputs": [],
   "source": [
    "MTBS_values = {'years': [2053],\n",
    "               'values': [-4685224752.0  * Turbine.decommissioning_rate * 1.847588815785422]}"
   ]
  },
  {
   "cell_type": "code",
   "execution_count": null,
   "id": "10b557a2",
   "metadata": {},
   "outputs": [],
   "source": [
    "for index, year in enumerate(MTBS_values['years']):\n",
    "    \n",
    "    print('Residual value testing in {}: MTBS: {} TUD/VO: {}'.format(year, MTBS_values['values'][index], Turbine.df[Turbine.df.index==year].revenue.item()))\n",
    "    np.testing.assert_almost_equal(MTBS_values['values'][index],  Turbine.df[Turbine.df.index==year].revenue.item(), 0)"
   ]
  },
  {
   "cell_type": "markdown",
   "id": "05561aa7",
   "metadata": {},
   "source": [
    "##### 2.4 - Residual value"
   ]
  },
  {
   "cell_type": "code",
   "execution_count": null,
   "id": "c2b29c5b",
   "metadata": {},
   "outputs": [],
   "source": [
    "MTBS_values = {'years': [2053],\n",
    "               'values': [865636885.1236223]}"
   ]
  },
  {
   "cell_type": "code",
   "execution_count": null,
   "id": "152b191a",
   "metadata": {},
   "outputs": [],
   "source": []
  }
 ],
 "metadata": {
  "kernelspec": {
   "display_name": "Python 3 (ipykernel)",
   "language": "python",
   "name": "python3"
  },
  "language_info": {
   "codemirror_mode": {
    "name": "ipython",
    "version": 3
   },
   "file_extension": ".py",
   "mimetype": "text/x-python",
   "name": "python",
   "nbconvert_exporter": "python",
   "pygments_lexer": "ipython3",
   "version": "3.9.12"
  }
 },
 "nbformat": 4,
 "nbformat_minor": 5
}
