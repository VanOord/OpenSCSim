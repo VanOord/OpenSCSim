{
 "cells": [
  {
   "cell_type": "markdown",
   "id": "6bb113ce",
   "metadata": {},
   "source": [
    "#### 0. Import basic methods (a.o. from source2.py)"
   ]
  },
  {
   "cell_type": "code",
   "execution_count": 1,
   "id": "f9fd7be4",
   "metadata": {},
   "outputs": [],
   "source": [
    "from source2 import *\n",
    "import numpy as np"
   ]
  },
  {
   "cell_type": "code",
   "execution_count": 2,
   "id": "ec38e936",
   "metadata": {},
   "outputs": [],
   "source": [
    "# load basic info from the Input sheet\n",
    "mapping = load_input_from_xls(filename=r'H2 Model - Input sheet.xlsm')\n",
    "Inputs = extract_scenario(mapping, 'Scenario1')"
   ]
  },
  {
   "cell_type": "markdown",
   "id": "89024b92",
   "metadata": {},
   "source": [
    "##### 1. prepare input data and generate objects\n",
    "We are testing the following case:"
   ]
  },
  {
   "cell_type": "code",
   "execution_count": 3,
   "id": "129f3e46",
   "metadata": {},
   "outputs": [
    {
     "name": "stdout",
     "output_type": "stream",
     "text": [
      "issue detected\n"
     ]
    },
    {
     "data": {
      "text/plain": [
       "{'sub_system': 'Wind energy source & Transport',\n",
       " 'element': 'Offshore wind park',\n",
       " 'component': 'Turbine',\n",
       " 'escalation_base_year': 2023,\n",
       " 'escalation_rate': 0.02,\n",
       " 'capex_per_unit': 1495000,\n",
       " 'capex_per_unit_units': 'EUR / MW',\n",
       " 'unit': 3000,\n",
       " 'unit_units': 'MW',\n",
       " 'construction_duration': 3,\n",
       " 'share_of_investments': [0.2, 0.4, 0.4],\n",
       " 'economic_lifetime': 30,\n",
       " 'depreciation_flag': 1,\n",
       " 'depreciation_rate': [],\n",
       " 'yearly_variable_costs_flag': 1,\n",
       " 'yearly_variable_costs_rate': 0.03,\n",
       " 'insurance_flag': 1,\n",
       " 'insurance_rate': 0.005,\n",
       " 'decommissioning_rate': 0.02,\n",
       " 'residual_value': 0.01}"
      ]
     },
     "metadata": {},
     "output_type": "display_data"
    }
   ],
   "source": [
    "turbine_data = get_object_data(Inputs=Inputs, \n",
    "                               subsystem='Wind energy source & Transport', \n",
    "                               element='Offshore wind park',\n",
    "                               component='Turbine')\n",
    "display(turbine_data)"
   ]
  },
  {
   "cell_type": "code",
   "execution_count": 4,
   "id": "a1b0e25d",
   "metadata": {},
   "outputs": [],
   "source": [
    "Turbine = Object(**turbine_data)\n",
    "# hier heb je alleen het object met inputs"
   ]
  },
  {
   "cell_type": "code",
   "execution_count": 5,
   "id": "89b6fa3f",
   "metadata": {},
   "outputs": [
    {
     "data": {
      "text/plain": [
       "'Escalation years: [2023, 2024, 2025, 2026, 2027, 2028, 2029, 2030, 2031, 2032, 2033, 2034, 2035, 2036, 2037, 2038, 2039, 2040, 2041, 2042, 2043, 2044, 2045, 2046, 2047, 2048, 2049, 2050, 2051, 2052, 2053]'"
      ]
     },
     "metadata": {},
     "output_type": "display_data"
    },
    {
     "data": {
      "text/plain": [
       "'Escalation values: [1.02, 1.0404, 1.061208, 1.08243216, 1.1040808032, 1.126162419264, 1.14868566764928, 1.1716593810022657, 1.195092568622311, 1.2189944199947573, 1.2433743083946525, 1.2682417945625455, 1.2936066304537963, 1.3194787630628724, 1.3458683383241299, 1.3727857050906125, 1.4002414191924248, 1.4282462475762734, 1.4568111725277988, 1.485947395978355, 1.515666343897922, 1.5459796707758806, 1.5768992641913981, 1.6084372494752261, 1.6406059944647307, 1.6734181143540252, 1.7068864766411058, 1.741024206173928, 1.7758446902974065, 1.8113615841033548, 1.847588815785422]'"
      ]
     },
     "metadata": {},
     "output_type": "display_data"
    },
    {
     "data": {
      "text/plain": [
       "'CAPEX years: [2023, 2024, 2025]'"
      ]
     },
     "metadata": {},
     "output_type": "display_data"
    },
    {
     "data": {
      "text/plain": [
       "'CAPEX values: [-897000000.0, -1794000000.0, -1794000000.0]'"
      ]
     },
     "metadata": {},
     "output_type": "display_data"
    },
    {
     "data": {
      "text/plain": [
       "'summed_escalated_capex: -4685224752.0'"
      ]
     },
     "metadata": {},
     "output_type": "display_data"
    },
    {
     "name": "stdout",
     "output_type": "stream",
     "text": [
      "decommmissioning in 2053\n",
      "Residual value 0.0\n"
     ]
    },
    {
     "data": {
      "text/plain": [
       "'CAPEX years escalated: [2023, 2024, 2025, 2053]'"
      ]
     },
     "metadata": {},
     "output_type": "display_data"
    },
    {
     "data": {
      "text/plain": [
       "'CAPEX values escalated: [-914940000.0, -1866477600.0, -1903807151.9999998, -173127377.02472454]'"
      ]
     },
     "metadata": {},
     "output_type": "display_data"
    },
    {
     "data": {
      "text/plain": [
       "'OPEX value: -163982866.32'"
      ]
     },
     "metadata": {},
     "output_type": "display_data"
    },
    {
     "data": {
      "text/plain": [
       "'OPEX years escalated: [2026, 2027, 2028, 2029, 2030, 2031, 2032, 2033, 2034, 2035, 2036, 2037, 2038, 2039, 2040, 2041, 2042, 2043, 2044, 2045, 2046, 2047, 2048, 2049, 2050, 2051, 2052, 2053]'"
      ]
     },
     "metadata": {},
     "output_type": "display_data"
    },
    {
     "data": {
      "text/plain": [
       "'OPEX values escalated: [-177500328.19374883, -181050334.75762382, -184671341.4527763, -188364768.28183183, -192132063.64746848, -195974704.92041785, -199894199.01882622, -203892082.99920273, -207969924.65918678, -212129323.1523705, -216371909.61541796, -220699347.80772632, -225113334.76388085, -229615601.45915848, -234207913.48834166, -238892071.75810847, -243669913.19327065, -248543311.4571361, -253514177.68627882, -258584461.2400044, -263756150.4648045, -269031273.4741006, -274411898.9435826, -279900136.92245424, -285498139.66090333, -291208102.4541214, -297032264.50320387, -302972909.7932679]'"
      ]
     },
     "metadata": {},
     "output_type": "display_data"
    }
   ],
   "source": [
    "Turbine.generate_cashflows(startyear=2023, lifecycle=30, debug=True)\n",
    "# na deze regel heeft Turbine.df (dataframe met alleen Capex, Opex en Residuals)"
   ]
  },
  {
   "attachments": {},
   "cell_type": "markdown",
   "id": "20bd743f",
   "metadata": {},
   "source": [
    "#####  2. Test value\n",
    "##### 2.1 - CAPEX values"
   ]
  },
  {
   "cell_type": "code",
   "execution_count": 6,
   "id": "e321c4ac",
   "metadata": {},
   "outputs": [],
   "source": [
    "MTBS_values = {'years': [2023, 2024, 2025], \n",
    "               'values': [-914940000, -1866477600, -1903807151]}"
   ]
  },
  {
   "cell_type": "code",
   "execution_count": 9,
   "id": "8fb9334d",
   "metadata": {},
   "outputs": [
    {
     "name": "stdout",
     "output_type": "stream",
     "text": [
      "Value in 2023: MTBS: -914940000 TUD/VO: -914940000.0\n",
      "Value in 2024: MTBS: -1866477600 TUD/VO: -1866477600.0\n",
      "Value in 2025: MTBS: -1903807151 TUD/VO: -1903807151.9999998\n"
     ]
    }
   ],
   "source": [
    "for index, year in enumerate(MTBS_values['years']):\n",
    "    \n",
    "    print('Value in {}: MTBS: {} TUD/VO: {}'.format(year, MTBS_values['values'][index], Turbine.df[Turbine.df.index==year].capex.item()))\n",
    "    np.testing.assert_almost_equal(MTBS_values['values'][index],  Turbine.df[Turbine.df.index==year].capex.item(), 0)"
   ]
  },
  {
   "cell_type": "markdown",
   "id": "e53f8a62",
   "metadata": {},
   "source": [
    "##### 2.2 - OPEX values"
   ]
  },
  {
   "cell_type": "code",
   "execution_count": 14,
   "id": "286a1b84",
   "metadata": {},
   "outputs": [],
   "source": [
    "MTBS_values = {'years': [2026, 2027, 2028, 2029, 2030, 2031, 2032, 2033, 2034, 2035, 2036, 2037, 2038, 2039, 2040, 2041, 2042, 2043, 2044, 2045, 2046, 2047, 2048, 2049, 2050, 2051, 2052, 2053],\n",
    "               'values': [-177500328.19374883, -181050334.75762382, -184671341.4527763, -188364768.28183183, -192132063.64746848, -195974704.92041785, -199894199.01882622, -203892082.99920273, -207969924.65918678, -212129323.1523705, -216371909.61541796, -220699347.80772632, -225113334.76388085, -229615601.45915848, -234207913.48834166, -238892071.75810847, -243669913.19327065, -248543311.4571361, -253514177.68627882, -258584461.2400044, -263756150.4648045, -269031273.4741006, -274411898.9435826, -279900136.92245424, -285498139.66090333, -291208102.4541214, -297032264.50320387, -302972909.7932679]}"
   ]
  },
  {
   "cell_type": "code",
   "execution_count": 15,
   "id": "451f24f8",
   "metadata": {},
   "outputs": [
    {
     "name": "stdout",
     "output_type": "stream",
     "text": [
      "Value in 2026: MTBS: -177500328.19374883 TUD/VO: -177500328.19374883\n",
      "Value in 2027: MTBS: -181050334.75762382 TUD/VO: -181050334.75762382\n",
      "Value in 2028: MTBS: -184671341.4527763 TUD/VO: -184671341.4527763\n",
      "Value in 2029: MTBS: -188364768.28183183 TUD/VO: -188364768.28183183\n",
      "Value in 2030: MTBS: -192132063.64746848 TUD/VO: -192132063.64746848\n",
      "Value in 2031: MTBS: -195974704.92041785 TUD/VO: -195974704.92041785\n",
      "Value in 2032: MTBS: -199894199.01882622 TUD/VO: -199894199.01882622\n",
      "Value in 2033: MTBS: -203892082.99920273 TUD/VO: -203892082.99920273\n",
      "Value in 2034: MTBS: -207969924.65918678 TUD/VO: -207969924.65918678\n",
      "Value in 2035: MTBS: -212129323.1523705 TUD/VO: -212129323.1523705\n",
      "Value in 2036: MTBS: -216371909.61541796 TUD/VO: -216371909.61541796\n",
      "Value in 2037: MTBS: -220699347.80772632 TUD/VO: -220699347.80772632\n",
      "Value in 2038: MTBS: -225113334.76388085 TUD/VO: -225113334.76388085\n",
      "Value in 2039: MTBS: -229615601.45915848 TUD/VO: -229615601.45915848\n",
      "Value in 2040: MTBS: -234207913.48834166 TUD/VO: -234207913.48834166\n",
      "Value in 2041: MTBS: -238892071.75810847 TUD/VO: -238892071.75810847\n",
      "Value in 2042: MTBS: -243669913.19327065 TUD/VO: -243669913.19327065\n",
      "Value in 2043: MTBS: -248543311.4571361 TUD/VO: -248543311.4571361\n",
      "Value in 2044: MTBS: -253514177.68627882 TUD/VO: -253514177.68627882\n",
      "Value in 2045: MTBS: -258584461.2400044 TUD/VO: -258584461.2400044\n",
      "Value in 2046: MTBS: -263756150.4648045 TUD/VO: -263756150.4648045\n",
      "Value in 2047: MTBS: -269031273.4741006 TUD/VO: -269031273.4741006\n",
      "Value in 2048: MTBS: -274411898.9435826 TUD/VO: -274411898.9435826\n",
      "Value in 2049: MTBS: -279900136.92245424 TUD/VO: -279900136.92245424\n",
      "Value in 2050: MTBS: -285498139.66090333 TUD/VO: -285498139.66090333\n",
      "Value in 2051: MTBS: -291208102.4541214 TUD/VO: -291208102.4541214\n",
      "Value in 2052: MTBS: -297032264.50320387 TUD/VO: -297032264.50320387\n",
      "Value in 2053: MTBS: -302972909.7932679 TUD/VO: -302972909.7932679\n"
     ]
    }
   ],
   "source": [
    "for index, year in enumerate(MTBS_values['years']):\n",
    "    \n",
    "    print('Value in {}: MTBS: {} TUD/VO: {}'.format(year, MTBS_values['values'][index], Turbine.df[Turbine.df.index==year].opex.item()))\n",
    "    np.testing.assert_almost_equal(MTBS_values['values'][index],  Turbine.df[Turbine.df.index==year].opex.item(), 0)"
   ]
  },
  {
   "cell_type": "markdown",
   "id": "b07321b5",
   "metadata": {},
   "source": [
    "##### 2.2 - Residual value"
   ]
  },
  {
   "cell_type": "code",
   "execution_count": null,
   "id": "00b36091",
   "metadata": {},
   "outputs": [],
   "source": []
  }
 ],
 "metadata": {
  "kernelspec": {
   "display_name": "Python 3 (ipykernel)",
   "language": "python",
   "name": "python3"
  },
  "language_info": {
   "codemirror_mode": {
    "name": "ipython",
    "version": 3
   },
   "file_extension": ".py",
   "mimetype": "text/x-python",
   "name": "python",
   "nbconvert_exporter": "python",
   "pygments_lexer": "ipython3",
   "version": "3.9.12"
  }
 },
 "nbformat": 4,
 "nbformat_minor": 5
}
