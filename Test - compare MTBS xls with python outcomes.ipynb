{
 "cells": [
  {
   "cell_type": "markdown",
   "id": "6bb113ce",
   "metadata": {},
   "source": [
    "#### 0. Import basic methods (a.o. from source2.py)"
   ]
  },
  {
   "cell_type": "code",
   "execution_count": 1,
   "id": "f9fd7be4",
   "metadata": {},
   "outputs": [],
   "source": [
    "from source2 import *\n",
    "import numpy as np"
   ]
  },
  {
   "cell_type": "code",
   "execution_count": 2,
   "id": "ec38e936",
   "metadata": {},
   "outputs": [],
   "source": [
    "# load basic info from the Input sheet\n",
    "mapping = load_input_from_xls(filename=r'H2 Model - Input sheet.xlsm')\n",
    "Inputs = extract_scenario(mapping, 'Scenario1')"
   ]
  },
  {
   "cell_type": "markdown",
   "id": "89024b92",
   "metadata": {},
   "source": [
    "##### 1. prepare input data and generate objects\n",
    "We are testing the following cases:\n",
    "##### 1.1 Turbines"
   ]
  },
  {
   "cell_type": "code",
   "execution_count": 3,
   "id": "6e48b814",
   "metadata": {},
   "outputs": [
    {
     "data": {
      "text/plain": [
       "{'sub_system': 'Wind energy source & Transport',\n",
       " 'element': 'Offshore wind park',\n",
       " 'component': 'Turbine',\n",
       " 'escalation_base_year': 2023,\n",
       " 'escalation_rate': 0.02,\n",
       " 'capex_per_unit': 1495000,\n",
       " 'capex_per_unit_units': 'EUR / MW',\n",
       " 'unit': 3000,\n",
       " 'unit_units': 'MW',\n",
       " 'construction_duration': 3,\n",
       " 'share_of_investments': [0.2, 0.4, 0.4],\n",
       " 'economic_lifetime': 30,\n",
       " 'depreciation_flag': 1,\n",
       " 'depreciation_rate': 0.03333333333333333,\n",
       " 'yearly_variable_costs_flag': 1,\n",
       " 'yearly_variable_costs_rate': 0.03,\n",
       " 'insurance_flag': 1,\n",
       " 'insurance_rate': 0.005,\n",
       " 'decommissioning_rate': 0.02,\n",
       " 'residual_value': 0.01}"
      ]
     },
     "metadata": {},
     "output_type": "display_data"
    }
   ],
   "source": [
    "turbine_data = get_object_data(Inputs=Inputs, \n",
    "                               subsystem='Wind energy source & Transport', \n",
    "                               element='Offshore wind park',\n",
    "                               component='Turbine')\n",
    "turbine_data['depreciation_rate']=1/turbine_data['economic_lifetime']\n",
    "display(turbine_data)"
   ]
  },
  {
   "cell_type": "code",
   "execution_count": 4,
   "id": "a1b0e25d",
   "metadata": {},
   "outputs": [],
   "source": [
    "Turbine = Object(**turbine_data)\n",
    "# hier heb je alleen het object met inputs"
   ]
  },
  {
   "cell_type": "code",
   "execution_count": 5,
   "id": "e9773ec1",
   "metadata": {},
   "outputs": [
    {
     "name": "stdout",
     "output_type": "stream",
     "text": [
      "year allready in list so add rather than append\n"
     ]
    }
   ],
   "source": [
    "Turbine.generate_cashflows(startyear=2023, lifecycle=29, debug=False)\n",
    "# na deze regel heeft Turbine.df (dataframe met alleen Capex, Opex en Residuals)"
   ]
  },
  {
   "cell_type": "markdown",
   "id": "67f8ce36",
   "metadata": {},
   "source": [
    "##### 1.2 Foundations and cables"
   ]
  },
  {
   "cell_type": "code",
   "execution_count": 6,
   "id": "b04ea050",
   "metadata": {
    "scrolled": true
   },
   "outputs": [
    {
     "data": {
      "text/plain": [
       "{'sub_system': 'Wind energy source & Transport',\n",
       " 'element': 'Offshore wind park',\n",
       " 'component': 'Foundation & cable',\n",
       " 'escalation_base_year': 2023,\n",
       " 'escalation_rate': 0.02,\n",
       " 'capex_per_unit': 2691000,\n",
       " 'capex_per_unit_units': 'EUR / MW',\n",
       " 'unit': 3000,\n",
       " 'unit_units': 'MW',\n",
       " 'construction_duration': 3,\n",
       " 'share_of_investments': [0.2, 0.4, 0.4],\n",
       " 'economic_lifetime': 30,\n",
       " 'depreciation_flag': 1,\n",
       " 'depreciation_rate': 0.03333333333333333,\n",
       " 'yearly_variable_costs_flag': 1,\n",
       " 'yearly_variable_costs_rate': 0.03,\n",
       " 'insurance_flag': 1,\n",
       " 'insurance_rate': 0.005,\n",
       " 'decommissioning_rate': 0.02,\n",
       " 'residual_value': 0.01}"
      ]
     },
     "metadata": {},
     "output_type": "display_data"
    }
   ],
   "source": [
    "foundation_data = get_object_data(Inputs=Inputs, \n",
    "                               subsystem='Wind energy source & Transport', \n",
    "                               element='Offshore wind park',\n",
    "                               component='Foundation & cable')\n",
    "foundation_data['depreciation_rate']=1/foundation_data['economic_lifetime']\n",
    "display(foundation_data)"
   ]
  },
  {
   "cell_type": "code",
   "execution_count": 7,
   "id": "cf95a8fc",
   "metadata": {},
   "outputs": [],
   "source": [
    "Foundation = Object(**foundation_data)\n",
    "# hier heb je alleen het object met inputs"
   ]
  },
  {
   "cell_type": "code",
   "execution_count": 8,
   "id": "4fbd1661",
   "metadata": {},
   "outputs": [
    {
     "name": "stdout",
     "output_type": "stream",
     "text": [
      "year allready in list so add rather than append\n"
     ]
    }
   ],
   "source": [
    "Foundation.generate_cashflows(startyear=2023, lifecycle=29, debug=False)\n",
    "# na deze regel heeft Turbine.df (dataframe met alleen Capex, Opex en Residuals)"
   ]
  },
  {
   "cell_type": "code",
   "execution_count": 9,
   "id": "b2026527",
   "metadata": {},
   "outputs": [
    {
     "data": {
      "text/html": [
       "<div>\n",
       "<style scoped>\n",
       "    .dataframe tbody tr th:only-of-type {\n",
       "        vertical-align: middle;\n",
       "    }\n",
       "\n",
       "    .dataframe tbody tr th {\n",
       "        vertical-align: top;\n",
       "    }\n",
       "\n",
       "    .dataframe thead th {\n",
       "        text-align: right;\n",
       "    }\n",
       "</style>\n",
       "<table border=\"1\" class=\"dataframe\">\n",
       "  <thead>\n",
       "    <tr style=\"text-align: right;\">\n",
       "      <th></th>\n",
       "      <th>years</th>\n",
       "      <th>capex</th>\n",
       "      <th>opex</th>\n",
       "      <th>revenue</th>\n",
       "    </tr>\n",
       "    <tr>\n",
       "      <th>years</th>\n",
       "      <th></th>\n",
       "      <th></th>\n",
       "      <th></th>\n",
       "      <th></th>\n",
       "    </tr>\n",
       "  </thead>\n",
       "  <tbody>\n",
       "    <tr>\n",
       "      <th>2048</th>\n",
       "      <td>4096</td>\n",
       "      <td>0.000000e+00</td>\n",
       "      <td>-7.683533e+08</td>\n",
       "      <td>0</td>\n",
       "    </tr>\n",
       "    <tr>\n",
       "      <th>2049</th>\n",
       "      <td>4098</td>\n",
       "      <td>0.000000e+00</td>\n",
       "      <td>-7.837204e+08</td>\n",
       "      <td>0</td>\n",
       "    </tr>\n",
       "    <tr>\n",
       "      <th>2050</th>\n",
       "      <td>4100</td>\n",
       "      <td>0.000000e+00</td>\n",
       "      <td>-7.993948e+08</td>\n",
       "      <td>0</td>\n",
       "    </tr>\n",
       "    <tr>\n",
       "      <th>2051</th>\n",
       "      <td>4102</td>\n",
       "      <td>0.000000e+00</td>\n",
       "      <td>-8.153827e+08</td>\n",
       "      <td>0</td>\n",
       "    </tr>\n",
       "    <tr>\n",
       "      <th>2052</th>\n",
       "      <td>4104</td>\n",
       "      <td>1.273899e+09</td>\n",
       "      <td>-8.316903e+08</td>\n",
       "      <td>0</td>\n",
       "    </tr>\n",
       "  </tbody>\n",
       "</table>\n",
       "</div>"
      ],
      "text/plain": [
       "       years         capex          opex  revenue\n",
       "years                                            \n",
       "2048    4096  0.000000e+00 -7.683533e+08        0\n",
       "2049    4098  0.000000e+00 -7.837204e+08        0\n",
       "2050    4100  0.000000e+00 -7.993948e+08        0\n",
       "2051    4102  0.000000e+00 -8.153827e+08        0\n",
       "2052    4104  1.273899e+09 -8.316903e+08        0"
      ]
     },
     "execution_count": 9,
     "metadata": {},
     "output_type": "execute_result"
    }
   ],
   "source": [
    "(Turbine.df+Foundation.df).tail()"
   ]
  },
  {
   "attachments": {},
   "cell_type": "markdown",
   "id": "e7e17dbe",
   "metadata": {},
   "source": [
    "#####  2. Test values - Turbines\n",
    "##### 2.1 - CAPEX values"
   ]
  },
  {
   "cell_type": "code",
   "execution_count": 10,
   "id": "5aee3354",
   "metadata": {},
   "outputs": [],
   "source": [
    "MTBS_values = {'years': [2023, 2024, 2025], \n",
    "               'values': [-914_940_000, -1_866_477_600, -1_903_807_151]}"
   ]
  },
  {
   "cell_type": "code",
   "execution_count": 11,
   "id": "f468dd49",
   "metadata": {},
   "outputs": [
    {
     "name": "stdout",
     "output_type": "stream",
     "text": [
      "CAPEX value testing in 2023: MTBS: -914940000 TUD/VO: -914940000.0\n",
      "CAPEX value testing in 2024: MTBS: -1866477600 TUD/VO: -1866477600.0\n",
      "CAPEX value testing in 2025: MTBS: -1903807151 TUD/VO: -1903807151.9999998\n"
     ]
    }
   ],
   "source": [
    "for index, year in enumerate(MTBS_values['years']):\n",
    "    \n",
    "    print('CAPEX value testing in {}: MTBS: {} TUD/VO: {}'.format(year, MTBS_values['values'][index], Turbine.df[Turbine.df.index==year].capex.item()))\n",
    "    np.testing.assert_almost_equal(MTBS_values['values'][index],  Turbine.df[Turbine.df.index==year].capex.item(), 0)"
   ]
  },
  {
   "cell_type": "markdown",
   "id": "e9bd2ef8",
   "metadata": {},
   "source": [
    "##### 2.2 - OPEX values"
   ]
  },
  {
   "cell_type": "code",
   "execution_count": 12,
   "id": "45178cf4",
   "metadata": {},
   "outputs": [],
   "source": [
    "MTBS_values = {'years': [2026, 2027, 2028, 2029, 2030, 2031, 2032, 2033, 2034, 2035, 2036, 2037, 2038, 2039, 2040, 2041, 2042, 2043, 2044, 2045, 2046, 2047, 2048, 2049, 2050, 2051, 2052],\n",
    "               'values': [-177_500_328, -181_050_335, -184_671_341, -188_364_768, -192_132_064, -195_974_705, -199_894_199, -203_892_083, -207_969_925, -212_129_323, -216_371_910, -220_699_348, -225_113_335, -229_615_601, -234_207_913, -238_892_072, -243_669_913, -248_543_311, -253_514_178, -258_584_461, -263_756_150, -269_031_273, -274_411_899, -279_900_137, -285_498_140, -291_208_102, -297_032_265]}"
   ]
  },
  {
   "cell_type": "code",
   "execution_count": 13,
   "id": "d1402afb",
   "metadata": {},
   "outputs": [
    {
     "name": "stdout",
     "output_type": "stream",
     "text": [
      "Opex value testing in 2026: MTBS: -177500328 TUD/VO: -177500328.19374883\n",
      "Opex value testing in 2027: MTBS: -181050335 TUD/VO: -181050334.75762382\n",
      "Opex value testing in 2028: MTBS: -184671341 TUD/VO: -184671341.4527763\n",
      "Opex value testing in 2029: MTBS: -188364768 TUD/VO: -188364768.28183183\n",
      "Opex value testing in 2030: MTBS: -192132064 TUD/VO: -192132063.64746848\n",
      "Opex value testing in 2031: MTBS: -195974705 TUD/VO: -195974704.92041785\n",
      "Opex value testing in 2032: MTBS: -199894199 TUD/VO: -199894199.01882622\n",
      "Opex value testing in 2033: MTBS: -203892083 TUD/VO: -203892082.99920273\n",
      "Opex value testing in 2034: MTBS: -207969925 TUD/VO: -207969924.65918678\n",
      "Opex value testing in 2035: MTBS: -212129323 TUD/VO: -212129323.1523705\n",
      "Opex value testing in 2036: MTBS: -216371910 TUD/VO: -216371909.61541796\n",
      "Opex value testing in 2037: MTBS: -220699348 TUD/VO: -220699347.80772632\n",
      "Opex value testing in 2038: MTBS: -225113335 TUD/VO: -225113334.76388085\n",
      "Opex value testing in 2039: MTBS: -229615601 TUD/VO: -229615601.45915848\n",
      "Opex value testing in 2040: MTBS: -234207913 TUD/VO: -234207913.48834166\n",
      "Opex value testing in 2041: MTBS: -238892072 TUD/VO: -238892071.75810847\n",
      "Opex value testing in 2042: MTBS: -243669913 TUD/VO: -243669913.19327065\n",
      "Opex value testing in 2043: MTBS: -248543311 TUD/VO: -248543311.4571361\n",
      "Opex value testing in 2044: MTBS: -253514178 TUD/VO: -253514177.68627882\n",
      "Opex value testing in 2045: MTBS: -258584461 TUD/VO: -258584461.2400044\n",
      "Opex value testing in 2046: MTBS: -263756150 TUD/VO: -263756150.4648045\n",
      "Opex value testing in 2047: MTBS: -269031273 TUD/VO: -269031273.4741006\n",
      "Opex value testing in 2048: MTBS: -274411899 TUD/VO: -274411898.9435826\n",
      "Opex value testing in 2049: MTBS: -279900137 TUD/VO: -279900136.92245424\n",
      "Opex value testing in 2050: MTBS: -285498140 TUD/VO: -285498139.66090333\n",
      "Opex value testing in 2051: MTBS: -291208102 TUD/VO: -291208102.4541214\n",
      "Opex value testing in 2052: MTBS: -297032265 TUD/VO: -297032264.50320387\n"
     ]
    }
   ],
   "source": [
    "for index, year in enumerate(MTBS_values['years']):\n",
    "    \n",
    "    print('Opex value testing in {}: MTBS: {} TUD/VO: {}'.format(year, MTBS_values['values'][index], Turbine.df[Turbine.df.index==year].opex.item()))\n",
    "    np.testing.assert_almost_equal(MTBS_values['values'][index],  Turbine.df[Turbine.df.index==year].opex.item(), 0)"
   ]
  },
  {
   "cell_type": "markdown",
   "id": "4d4e2c84",
   "metadata": {},
   "source": [
    "##### 2.3 - Decommissioning + divestment\n"
   ]
  },
  {
   "cell_type": "code",
   "execution_count": 14,
   "id": "9865bfa5",
   "metadata": {},
   "outputs": [],
   "source": [
    "MTBS_values = {'years': [2052],\n",
    "               'values': [-169732722.573259+624696633.5999999]} # decommissioning from MTBS, residual from python"
   ]
  },
  {
   "cell_type": "code",
   "execution_count": 15,
   "id": "0dbbcf3b",
   "metadata": {},
   "outputs": [
    {
     "name": "stdout",
     "output_type": "stream",
     "text": [
      "Decommissioning value testing in 2052: MTBS: 454963911.0267409 TUD/VO: 454963911.02674055\n"
     ]
    }
   ],
   "source": [
    "for index, year in enumerate(MTBS_values['years']):\n",
    "    \n",
    "    print('Decommissioning value testing in {}: MTBS: {} TUD/VO: {}'.format(year, MTBS_values['values'][index], Turbine.df[Turbine.df.index==year].capex.item()))\n",
    "    np.testing.assert_almost_equal(MTBS_values['values'][index],  Turbine.df[Turbine.df.index==year].capex.item(), 0)"
   ]
  },
  {
   "cell_type": "markdown",
   "id": "4c10b5fd",
   "metadata": {},
   "source": [
    "#####  3. Test values - Foundations and cables\n",
    "##### 3.1 - CAPEX values"
   ]
  },
  {
   "cell_type": "code",
   "execution_count": 16,
   "id": "295200d6",
   "metadata": {},
   "outputs": [],
   "source": [
    "MTBS_values = {'years': [2023, 2024, 2025], \n",
    "               'values': [-1_646_892_000, -3_359_659_680, -3_426_852_874]}"
   ]
  },
  {
   "cell_type": "code",
   "execution_count": 17,
   "id": "563c08b9",
   "metadata": {},
   "outputs": [
    {
     "name": "stdout",
     "output_type": "stream",
     "text": [
      "CAPEX value testing in 2023: MTBS: -1646892000 TUD/VO: -1646892000.0\n",
      "CAPEX value testing in 2024: MTBS: -3359659680 TUD/VO: -3359659680.0\n",
      "CAPEX value testing in 2025: MTBS: -3426852874 TUD/VO: -3426852873.6\n"
     ]
    }
   ],
   "source": [
    "for index, year in enumerate(MTBS_values['years']):\n",
    "    \n",
    "    print('CAPEX value testing in {}: MTBS: {} TUD/VO: {}'.format(year, MTBS_values['values'][index], Foundation.df[Foundation.df.index==year].capex.item()))\n",
    "    np.testing.assert_almost_equal(MTBS_values['values'][index],  Foundation.df[Foundation.df.index==year].capex.item(), 0)"
   ]
  },
  {
   "cell_type": "markdown",
   "id": "a7267a9c",
   "metadata": {},
   "source": [
    "##### 3.2 - OPEX values"
   ]
  },
  {
   "cell_type": "code",
   "execution_count": 18,
   "id": "70c2168a",
   "metadata": {},
   "outputs": [],
   "source": [
    "MTBS_values = {'years': [2026, 2027, 2028, 2029, 2030, 2031, 2032, 2033, 2034, 2035, 2036, 2037, 2038, 2039, 2040, 2041, 2042, 2043, 2044, 2045, 2046, 2047, 2048, 2049, 2050, 2051, 2052],\n",
    "               'values': [-319_500_591, -325_890_603, -332_408_415, -339_056_583, -345_837_715, -352_754_469, -359_809_558, -367_005_749, -374_345_864, -381_832_782, -389_469_437, -397_258_826, -405_204_003, -413_308_083, -421_574_244, -430_005_729, -438_605_844, -447_377_961, -456_325_520, -465_452_030, -474_761_071, -484_256_292, -493_941_418, -503_820_246, -513_896_651, -524_174_584, -534_658_076]}"
   ]
  },
  {
   "cell_type": "code",
   "execution_count": 19,
   "id": "8c8752fc",
   "metadata": {},
   "outputs": [
    {
     "name": "stdout",
     "output_type": "stream",
     "text": [
      "Opex value testing in 2026: MTBS: -319500591 TUD/VO: -319500590.7487479\n",
      "Opex value testing in 2027: MTBS: -325890603 TUD/VO: -325890602.5637229\n",
      "Opex value testing in 2028: MTBS: -332408415 TUD/VO: -332408414.6149973\n",
      "Opex value testing in 2029: MTBS: -339056583 TUD/VO: -339056582.9072973\n",
      "Opex value testing in 2030: MTBS: -345837715 TUD/VO: -345837714.5654433\n",
      "Opex value testing in 2031: MTBS: -352754469 TUD/VO: -352754468.85675216\n",
      "Opex value testing in 2032: MTBS: -359809558 TUD/VO: -359809558.2338872\n",
      "Opex value testing in 2033: MTBS: -367005749 TUD/VO: -367005749.39856493\n",
      "Opex value testing in 2034: MTBS: -374345864 TUD/VO: -374345864.38653624\n",
      "Opex value testing in 2035: MTBS: -381832782 TUD/VO: -381832781.67426693\n",
      "Opex value testing in 2036: MTBS: -389469437 TUD/VO: -389469437.3077523\n",
      "Opex value testing in 2037: MTBS: -397258826 TUD/VO: -397258826.0539074\n",
      "Opex value testing in 2038: MTBS: -405204003 TUD/VO: -405204002.5749855\n",
      "Opex value testing in 2039: MTBS: -413308083 TUD/VO: -413308082.6264852\n",
      "Opex value testing in 2040: MTBS: -421574244 TUD/VO: -421574244.27901495\n",
      "Opex value testing in 2041: MTBS: -430005729 TUD/VO: -430005729.16459525\n",
      "Opex value testing in 2042: MTBS: -438605844 TUD/VO: -438605843.7478872\n",
      "Opex value testing in 2043: MTBS: -447377961 TUD/VO: -447377960.622845\n",
      "Opex value testing in 2044: MTBS: -456325520 TUD/VO: -456325519.8353019\n",
      "Opex value testing in 2045: MTBS: -465452030 TUD/VO: -465452030.2320079\n",
      "Opex value testing in 2046: MTBS: -474761071 TUD/VO: -474761070.8366481\n",
      "Opex value testing in 2047: MTBS: -484256292 TUD/VO: -484256292.253381\n",
      "Opex value testing in 2048: MTBS: -493941418 TUD/VO: -493941418.09844863\n",
      "Opex value testing in 2049: MTBS: -503820246 TUD/VO: -503820246.4604176\n",
      "Opex value testing in 2050: MTBS: -513896651 TUD/VO: -513896651.389626\n",
      "Opex value testing in 2051: MTBS: -524174584 TUD/VO: -524174584.41741854\n",
      "Opex value testing in 2052: MTBS: -534658076 TUD/VO: -534658076.10576695\n"
     ]
    }
   ],
   "source": [
    "for index, year in enumerate(MTBS_values['years']):\n",
    "    \n",
    "    print('Opex value testing in {}: MTBS: {} TUD/VO: {}'.format(year, MTBS_values['values'][index], Foundation.df[Foundation.df.index==year].opex.item()))\n",
    "    np.testing.assert_almost_equal(MTBS_values['values'][index],  Foundation.df[Foundation.df.index==year].opex.item(), 0)"
   ]
  },
  {
   "cell_type": "markdown",
   "id": "138e8282",
   "metadata": {},
   "source": [
    "##### 3.3 - Decommissioning + divestment\n"
   ]
  },
  {
   "cell_type": "code",
   "execution_count": 20,
   "id": "fbb57951",
   "metadata": {},
   "outputs": [],
   "source": [
    "MTBS_values = {'years': [2052],\n",
    "               'values': [-305518900.631867+1124453940.4800005]} # decommissioning from MTBS, residual from python"
   ]
  },
  {
   "cell_type": "code",
   "execution_count": 21,
   "id": "f3d0fc9d",
   "metadata": {},
   "outputs": [
    {
     "name": "stdout",
     "output_type": "stream",
     "text": [
      "Residual value testing in 2052: MTBS: 818935039.8481336 TUD/VO: 818935039.8481337\n"
     ]
    }
   ],
   "source": [
    "for index, year in enumerate(MTBS_values['years']):\n",
    "    \n",
    "    print('Residual value testing in {}: MTBS: {} TUD/VO: {}'.format(year, MTBS_values['values'][index], Foundation.df[Foundation.df.index==year].capex.item()))\n",
    "    np.testing.assert_almost_equal(MTBS_values['values'][index],  Foundation.df[Foundation.df.index==year].capex.item(), 0)"
   ]
  }
 ],
 "metadata": {
  "kernelspec": {
   "display_name": "Python 3 (ipykernel)",
   "language": "python",
   "name": "python3"
  },
  "language_info": {
   "codemirror_mode": {
    "name": "ipython",
    "version": 3
   },
   "file_extension": ".py",
   "mimetype": "text/x-python",
   "name": "python",
   "nbconvert_exporter": "python",
   "pygments_lexer": "ipython3",
   "version": "3.9.12"
  }
 },
 "nbformat": 4,
 "nbformat_minor": 5
}
