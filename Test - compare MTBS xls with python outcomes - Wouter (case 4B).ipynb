{
 "cells": [
  {
   "cell_type": "markdown",
   "id": "6bb113ce",
   "metadata": {},
   "source": [
    "#### 0. Import basic methods (a.o. from source2.py)"
   ]
  },
  {
   "cell_type": "code",
   "execution_count": 1,
   "id": "f9fd7be4",
   "metadata": {},
   "outputs": [],
   "source": [
    "from source2 import *\n",
    "import numpy as np"
   ]
  },
  {
   "cell_type": "code",
   "execution_count": 2,
   "id": "ec38e936",
   "metadata": {},
   "outputs": [],
   "source": [
    "# load basic info from the Input sheet\n",
    "mapping = load_input_from_xls(filename=r'H2 Model - Input sheet (4B).xlsm')\n",
    "Inputs = extract_scenario(mapping, 'Scenario1')"
   ]
  },
  {
   "cell_type": "markdown",
   "id": "89024b92",
   "metadata": {},
   "source": [
    "##### 1. prepare input data and generate objects\n",
    "We are testing the following cases:\n",
    "##### 1.1 Turbines"
   ]
  },
  {
   "cell_type": "code",
   "execution_count": 3,
   "id": "6e48b814",
   "metadata": {
    "scrolled": true
   },
   "outputs": [
    {
     "data": {
      "text/plain": [
       "{'sub_system': 'Wind energy source & Transport',\n",
       " 'element': 'Offshore wind park',\n",
       " 'component': 'Turbine',\n",
       " 'escalation_base_year': 2023,\n",
       " 'escalation_rate': 0.02,\n",
       " 'capex_per_unit': 1139979,\n",
       " 'capex_per_unit_units': 'EUR / MW',\n",
       " 'unit': 3000,\n",
       " 'unit_units': 'MW',\n",
       " 'construction_duration': 3,\n",
       " 'share_of_investments': [0.2, 0.4, 0.4],\n",
       " 'economic_lifetime': 30,\n",
       " 'depreciation_flag': 1,\n",
       " 'depreciation_rate': 0.03333333333333333,\n",
       " 'yearly_variable_costs_flag': 1,\n",
       " 'yearly_variable_costs_rate': 0.03,\n",
       " 'insurance_flag': 1,\n",
       " 'insurance_rate': 0.005,\n",
       " 'decommissioning_rate': 0.08,\n",
       " 'residual_value': 0.01}"
      ]
     },
     "metadata": {},
     "output_type": "display_data"
    }
   ],
   "source": [
    "turbine_data = get_object_data(Inputs=Inputs, \n",
    "                               subsystem='Wind energy source & Transport', \n",
    "                               element='Offshore wind park',\n",
    "                               component='Turbine')\n",
    "turbine_data['depreciation_rate']=1/turbine_data['economic_lifetime']\n",
    "display(turbine_data)"
   ]
  },
  {
   "cell_type": "code",
   "execution_count": 4,
   "id": "a1b0e25d",
   "metadata": {},
   "outputs": [],
   "source": [
    "Turbine = Object(**turbine_data)\n",
    "# hier heb je alleen het object met inputs"
   ]
  },
  {
   "cell_type": "code",
   "execution_count": 5,
   "id": "e9773ec1",
   "metadata": {},
   "outputs": [],
   "source": [
    "Turbine.generate_cashflows(startyear=2023, lifecycle=29, debug=False)\n",
    "# na deze regel heeft Turbine.df (dataframe met alleen Capex, Opex en Residuals)"
   ]
  },
  {
   "cell_type": "code",
   "execution_count": 6,
   "id": "0c721ae0",
   "metadata": {},
   "outputs": [
    {
     "data": {
      "text/plain": [
       "2052"
      ]
     },
     "metadata": {},
     "output_type": "display_data"
    },
    {
     "data": {
      "text/plain": [
       "-517703650.4249944"
      ]
     },
     "metadata": {},
     "output_type": "display_data"
    }
   ],
   "source": [
    "display(Turbine.decommissioning_year)\n",
    "display(Turbine.decommissioning_value)"
   ]
  },
  {
   "cell_type": "markdown",
   "id": "67f8ce36",
   "metadata": {},
   "source": [
    "##### 1.2 Foundations and cables"
   ]
  },
  {
   "cell_type": "code",
   "execution_count": 7,
   "id": "b04ea050",
   "metadata": {
    "scrolled": true
   },
   "outputs": [
    {
     "data": {
      "text/plain": [
       "{'sub_system': 'Wind energy source & Transport',\n",
       " 'element': 'Offshore wind park',\n",
       " 'component': 'Foundation & cable',\n",
       " 'escalation_base_year': 2023,\n",
       " 'escalation_rate': 0.02,\n",
       " 'capex_per_unit': 971621,\n",
       " 'capex_per_unit_units': 'EUR / MW',\n",
       " 'unit': 3000,\n",
       " 'unit_units': 'MW',\n",
       " 'construction_duration': 3,\n",
       " 'share_of_investments': [0.2, 0.4, 0.4],\n",
       " 'economic_lifetime': 30,\n",
       " 'depreciation_flag': 1,\n",
       " 'depreciation_rate': 0.03333333333333333,\n",
       " 'yearly_variable_costs_flag': 1,\n",
       " 'yearly_variable_costs_rate': 0.015,\n",
       " 'insurance_flag': 1,\n",
       " 'insurance_rate': 0.005,\n",
       " 'decommissioning_rate': 0.35,\n",
       " 'residual_value': 0.01}"
      ]
     },
     "metadata": {},
     "output_type": "display_data"
    }
   ],
   "source": [
    "foundation_data = get_object_data(Inputs=Inputs, \n",
    "                               subsystem='Wind energy source & Transport', \n",
    "                               element='Offshore wind park',\n",
    "                               component='Foundation & cable')\n",
    "foundation_data['depreciation_rate']=1/foundation_data['economic_lifetime']\n",
    "display(foundation_data)"
   ]
  },
  {
   "cell_type": "code",
   "execution_count": 8,
   "id": "cf95a8fc",
   "metadata": {},
   "outputs": [],
   "source": [
    "Foundation = Object(**foundation_data)\n",
    "# hier heb je alleen het object met inputs"
   ]
  },
  {
   "cell_type": "code",
   "execution_count": 9,
   "id": "4fbd1661",
   "metadata": {},
   "outputs": [],
   "source": [
    "Foundation.generate_cashflows(startyear=2023, lifecycle=29, debug=False)\n",
    "# na deze regel heeft Turbine.df (dataframe met alleen Capex, Opex en Residuals)"
   ]
  },
  {
   "cell_type": "code",
   "execution_count": 10,
   "id": "b2026527",
   "metadata": {},
   "outputs": [
    {
     "data": {
      "text/html": [
       "<div>\n",
       "<style scoped>\n",
       "    .dataframe tbody tr th:only-of-type {\n",
       "        vertical-align: middle;\n",
       "    }\n",
       "\n",
       "    .dataframe tbody tr th {\n",
       "        vertical-align: top;\n",
       "    }\n",
       "\n",
       "    .dataframe thead th {\n",
       "        text-align: right;\n",
       "    }\n",
       "</style>\n",
       "<table border=\"1\" class=\"dataframe\">\n",
       "  <thead>\n",
       "    <tr style=\"text-align: right;\">\n",
       "      <th></th>\n",
       "      <th>years</th>\n",
       "      <th>capex</th>\n",
       "      <th>opex</th>\n",
       "      <th>revenue</th>\n",
       "    </tr>\n",
       "    <tr>\n",
       "      <th>years</th>\n",
       "      <th></th>\n",
       "      <th></th>\n",
       "      <th></th>\n",
       "      <th></th>\n",
       "    </tr>\n",
       "  </thead>\n",
       "  <tbody>\n",
       "    <tr>\n",
       "      <th>2048</th>\n",
       "      <td>4096</td>\n",
       "      <td>0.000000e+00</td>\n",
       "      <td>-3.111576e+08</td>\n",
       "      <td>0</td>\n",
       "    </tr>\n",
       "    <tr>\n",
       "      <th>2049</th>\n",
       "      <td>4098</td>\n",
       "      <td>0.000000e+00</td>\n",
       "      <td>-3.173807e+08</td>\n",
       "      <td>0</td>\n",
       "    </tr>\n",
       "    <tr>\n",
       "      <th>2050</th>\n",
       "      <td>4100</td>\n",
       "      <td>0.000000e+00</td>\n",
       "      <td>-3.237283e+08</td>\n",
       "      <td>0</td>\n",
       "    </tr>\n",
       "    <tr>\n",
       "      <th>2051</th>\n",
       "      <td>4102</td>\n",
       "      <td>0.000000e+00</td>\n",
       "      <td>-3.302029e+08</td>\n",
       "      <td>0</td>\n",
       "    </tr>\n",
       "    <tr>\n",
       "      <th>2052</th>\n",
       "      <td>4104</td>\n",
       "      <td>8.823474e+08</td>\n",
       "      <td>-2.784964e+09</td>\n",
       "      <td>0</td>\n",
       "    </tr>\n",
       "  </tbody>\n",
       "</table>\n",
       "</div>"
      ],
      "text/plain": [
       "       years         capex          opex  revenue\n",
       "years                                            \n",
       "2048    4096  0.000000e+00 -3.111576e+08        0\n",
       "2049    4098  0.000000e+00 -3.173807e+08        0\n",
       "2050    4100  0.000000e+00 -3.237283e+08        0\n",
       "2051    4102  0.000000e+00 -3.302029e+08        0\n",
       "2052    4104  8.823474e+08 -2.784964e+09        0"
      ]
     },
     "execution_count": 10,
     "metadata": {},
     "output_type": "execute_result"
    }
   ],
   "source": [
    "(Turbine.df+Foundation.df).tail()"
   ]
  },
  {
   "cell_type": "markdown",
   "id": "9c3df5eb",
   "metadata": {},
   "source": [
    "##### 1.3 AC Substation"
   ]
  },
  {
   "cell_type": "code",
   "execution_count": 11,
   "id": "d51ba558",
   "metadata": {},
   "outputs": [
    {
     "data": {
      "text/plain": [
       "{'sub_system': 'AC Substation & Transport',\n",
       " 'element': 'AC Substation & Transport',\n",
       " 'component': 'AC Substation',\n",
       " 'escalation_base_year': 2023,\n",
       " 'escalation_rate': 0.02,\n",
       " 'capex_per_unit': 239301,\n",
       " 'capex_per_unit_units': 'EUR / MW',\n",
       " 'unit': 3000,\n",
       " 'unit_units': 'MW',\n",
       " 'construction_duration': 3,\n",
       " 'share_of_investments': [0.2, 0.4, 0.4],\n",
       " 'economic_lifetime': 40,\n",
       " 'depreciation_flag': 1,\n",
       " 'depreciation_rate': 0.025,\n",
       " 'yearly_variable_costs_flag': 1,\n",
       " 'yearly_variable_costs_rate': 0.03,\n",
       " 'insurance_flag': 1,\n",
       " 'insurance_rate': 0.005,\n",
       " 'decommissioning_rate': 0.2,\n",
       " 'residual_value': 0.01}"
      ]
     },
     "metadata": {},
     "output_type": "display_data"
    }
   ],
   "source": [
    "AC_substation_data = get_object_data(Inputs=Inputs, \n",
    "                               subsystem='AC Substation & Transport', \n",
    "                               element='AC Substation & Transport',\n",
    "                               component='AC Substation')\n",
    "AC_substation_data['depreciation_rate']=1/AC_substation_data['economic_lifetime']\n",
    "display(AC_substation_data)"
   ]
  },
  {
   "cell_type": "code",
   "execution_count": 12,
   "id": "6597af52",
   "metadata": {},
   "outputs": [],
   "source": [
    "ACStation = Object(**AC_substation_data)"
   ]
  },
  {
   "cell_type": "code",
   "execution_count": 13,
   "id": "ae46a177",
   "metadata": {},
   "outputs": [],
   "source": [
    "ACStation.generate_cashflows(startyear=2023, lifecycle=29, debug=False)"
   ]
  },
  {
   "cell_type": "markdown",
   "id": "de951422",
   "metadata": {},
   "source": [
    "##### 1.4 DC Collection Cable"
   ]
  },
  {
   "cell_type": "code",
   "execution_count": 14,
   "id": "0458f25a",
   "metadata": {},
   "outputs": [
    {
     "data": {
      "text/plain": [
       "{'sub_system': 'AC Substation & Transport',\n",
       " 'element': 'AC Substation & Transport',\n",
       " 'component': 'DC collection cable',\n",
       " 'escalation_base_year': 2023,\n",
       " 'escalation_rate': 0.02,\n",
       " 'capex_per_unit': 470134,\n",
       " 'capex_per_unit_units': 'EUR / MW',\n",
       " 'unit': 3000,\n",
       " 'unit_units': 'MW',\n",
       " 'construction_duration': 3,\n",
       " 'share_of_investments': [0.2, 0.4, 0.4],\n",
       " 'economic_lifetime': 40,\n",
       " 'depreciation_flag': 1,\n",
       " 'depreciation_rate': 0.025,\n",
       " 'yearly_variable_costs_flag': 1,\n",
       " 'yearly_variable_costs_rate': 0.03,\n",
       " 'insurance_flag': 1,\n",
       " 'insurance_rate': 0.005,\n",
       " 'decommissioning_rate': 0.2,\n",
       " 'residual_value': 0.01}"
      ]
     },
     "metadata": {},
     "output_type": "display_data"
    }
   ],
   "source": [
    "DC_collection_cable_data = get_object_data(Inputs=Inputs, \n",
    "                               subsystem='AC Substation & Transport', \n",
    "                               element='AC Substation & Transport',\n",
    "                               component='DC collection cable')\n",
    "DC_collection_cable_data['depreciation_rate']=1/DC_collection_cable_data['economic_lifetime']\n",
    "display(DC_collection_cable_data)"
   ]
  },
  {
   "cell_type": "code",
   "execution_count": 15,
   "id": "2184eb5f",
   "metadata": {},
   "outputs": [],
   "source": [
    "DCCollectionCable = Object(**DC_collection_cable_data)"
   ]
  },
  {
   "cell_type": "code",
   "execution_count": 16,
   "id": "61a4bf72",
   "metadata": {},
   "outputs": [],
   "source": [
    "DCCollectionCable.generate_cashflows(startyear=2023, lifecycle=29, debug=False)"
   ]
  },
  {
   "cell_type": "markdown",
   "id": "1f7a599b",
   "metadata": {},
   "source": [
    "##### 1.5 DCAC Converter"
   ]
  },
  {
   "cell_type": "code",
   "execution_count": 17,
   "id": "86409a30",
   "metadata": {},
   "outputs": [
    {
     "data": {
      "text/plain": [
       "{'sub_system': 'Electrolysis, Electricity & Transport',\n",
       " 'element': 'Electricity',\n",
       " 'component': 'DCAC Converter',\n",
       " 'escalation_base_year': 2023,\n",
       " 'escalation_rate': 0.02,\n",
       " 'capex_per_unit': 37077,\n",
       " 'capex_per_unit_units': 'EUR / MW',\n",
       " 'unit': 3000,\n",
       " 'unit_units': 'MW',\n",
       " 'construction_duration': 3,\n",
       " 'share_of_investments': [0.2, 0.4, 0.4],\n",
       " 'economic_lifetime': 25,\n",
       " 'depreciation_flag': 1,\n",
       " 'depreciation_rate': 0.04,\n",
       " 'yearly_variable_costs_flag': 1,\n",
       " 'yearly_variable_costs_rate': 0.03,\n",
       " 'insurance_flag': 1,\n",
       " 'insurance_rate': 0.005,\n",
       " 'decommissioning_rate': 0.25,\n",
       " 'residual_value': 0.01}"
      ]
     },
     "metadata": {},
     "output_type": "display_data"
    }
   ],
   "source": [
    "DCAC_converter_data = get_object_data(Inputs=Inputs, \n",
    "                               subsystem='Electrolysis, Electricity & Transport', \n",
    "                               element='Electricity',\n",
    "                               component='DCAC Converter')\n",
    "DCAC_converter_data['depreciation_rate']=1/DCAC_converter_data['economic_lifetime']\n",
    "display(DCAC_converter_data)"
   ]
  },
  {
   "cell_type": "code",
   "execution_count": 18,
   "id": "2aec7899",
   "metadata": {},
   "outputs": [],
   "source": [
    "DCACConverter = Object(**DCAC_converter_data)"
   ]
  },
  {
   "cell_type": "code",
   "execution_count": 19,
   "id": "161216e2",
   "metadata": {},
   "outputs": [],
   "source": [
    "DCACConverter.generate_cashflows(startyear=2023, lifecycle=29, debug=False)"
   ]
  },
  {
   "cell_type": "markdown",
   "id": "893a1c70",
   "metadata": {},
   "source": [
    "##### 1.6 Mainland"
   ]
  },
  {
   "cell_type": "code",
   "execution_count": 20,
   "id": "be81aadf",
   "metadata": {},
   "outputs": [
    {
     "name": "stdout",
     "output_type": "stream",
     "text": [
      "issue detected\n"
     ]
    },
    {
     "data": {
      "text/plain": [
       "{'sub_system': 'Electrolysis, Electricity & Transport',\n",
       " 'element': 'Facility location',\n",
       " 'component': 'Mainland',\n",
       " 'escalation_base_year': 2023,\n",
       " 'escalation_rate': 0.02,\n",
       " 'capex_per_unit': 6000,\n",
       " 'capex_per_unit_units': 'EUR / MW',\n",
       " 'unit': 3000,\n",
       " 'unit_units': 'MW',\n",
       " 'construction_duration': 3,\n",
       " 'share_of_investments': [0.2, 0.4, 0.4],\n",
       " 'economic_lifetime': 80,\n",
       " 'depreciation_flag': 1,\n",
       " 'depreciation_rate': 0.0125,\n",
       " 'yearly_variable_costs_flag': 1,\n",
       " 'yearly_variable_costs_rate': 0.1,\n",
       " 'insurance_flag': 1,\n",
       " 'insurance_rate': 0.005,\n",
       " 'decommissioning_rate': 0.01,\n",
       " 'residual_value': []}"
      ]
     },
     "metadata": {},
     "output_type": "display_data"
    }
   ],
   "source": [
    "Mainland_data = get_object_data(Inputs=Inputs, \n",
    "                               subsystem='Electrolysis, Electricity & Transport', \n",
    "                               element='Facility location',\n",
    "                               component='Mainland')\n",
    "Mainland_data['depreciation_rate']=1/Mainland_data['economic_lifetime']\n",
    "display(Mainland_data)"
   ]
  },
  {
   "cell_type": "code",
   "execution_count": 21,
   "id": "11d034eb",
   "metadata": {},
   "outputs": [],
   "source": [
    "Mainland = Object(**Mainland_data)"
   ]
  },
  {
   "cell_type": "code",
   "execution_count": 22,
   "id": "72eb253b",
   "metadata": {},
   "outputs": [],
   "source": [
    "Mainland.generate_cashflows(startyear=2023, lifecycle=29, debug=False)"
   ]
  },
  {
   "cell_type": "markdown",
   "id": "f220f75f",
   "metadata": {},
   "source": [
    "#####  2. Test values - Foundation & Cables\n",
    "##### 2.1 - CAPEX values"
   ]
  },
  {
   "cell_type": "code",
   "execution_count": 23,
   "id": "4ee052b8",
   "metadata": {},
   "outputs": [],
   "source": [
    "MTBS_values = {'years': [2023, 2024, 2025], \n",
    "               'values': [-594_632_052, -1_213_049_386, -1_237_310_374]}"
   ]
  },
  {
   "cell_type": "code",
   "execution_count": 24,
   "id": "69dbbffe",
   "metadata": {},
   "outputs": [
    {
     "name": "stdout",
     "output_type": "stream",
     "text": [
      "CAPEX value testing in 2023: MTBS: -594632052 TUD/VO: -594632052.0\n",
      "CAPEX value testing in 2024: MTBS: -1213049386 TUD/VO: -1213049386.08\n",
      "CAPEX value testing in 2025: MTBS: -1237310374 TUD/VO: -1237310373.8016\n"
     ]
    }
   ],
   "source": [
    "for index, year in enumerate(MTBS_values['years']):\n",
    "    \n",
    "    print('CAPEX value testing in {}: MTBS: {} TUD/VO: {}'.format(year, MTBS_values['values'][index], Foundation.df[Foundation.df.index==year].capex.item()))\n",
    "    np.testing.assert_almost_equal(MTBS_values['values'][index],  Foundation.df[Turbine.df.index==year].capex.item(), 0)"
   ]
  },
  {
   "cell_type": "markdown",
   "id": "976b7054",
   "metadata": {},
   "source": [
    "##### 2.2 - OPEX values"
   ]
  },
  {
   "cell_type": "code",
   "execution_count": 25,
   "id": "381e837a",
   "metadata": {},
   "outputs": [],
   "source": [
    "MTBS_values = {'years': [2026, 2027, 2028, 2029, 2030, 2031, 2032, 2033, 2034, 2035, 2036, 2037, 2038, 2039, 2040, 2041, 2042, 2043, 2044, 2045, 2046, 2047, 2048, 2049, 2050, 2051, 2052],\n",
    "               'values': [-65_919_941, -67_238_340, -68_583_107, -69_954_769, -71_353_864, -72_780_942, -74_236_561, -75_721_292, -77_235_718, -78_780_432, -80_356_041, -81_963_161, -83_602_425, -85_274_473, -86_979_963, -88_719_562, -90_493_953, -92_303_832, -94_149_909, -96_032_907, -97_953_565, -99_912_636, -101_910_889, -103_949_107, -106_028_089, -108_148_651, -110_311_624,]}"
   ]
  },
  {
   "cell_type": "code",
   "execution_count": 26,
   "id": "1a2abc0d",
   "metadata": {},
   "outputs": [
    {
     "name": "stdout",
     "output_type": "stream",
     "text": [
      "Opex value testing in 2026: MTBS: -65919941 TUD/VO: -65919941.28234628\n",
      "Opex value testing in 2027: MTBS: -67238340 TUD/VO: -67238340.1079932\n",
      "Opex value testing in 2028: MTBS: -68583107 TUD/VO: -68583106.91015308\n",
      "Opex value testing in 2029: MTBS: -69954769 TUD/VO: -69954769.04835613\n",
      "Opex value testing in 2030: MTBS: -71353864 TUD/VO: -71353864.42932326\n",
      "Opex value testing in 2031: MTBS: -72780942 TUD/VO: -72780941.71790972\n",
      "Opex value testing in 2032: MTBS: -74236561 TUD/VO: -74236560.55226792\n",
      "Opex value testing in 2033: MTBS: -75721292 TUD/VO: -75721291.76331328\n",
      "Opex value testing in 2034: MTBS: -77235718 TUD/VO: -77235717.59857954\n",
      "Opex value testing in 2035: MTBS: -78780432 TUD/VO: -78780431.95055114\n",
      "Opex value testing in 2036: MTBS: -80356041 TUD/VO: -80356040.58956216\n",
      "Opex value testing in 2037: MTBS: -81963161 TUD/VO: -81963161.4013534\n",
      "Opex value testing in 2038: MTBS: -83602425 TUD/VO: -83602424.62938048\n",
      "Opex value testing in 2039: MTBS: -85274473 TUD/VO: -85274473.12196809\n",
      "Opex value testing in 2040: MTBS: -86979963 TUD/VO: -86979962.58440746\n",
      "Opex value testing in 2041: MTBS: -88719562 TUD/VO: -88719561.8360956\n",
      "Opex value testing in 2042: MTBS: -90493953 TUD/VO: -90493953.07281752\n",
      "Opex value testing in 2043: MTBS: -92303832 TUD/VO: -92303832.13427389\n",
      "Opex value testing in 2044: MTBS: -94149909 TUD/VO: -94149908.77695936\n",
      "Opex value testing in 2045: MTBS: -96032907 TUD/VO: -96032906.95249854\n",
      "Opex value testing in 2046: MTBS: -97953565 TUD/VO: -97953565.09154852\n",
      "Opex value testing in 2047: MTBS: -99912636 TUD/VO: -99912636.39337948\n",
      "Opex value testing in 2048: MTBS: -101910889 TUD/VO: -101910889.12124707\n",
      "Opex value testing in 2049: MTBS: -103949107 TUD/VO: -103949106.90367202\n",
      "Opex value testing in 2050: MTBS: -106028089 TUD/VO: -106028089.04174547\n",
      "Opex value testing in 2051: MTBS: -108148651 TUD/VO: -108148650.82258037\n",
      "Opex value testing in 2052: MTBS: -110311624 TUD/VO: -2040765041.0220916\n"
     ]
    },
    {
     "ename": "AssertionError",
     "evalue": "\nArrays are not almost equal to 0 decimals\n ACTUAL: -110311624\n DESIRED: -2040765041.0220916",
     "output_type": "error",
     "traceback": [
      "\u001b[1;31m---------------------------------------------------------------------------\u001b[0m",
      "\u001b[1;31mAssertionError\u001b[0m                            Traceback (most recent call last)",
      "Input \u001b[1;32mIn [26]\u001b[0m, in \u001b[0;36m<cell line: 1>\u001b[1;34m()\u001b[0m\n\u001b[0;32m      1\u001b[0m \u001b[38;5;28;01mfor\u001b[39;00m index, year \u001b[38;5;129;01min\u001b[39;00m \u001b[38;5;28menumerate\u001b[39m(MTBS_values[\u001b[38;5;124m'\u001b[39m\u001b[38;5;124myears\u001b[39m\u001b[38;5;124m'\u001b[39m]):\n\u001b[0;32m      3\u001b[0m     \u001b[38;5;28mprint\u001b[39m(\u001b[38;5;124m'\u001b[39m\u001b[38;5;124mOpex value testing in \u001b[39m\u001b[38;5;132;01m{}\u001b[39;00m\u001b[38;5;124m: MTBS: \u001b[39m\u001b[38;5;132;01m{}\u001b[39;00m\u001b[38;5;124m TUD/VO: \u001b[39m\u001b[38;5;132;01m{}\u001b[39;00m\u001b[38;5;124m'\u001b[39m\u001b[38;5;241m.\u001b[39mformat(year, MTBS_values[\u001b[38;5;124m'\u001b[39m\u001b[38;5;124mvalues\u001b[39m\u001b[38;5;124m'\u001b[39m][index], Foundation\u001b[38;5;241m.\u001b[39mdf[Foundation\u001b[38;5;241m.\u001b[39mdf\u001b[38;5;241m.\u001b[39mindex\u001b[38;5;241m==\u001b[39myear]\u001b[38;5;241m.\u001b[39mopex\u001b[38;5;241m.\u001b[39mitem()))\n\u001b[1;32m----> 4\u001b[0m     \u001b[43mnp\u001b[49m\u001b[38;5;241;43m.\u001b[39;49m\u001b[43mtesting\u001b[49m\u001b[38;5;241;43m.\u001b[39;49m\u001b[43massert_almost_equal\u001b[49m\u001b[43m(\u001b[49m\u001b[43mMTBS_values\u001b[49m\u001b[43m[\u001b[49m\u001b[38;5;124;43m'\u001b[39;49m\u001b[38;5;124;43mvalues\u001b[39;49m\u001b[38;5;124;43m'\u001b[39;49m\u001b[43m]\u001b[49m\u001b[43m[\u001b[49m\u001b[43mindex\u001b[49m\u001b[43m]\u001b[49m\u001b[43m,\u001b[49m\u001b[43m  \u001b[49m\u001b[43mFoundation\u001b[49m\u001b[38;5;241;43m.\u001b[39;49m\u001b[43mdf\u001b[49m\u001b[43m[\u001b[49m\u001b[43mTurbine\u001b[49m\u001b[38;5;241;43m.\u001b[39;49m\u001b[43mdf\u001b[49m\u001b[38;5;241;43m.\u001b[39;49m\u001b[43mindex\u001b[49m\u001b[38;5;241;43m==\u001b[39;49m\u001b[43myear\u001b[49m\u001b[43m]\u001b[49m\u001b[38;5;241;43m.\u001b[39;49m\u001b[43mopex\u001b[49m\u001b[38;5;241;43m.\u001b[39;49m\u001b[43mitem\u001b[49m\u001b[43m(\u001b[49m\u001b[43m)\u001b[49m\u001b[43m,\u001b[49m\u001b[43m \u001b[49m\u001b[38;5;241;43m0\u001b[39;49m\u001b[43m)\u001b[49m\n",
      "File \u001b[1;32m~\\Anaconda3\\envs\\gdal\\lib\\site-packages\\numpy\\testing\\_private\\utils.py:599\u001b[0m, in \u001b[0;36massert_almost_equal\u001b[1;34m(actual, desired, decimal, err_msg, verbose)\u001b[0m\n\u001b[0;32m    597\u001b[0m     \u001b[38;5;28;01mpass\u001b[39;00m\n\u001b[0;32m    598\u001b[0m \u001b[38;5;28;01mif\u001b[39;00m \u001b[38;5;28mabs\u001b[39m(desired \u001b[38;5;241m-\u001b[39m actual) \u001b[38;5;241m>\u001b[39m\u001b[38;5;241m=\u001b[39m \u001b[38;5;241m1.5\u001b[39m \u001b[38;5;241m*\u001b[39m \u001b[38;5;241m10.0\u001b[39m\u001b[38;5;241m*\u001b[39m\u001b[38;5;241m*\u001b[39m(\u001b[38;5;241m-\u001b[39mdecimal):\n\u001b[1;32m--> 599\u001b[0m     \u001b[38;5;28;01mraise\u001b[39;00m \u001b[38;5;167;01mAssertionError\u001b[39;00m(_build_err_msg())\n",
      "\u001b[1;31mAssertionError\u001b[0m: \nArrays are not almost equal to 0 decimals\n ACTUAL: -110311624\n DESIRED: -2040765041.0220916"
     ]
    }
   ],
   "source": [
    "for index, year in enumerate(MTBS_values['years']):\n",
    "    \n",
    "    print('Opex value testing in {}: MTBS: {} TUD/VO: {}'.format(year, MTBS_values['values'][index], Foundation.df[Foundation.df.index==year].opex.item()))\n",
    "    np.testing.assert_almost_equal(MTBS_values['values'][index],  Foundation.df[Turbine.df.index==year].opex.item(), 0)"
   ]
  },
  {
   "cell_type": "markdown",
   "id": "5c8cb335",
   "metadata": {},
   "source": [
    "##### 2.3 - Decommissioning + divestment\n"
   ]
  },
  {
   "cell_type": "code",
   "execution_count": null,
   "id": "92916d9d",
   "metadata": {},
   "outputs": [],
   "source": [
    "MTBS_values = {'years': [2052],\n",
    "               'values': [517703650,424994]} # decommissioning from MTBS, residual from python"
   ]
  },
  {
   "cell_type": "code",
   "execution_count": null,
   "id": "15371d6c",
   "metadata": {},
   "outputs": [],
   "source": [
    "for index, year in enumerate(MTBS_values['years']):\n",
    "    \n",
    "    print('Decommissioning value testing in {}: MTBS: {} TUD/VO: {}'.format(year, MTBS_values['values'][index], Turbine.df[Turbine.df.index==year].capex.item()))\n",
    "    np.testing.assert_almost_equal(MTBS_values['values'][index],  Turbine.df[Turbine.df.index==year].capex.item(), 0)"
   ]
  },
  {
   "cell_type": "markdown",
   "id": "e7e17dbe",
   "metadata": {},
   "source": [
    "#####  3. Test values - Turbines\n",
    "##### 3.1 - CAPEX values"
   ]
  },
  {
   "cell_type": "code",
   "execution_count": null,
   "id": "5aee3354",
   "metadata": {},
   "outputs": [],
   "source": [
    "MTBS_values = {'years': [2023, 2024, 2025], \n",
    "               'values': [-697_667_148, -1_423_240_982, -1_451_705_802]}"
   ]
  },
  {
   "cell_type": "code",
   "execution_count": null,
   "id": "f468dd49",
   "metadata": {},
   "outputs": [],
   "source": [
    "for index, year in enumerate(MTBS_values['years']):\n",
    "    \n",
    "    print('CAPEX value testing in {}: MTBS: {} TUD/VO: {}'.format(year, MTBS_values['values'][index], Turbine.df[Turbine.df.index==year].capex.item()))\n",
    "    np.testing.assert_almost_equal(MTBS_values['values'][index],  Turbine.df[Turbine.df.index==year].capex.item(), 0)"
   ]
  },
  {
   "cell_type": "markdown",
   "id": "e9bd2ef8",
   "metadata": {},
   "source": [
    "##### 3.2 - OPEX values"
   ]
  },
  {
   "cell_type": "code",
   "execution_count": null,
   "id": "45178cf4",
   "metadata": {},
   "outputs": [],
   "source": [
    "MTBS_values = {'years': [2026, 2027, 2028, 2029, 2030, 2031, 2032, 2033, 2034, 2035, 2036, 2037, 2038, 2039, 2040, 2041, 2042, 2043, 2044, 2045, 2046, 2047, 2048, 2049, 2050, 2051, 2052],\n",
    "               'values': [-135_348_928, -138_055_906, -140_817_024, -143_633_365, -146_506_032, -149_436_153, -152_424_876, -155_473_373, -158_582_841, -161_754_497, -164_989_587, -168_289_379, -171_655_167, -175_088_270, -178_590_035, -182_161_836, -185_805_073, -189_521_174, -193_311_598, -197_177_830, -201_121_386, -205_143_814, -209_246_690, -213_431_624, -217_700_257, -222_054_262, -226_495_347,]}"
   ]
  },
  {
   "cell_type": "code",
   "execution_count": null,
   "id": "d1402afb",
   "metadata": {},
   "outputs": [],
   "source": [
    "for index, year in enumerate(MTBS_values['years']):\n",
    "    \n",
    "    print('Opex value testing in {}: MTBS: {} TUD/VO: {}'.format(year, MTBS_values['values'][index], Turbine.df[Turbine.df.index==year].opex.item()))\n",
    "    np.testing.assert_almost_equal(MTBS_values['values'][index],  Turbine.df[Turbine.df.index==year].opex.item(), 0)"
   ]
  },
  {
   "cell_type": "markdown",
   "id": "4d4e2c84",
   "metadata": {},
   "source": [
    "##### 3.3 - Decommissioning"
   ]
  },
  {
   "cell_type": "code",
   "execution_count": null,
   "id": "9865bfa5",
   "metadata": {},
   "outputs": [],
   "source": [
    "MTBS_values = {'years': [2052],\n",
    "               'values': [-169732722.573259+624696633.5999999]} # decommissioning from MTBS, residual from python"
   ]
  },
  {
   "cell_type": "code",
   "execution_count": null,
   "id": "0dbbcf3b",
   "metadata": {},
   "outputs": [],
   "source": [
    "for index, year in enumerate(MTBS_values['years']):\n",
    "    \n",
    "    print('Decommissioning value testing in {}: MTBS: {} TUD/VO: {}'.format(year,-MTBS_values['values'][index], Turbine.decommissioning_value))\n",
    "    np.testing.assert_almost_equal(MTBS_values['values'][index],  Turbine.decommissioning_value, 0)"
   ]
  },
  {
   "cell_type": "markdown",
   "id": "954b81b1",
   "metadata": {},
   "source": [
    "##### 3.3 - Divestment"
   ]
  },
  {
   "cell_type": "code",
   "execution_count": null,
   "id": "f22801b2",
   "metadata": {},
   "outputs": [],
   "source": [
    "MTBS_values = {'years': [2052],\n",
    "               'values': [-1311862930,55999]} # decommissioning from MTBS, residual from python"
   ]
  },
  {
   "cell_type": "code",
   "execution_count": null,
   "id": "5c85e784",
   "metadata": {},
   "outputs": [],
   "source": [
    "for index, year in enumerate(MTBS_values['years']):\n",
    "    \n",
    "    print('Divesting value testing in {}: MTBS: {} TUD/VO: {}'.format(year,-MTBS_values['values'][index], Turbine.divestment_value))\n",
    "    np.testing.assert_almost_equal(MTBS_values['values'][index],  Turbine.divestment_value, 0)"
   ]
  },
  {
   "cell_type": "code",
   "execution_count": null,
   "id": "54951458",
   "metadata": {},
   "outputs": [],
   "source": [
    "display(Foundation.df[Foundation.df.index==2052].capex.item())\n",
    "display(Turbine.df[Turbine.df.index==2052].capex.item())"
   ]
  },
  {
   "cell_type": "markdown",
   "id": "4c10b5fd",
   "metadata": {},
   "source": [
    "#####  4. Test values - AC Substation\n",
    "##### 4.1 - CAPEX values"
   ]
  },
  {
   "cell_type": "code",
   "execution_count": null,
   "id": "295200d6",
   "metadata": {},
   "outputs": [],
   "source": [
    "MTBS_values = {'years': [2023, 2024, 2025], \n",
    "               'values': [-146_452_212, -298_762_512, -304_737_763,]}"
   ]
  },
  {
   "cell_type": "code",
   "execution_count": null,
   "id": "563c08b9",
   "metadata": {
    "scrolled": true
   },
   "outputs": [],
   "source": [
    "for index, year in enumerate(MTBS_values['years']):\n",
    "    \n",
    "    print('CAPEX value testing in {}: MTBS: {} TUD/VO: {}'.format(year, MTBS_values['values'][index], ACStation.df[ACStation.df.index==year].capex.item()))\n",
    "    np.testing.assert_almost_equal(MTBS_values['values'][index],  ACStation.df[ACStation.df.index==year].capex.item(), 0)"
   ]
  },
  {
   "cell_type": "markdown",
   "id": "a7267a9c",
   "metadata": {},
   "source": [
    "##### 4.2 - OPEX values"
   ]
  },
  {
   "cell_type": "code",
   "execution_count": null,
   "id": "70c2168a",
   "metadata": {},
   "outputs": [],
   "source": [
    "MTBS_values = {'years': [2026, 2027, 2028, 2029, 2030, 2031, 2032, 2033, 2034, 2035, 2036, 2037, 2038, 2039, 2040, 2041, 2042, 2043, 2044, 2045, 2046, 2047, 2048, 2049, 2050, 2051, 2052],\n",
    "               'values': [-28_412_044, -28_980_285, -29_559_891, -30_151_089, -30_754_110, -31_369_193, -31_996_576, -32_636_508, -33_289_238, -33_955_023, -34_634_123, -35_326_806, -36_033_342, -36_754_009, -37_489_089, -38_238_871, -39_003_648, -39_783_721, -40_579_395, -41_390_983, -42_218_803, -43_063_179, -43_924_443, -44_802_932, -45_698_990, -46_612_970, -47_545_229,]}"
   ]
  },
  {
   "cell_type": "code",
   "execution_count": null,
   "id": "8c8752fc",
   "metadata": {},
   "outputs": [],
   "source": [
    "for index, year in enumerate(MTBS_values['years']):\n",
    "    \n",
    "    print('Opex value testing in {}: MTBS: {} TUD/VO: {}'.format(year, MTBS_values['values'][index], ACStation.df[Foundation.df.index==year].opex.item()))\n",
    "    np.testing.assert_almost_equal(MTBS_values['values'][index],  ACStation.df[ACStation.df.index==year].opex.item(), 0)"
   ]
  },
  {
   "cell_type": "markdown",
   "id": "138e8282",
   "metadata": {},
   "source": [
    "##### 4.3 - Decommissioning + divestment\n"
   ]
  },
  {
   "cell_type": "code",
   "execution_count": null,
   "id": "fbb57951",
   "metadata": {},
   "outputs": [],
   "source": [
    "MTBS_values = {'years': [2052],\n",
    "               'values': [-305518900.631867+1124453940.4800005]} # decommissioning from MTBS, residual from python"
   ]
  },
  {
   "cell_type": "code",
   "execution_count": null,
   "id": "f3d0fc9d",
   "metadata": {},
   "outputs": [],
   "source": [
    "for index, year in enumerate(MTBS_values['years']):\n",
    "    \n",
    "    print('Residual value testing in {}: MTBS: {} TUD/VO: {}'.format(year, MTBS_values['values'][index], ACStation.df[ACStation.df.index==year].capex.item()))\n",
    "    np.testing.assert_almost_equal(MTBS_values['values'][index],  ACStation.df[ACStation.df.index==year].capex.item(), 0)"
   ]
  },
  {
   "cell_type": "markdown",
   "id": "cb7659f5",
   "metadata": {},
   "source": [
    "#####  5. Test values - DC Collection Cable\n",
    "##### 5.1 - CAPEX values"
   ]
  },
  {
   "cell_type": "code",
   "execution_count": null,
   "id": "639bfb65",
   "metadata": {},
   "outputs": [],
   "source": [
    "MTBS_values = {'years': [2023, 2024, 2025], \n",
    "               'values': [-287_722_008, -586_952_896, -598_691_954,]}"
   ]
  },
  {
   "cell_type": "code",
   "execution_count": null,
   "id": "f31918b1",
   "metadata": {
    "scrolled": true
   },
   "outputs": [],
   "source": [
    "for index, year in enumerate(MTBS_values['years']):\n",
    "    \n",
    "    print('CAPEX value testing in {}: MTBS: {} TUD/VO: {}'.format(year, MTBS_values['values'][index], DCCollectionCable.df[DCCollectionCable.df.index==year].capex.item()))\n",
    "    np.testing.assert_almost_equal(MTBS_values['values'][index],  DCCollectionCable.df[DCCollectionCable.df.index==year].capex.item(), 0)"
   ]
  },
  {
   "cell_type": "markdown",
   "id": "b4bae615",
   "metadata": {},
   "source": [
    "##### 5.2 - OPEX values"
   ]
  },
  {
   "cell_type": "code",
   "execution_count": null,
   "id": "c6a0bd94",
   "metadata": {},
   "outputs": [],
   "source": [
    "MTBS_values = {'years': [2026, 2027, 2028, 2029, 2030, 2031, 2032, 2033, 2034, 2035, 2036, 2037, 2038, 2039, 2040, 2041, 2042, 2043, 2044, 2045, 2046, 2047, 2048, 2049, 2050, 2051, 2052],\n",
    "               'values': [-55_818_688, -56_935_062, -58_073_764, -59_235_239, -60_419_944, -61_628_342, -62_860_909, -64_118_127, -65_400_490, -66_708_500, -68_042_670, -69_403_523, -70_791_594, -72_207_426, -73_651_574, -75_124_606, -76_627_098, -78_159_640, -79_722_832, -81_317_289, -82_943_635, -84_602_508, -86_294_558, -88_020_449, -89_780_858, -91_576_475, -93_408_004,]}"
   ]
  },
  {
   "cell_type": "code",
   "execution_count": null,
   "id": "309bee5c",
   "metadata": {},
   "outputs": [],
   "source": [
    "for index, year in enumerate(MTBS_values['years']):\n",
    "    \n",
    "    print('Opex value testing in {}: MTBS: {} TUD/VO: {}'.format(year, MTBS_values['values'][index], DCCollectionCable.df[DCCollectionCable.df.index==year].opex.item()))\n",
    "    np.testing.assert_almost_equal(MTBS_values['values'][index],  DCCollectionCable.df[DCCollectionCable.df.index==year].opex.item(), 0)"
   ]
  },
  {
   "cell_type": "markdown",
   "id": "def73eff",
   "metadata": {},
   "source": [
    "##### 5.3 - Decommissioning + divestment\n"
   ]
  },
  {
   "cell_type": "code",
   "execution_count": null,
   "id": "657a2d27",
   "metadata": {},
   "outputs": [],
   "source": [
    "MTBS_values = {'years': [2052],\n",
    "               'values': [-305518900.631867+1124453940.4800005]} # decommissioning from MTBS, residual from python"
   ]
  },
  {
   "cell_type": "code",
   "execution_count": null,
   "id": "ab6aa948",
   "metadata": {},
   "outputs": [],
   "source": [
    "for index, year in enumerate(MTBS_values['years']):\n",
    "    \n",
    "    print('Residual value testing in {}: MTBS: {} TUD/VO: {}'.format(year, MTBS_values['values'][index], DCCollectionCable.df[DCCollectionCable.df.index==year].capex.item()))\n",
    "    np.testing.assert_almost_equal(MTBS_values['values'][index],  DCCollectionCable.df[DCCollectionCable.df.index==year].capex.item(), 0)"
   ]
  },
  {
   "cell_type": "markdown",
   "id": "7b21bab6",
   "metadata": {},
   "source": [
    "#####  6. Test values - DCAC Converter\n",
    "##### 6.1 - CAPEX values"
   ]
  },
  {
   "cell_type": "code",
   "execution_count": null,
   "id": "f96c7afe",
   "metadata": {},
   "outputs": [],
   "source": [
    "MTBS_values = {'years': [2023, 2024, 2025], \n",
    "               'values': [-22_691_124, -46_289_893, -47_215_691,]}"
   ]
  },
  {
   "cell_type": "code",
   "execution_count": null,
   "id": "a3a7f59a",
   "metadata": {},
   "outputs": [],
   "source": [
    "for index, year in enumerate(MTBS_values['years']):\n",
    "    \n",
    "    print('CAPEX value testing in {}: MTBS: {} TUD/VO: {}'.format(year, MTBS_values['values'][index], DCACConverter.df[DCACConverter.df.index==year].capex.item()))\n",
    "    np.testing.assert_almost_equal(MTBS_values['values'][index],  DCACConverter.df[DCACConverter.df.index==year].capex.item(), 0)"
   ]
  },
  {
   "cell_type": "markdown",
   "id": "be647572",
   "metadata": {},
   "source": [
    "##### 6.2 - OPEX values"
   ]
  },
  {
   "cell_type": "code",
   "execution_count": null,
   "id": "eb2aafc3",
   "metadata": {},
   "outputs": [],
   "source": [
    "MTBS_values = {'years': [2026, 2027, 2028, 2029, 2030, 2031, 2032, 2033, 2034, 2035, 2036, 2037, 2038, 2039, 2040, 2041, 2042, 2043, 2044, 2045, 2046, 2047, 2048, 2049, 2050, 2051, 2052],\n",
    "               'values': [-4_402_127, -4_490_169, -4_579_973, -4_671_572, -4_765_004, -4_860_304, -4_957_510, -5_056_660, -5_157_793, -5_260_949, -5_366_168, -5_473_491, -5_582_961, -5_694_621, -5_808_513, -5_924_683, -6_043_177, -6_164_040, -6_287_321, -6_413_068, -6_541_329, -6_672_156, -6_805_599, -6_941_711, -7_080_545, -11_848_712, -12_085_686,]}"
   ]
  },
  {
   "cell_type": "code",
   "execution_count": null,
   "id": "2c5e9b8e",
   "metadata": {},
   "outputs": [],
   "source": [
    "for index, year in enumerate(MTBS_values['years']):\n",
    "    \n",
    "    print('Opex value testing in {}: MTBS: {} TUD/VO: {}'.format(year, MTBS_values['values'][index], DCACConverter.df[DCACConverter.df.index==year].opex.item()))\n",
    "    np.testing.assert_almost_equal(MTBS_values['values'][index],  DCACConverter.df[DCACConverter.df.index==year].opex.item(), 0)"
   ]
  },
  {
   "cell_type": "markdown",
   "id": "264dcfa7",
   "metadata": {},
   "source": [
    "##### 6.3 - Decommissioning + divestment\n"
   ]
  },
  {
   "cell_type": "code",
   "execution_count": null,
   "id": "2f8da21f",
   "metadata": {},
   "outputs": [],
   "source": [
    "MTBS_values = {'years': [2052],\n",
    "               'values': [-305518900.631867+1124453940.4800005]} # decommissioning from MTBS, residual from python"
   ]
  },
  {
   "cell_type": "code",
   "execution_count": null,
   "id": "3d242298",
   "metadata": {},
   "outputs": [],
   "source": [
    "for index, year in enumerate(MTBS_values['years']):\n",
    "    \n",
    "    print('Residual value testing in {}: MTBS: {} TUD/VO: {}'.format(year, MTBS_values['values'][index], DCACConverter.df[DCACConverter.df.index==year].capex.item()))\n",
    "    np.testing.assert_almost_equal(MTBS_values['values'][index],  DCACConverter.df[DCACConverter.df.index==year].capex.item(), 0)"
   ]
  },
  {
   "cell_type": "markdown",
   "id": "2aebb3af",
   "metadata": {},
   "source": [
    "#####  7. Test values - Mainland\n",
    "##### 7.1 - CAPEX values"
   ]
  },
  {
   "cell_type": "code",
   "execution_count": 27,
   "id": "c3b2a6dd",
   "metadata": {},
   "outputs": [],
   "source": [
    "MTBS_values = {'years': [2023, 2024, 2025], \n",
    "               'values': [-3_672_000, -7_490_880, -7_640_698,]}"
   ]
  },
  {
   "cell_type": "code",
   "execution_count": 28,
   "id": "9bdcd05b",
   "metadata": {},
   "outputs": [
    {
     "name": "stdout",
     "output_type": "stream",
     "text": [
      "CAPEX value testing in 2023: MTBS: -3672000 TUD/VO: -3672000.0\n",
      "CAPEX value testing in 2024: MTBS: -7490880 TUD/VO: -7490880.0\n",
      "CAPEX value testing in 2025: MTBS: -7640698 TUD/VO: -7640697.6\n"
     ]
    }
   ],
   "source": [
    "for index, year in enumerate(MTBS_values['years']):\n",
    "    \n",
    "    print('CAPEX value testing in {}: MTBS: {} TUD/VO: {}'.format(year, MTBS_values['values'][index], Mainland.df[Mainland.df.index==year].capex.item()))\n",
    "    np.testing.assert_almost_equal(MTBS_values['values'][index],  Mainland.df[Mainland.df.index==year].capex.item(), 0)"
   ]
  },
  {
   "cell_type": "markdown",
   "id": "5ff786a1",
   "metadata": {},
   "source": [
    "##### 7.2 - OPEX values"
   ]
  },
  {
   "cell_type": "code",
   "execution_count": 29,
   "id": "ae8cc3d9",
   "metadata": {},
   "outputs": [],
   "source": [
    "MTBS_values = {'years': [2026, 2027, 2028, 2029, 2030, 2031, 2032, 2033, 2034, 2035, 2036, 2037, 2038, 2039, 2040, 2041, 2042, 2043, 2044, 2045, 2046, 2047, 2048, 2049, 2050, 2051, 2052],\n",
    "               'values': [-2_137_128, -2_179_870, -2_223_468, -2_267_937, -2_313_296, -2_359_562, -2_406_753, -2_454_888, -2_503_986, -2_554_065, -2_605_147, -2_657_250, -2_710_395, -2_764_603, -2_819_895, -2_876_293, -2_933_818, -2_992_495, -3_052_345, -3_113_392, -3_175_659, -3_239_173, -3_303_956, -3_370_035, -3_437_436, -3_506_185, -3_576_308,]}"
   ]
  },
  {
   "cell_type": "code",
   "execution_count": 30,
   "id": "ad1914ce",
   "metadata": {},
   "outputs": [
    {
     "name": "stdout",
     "output_type": "stream",
     "text": [
      "Opex value testing in 2026: MTBS: -2137128 TUD/VO: -2137127.69731604\n",
      "Opex value testing in 2027: MTBS: -2179870 TUD/VO: -2179870.2512623607\n",
      "Opex value testing in 2028: MTBS: -2223468 TUD/VO: -2223467.656287608\n",
      "Opex value testing in 2029: MTBS: -2267937 TUD/VO: -2267937.00941336\n",
      "Opex value testing in 2030: MTBS: -2313296 TUD/VO: -2313295.7496016277\n",
      "Opex value testing in 2031: MTBS: -2359562 TUD/VO: -2359561.6645936603\n",
      "Opex value testing in 2032: MTBS: -2406753 TUD/VO: -2406752.8978855335\n",
      "Opex value testing in 2033: MTBS: -2454888 TUD/VO: -2454887.955843244\n",
      "Opex value testing in 2034: MTBS: -2503986 TUD/VO: -2503985.714960109\n",
      "Opex value testing in 2035: MTBS: -2554065 TUD/VO: -2554065.429259311\n",
      "Opex value testing in 2036: MTBS: -2605147 TUD/VO: -2605146.7378444974\n",
      "Opex value testing in 2037: MTBS: -2657250 TUD/VO: -2657249.6726013874\n",
      "Opex value testing in 2038: MTBS: -2710395 TUD/VO: -2710394.6660534153\n",
      "Opex value testing in 2039: MTBS: -2764603 TUD/VO: -2764602.559374484\n",
      "Opex value testing in 2040: MTBS: -2819895 TUD/VO: -2819894.6105619734\n",
      "Opex value testing in 2041: MTBS: -2876293 TUD/VO: -2876292.5027732127\n",
      "Opex value testing in 2042: MTBS: -2933818 TUD/VO: -2933818.3528286773\n",
      "Opex value testing in 2043: MTBS: -2992495 TUD/VO: -2992494.719885251\n",
      "Opex value testing in 2044: MTBS: -3052345 TUD/VO: -3052344.6142829563\n",
      "Opex value testing in 2045: MTBS: -3113392 TUD/VO: -3113391.5065686153\n",
      "Opex value testing in 2046: MTBS: -3175659 TUD/VO: -3175659.3366999878\n",
      "Opex value testing in 2047: MTBS: -3239173 TUD/VO: -3239172.5234339875\n",
      "Opex value testing in 2048: MTBS: -3303956 TUD/VO: -3303955.973902667\n",
      "Opex value testing in 2049: MTBS: -3370035 TUD/VO: -3370035.093380721\n",
      "Opex value testing in 2050: MTBS: -3437436 TUD/VO: -3437435.795248335\n",
      "Opex value testing in 2051: MTBS: -3506185 TUD/VO: -3506184.5111533017\n",
      "Opex value testing in 2052: MTBS: -3576308 TUD/VO: -3916908.9824598315\n"
     ]
    },
    {
     "ename": "AssertionError",
     "evalue": "\nArrays are not almost equal to 0 decimals\n ACTUAL: -3576308\n DESIRED: -3916908.9824598315",
     "output_type": "error",
     "traceback": [
      "\u001b[1;31m---------------------------------------------------------------------------\u001b[0m",
      "\u001b[1;31mAssertionError\u001b[0m                            Traceback (most recent call last)",
      "Input \u001b[1;32mIn [30]\u001b[0m, in \u001b[0;36m<cell line: 1>\u001b[1;34m()\u001b[0m\n\u001b[0;32m      1\u001b[0m \u001b[38;5;28;01mfor\u001b[39;00m index, year \u001b[38;5;129;01min\u001b[39;00m \u001b[38;5;28menumerate\u001b[39m(MTBS_values[\u001b[38;5;124m'\u001b[39m\u001b[38;5;124myears\u001b[39m\u001b[38;5;124m'\u001b[39m]):\n\u001b[0;32m      3\u001b[0m     \u001b[38;5;28mprint\u001b[39m(\u001b[38;5;124m'\u001b[39m\u001b[38;5;124mOpex value testing in \u001b[39m\u001b[38;5;132;01m{}\u001b[39;00m\u001b[38;5;124m: MTBS: \u001b[39m\u001b[38;5;132;01m{}\u001b[39;00m\u001b[38;5;124m TUD/VO: \u001b[39m\u001b[38;5;132;01m{}\u001b[39;00m\u001b[38;5;124m'\u001b[39m\u001b[38;5;241m.\u001b[39mformat(year, MTBS_values[\u001b[38;5;124m'\u001b[39m\u001b[38;5;124mvalues\u001b[39m\u001b[38;5;124m'\u001b[39m][index], Mainland\u001b[38;5;241m.\u001b[39mdf[Mainland\u001b[38;5;241m.\u001b[39mdf\u001b[38;5;241m.\u001b[39mindex\u001b[38;5;241m==\u001b[39myear]\u001b[38;5;241m.\u001b[39mopex\u001b[38;5;241m.\u001b[39mitem()))\n\u001b[1;32m----> 4\u001b[0m     \u001b[43mnp\u001b[49m\u001b[38;5;241;43m.\u001b[39;49m\u001b[43mtesting\u001b[49m\u001b[38;5;241;43m.\u001b[39;49m\u001b[43massert_almost_equal\u001b[49m\u001b[43m(\u001b[49m\u001b[43mMTBS_values\u001b[49m\u001b[43m[\u001b[49m\u001b[38;5;124;43m'\u001b[39;49m\u001b[38;5;124;43mvalues\u001b[39;49m\u001b[38;5;124;43m'\u001b[39;49m\u001b[43m]\u001b[49m\u001b[43m[\u001b[49m\u001b[43mindex\u001b[49m\u001b[43m]\u001b[49m\u001b[43m,\u001b[49m\u001b[43m  \u001b[49m\u001b[43mMainland\u001b[49m\u001b[38;5;241;43m.\u001b[39;49m\u001b[43mdf\u001b[49m\u001b[43m[\u001b[49m\u001b[43mMainland\u001b[49m\u001b[38;5;241;43m.\u001b[39;49m\u001b[43mdf\u001b[49m\u001b[38;5;241;43m.\u001b[39;49m\u001b[43mindex\u001b[49m\u001b[38;5;241;43m==\u001b[39;49m\u001b[43myear\u001b[49m\u001b[43m]\u001b[49m\u001b[38;5;241;43m.\u001b[39;49m\u001b[43mopex\u001b[49m\u001b[38;5;241;43m.\u001b[39;49m\u001b[43mitem\u001b[49m\u001b[43m(\u001b[49m\u001b[43m)\u001b[49m\u001b[43m,\u001b[49m\u001b[43m \u001b[49m\u001b[38;5;241;43m0\u001b[39;49m\u001b[43m)\u001b[49m\n",
      "File \u001b[1;32m~\\Anaconda3\\envs\\gdal\\lib\\site-packages\\numpy\\testing\\_private\\utils.py:599\u001b[0m, in \u001b[0;36massert_almost_equal\u001b[1;34m(actual, desired, decimal, err_msg, verbose)\u001b[0m\n\u001b[0;32m    597\u001b[0m     \u001b[38;5;28;01mpass\u001b[39;00m\n\u001b[0;32m    598\u001b[0m \u001b[38;5;28;01mif\u001b[39;00m \u001b[38;5;28mabs\u001b[39m(desired \u001b[38;5;241m-\u001b[39m actual) \u001b[38;5;241m>\u001b[39m\u001b[38;5;241m=\u001b[39m \u001b[38;5;241m1.5\u001b[39m \u001b[38;5;241m*\u001b[39m \u001b[38;5;241m10.0\u001b[39m\u001b[38;5;241m*\u001b[39m\u001b[38;5;241m*\u001b[39m(\u001b[38;5;241m-\u001b[39mdecimal):\n\u001b[1;32m--> 599\u001b[0m     \u001b[38;5;28;01mraise\u001b[39;00m \u001b[38;5;167;01mAssertionError\u001b[39;00m(_build_err_msg())\n",
      "\u001b[1;31mAssertionError\u001b[0m: \nArrays are not almost equal to 0 decimals\n ACTUAL: -3576308\n DESIRED: -3916908.9824598315"
     ]
    }
   ],
   "source": [
    "for index, year in enumerate(MTBS_values['years']):\n",
    "    \n",
    "    print('Opex value testing in {}: MTBS: {} TUD/VO: {}'.format(year, MTBS_values['values'][index], Mainland.df[Mainland.df.index==year].opex.item()))\n",
    "    np.testing.assert_almost_equal(MTBS_values['values'][index],  Mainland.df[Mainland.df.index==year].opex.item(), 0)"
   ]
  },
  {
   "cell_type": "markdown",
   "id": "8b1ffb35",
   "metadata": {},
   "source": [
    "##### 7.3 - Decommissioning"
   ]
  },
  {
   "cell_type": "code",
   "execution_count": 33,
   "id": "e72ce26f",
   "metadata": {},
   "outputs": [],
   "source": [
    "MTBS_values = {'years': [2052],\n",
    "               'values': [-305518900.631867]} # decommissioning from MTBS, residual from python"
   ]
  },
  {
   "cell_type": "code",
   "execution_count": 34,
   "id": "b9b74a46",
   "metadata": {},
   "outputs": [
    {
     "name": "stdout",
     "output_type": "stream",
     "text": [
      "Decommissioning value testing in 2052: MTBS: -305518900.631867 TUD/VO: -340600.78108346363\n"
     ]
    },
    {
     "ename": "AssertionError",
     "evalue": "\nArrays are not almost equal to 0 decimals\n ACTUAL: -305518900.631867\n DESIRED: -340600.78108346363",
     "output_type": "error",
     "traceback": [
      "\u001b[1;31m---------------------------------------------------------------------------\u001b[0m",
      "\u001b[1;31mAssertionError\u001b[0m                            Traceback (most recent call last)",
      "Input \u001b[1;32mIn [34]\u001b[0m, in \u001b[0;36m<cell line: 1>\u001b[1;34m()\u001b[0m\n\u001b[0;32m      1\u001b[0m \u001b[38;5;28;01mfor\u001b[39;00m index, year \u001b[38;5;129;01min\u001b[39;00m \u001b[38;5;28menumerate\u001b[39m(MTBS_values[\u001b[38;5;124m'\u001b[39m\u001b[38;5;124myears\u001b[39m\u001b[38;5;124m'\u001b[39m]):\n\u001b[0;32m      3\u001b[0m     \u001b[38;5;28mprint\u001b[39m(\u001b[38;5;124m'\u001b[39m\u001b[38;5;124mDecommissioning value testing in \u001b[39m\u001b[38;5;132;01m{}\u001b[39;00m\u001b[38;5;124m: MTBS: \u001b[39m\u001b[38;5;132;01m{}\u001b[39;00m\u001b[38;5;124m TUD/VO: \u001b[39m\u001b[38;5;132;01m{}\u001b[39;00m\u001b[38;5;124m'\u001b[39m\u001b[38;5;241m.\u001b[39mformat(year, MTBS_values[\u001b[38;5;124m'\u001b[39m\u001b[38;5;124mvalues\u001b[39m\u001b[38;5;124m'\u001b[39m][index], Mainland\u001b[38;5;241m.\u001b[39mdecommissioning_value))\n\u001b[1;32m----> 4\u001b[0m     \u001b[43mnp\u001b[49m\u001b[38;5;241;43m.\u001b[39;49m\u001b[43mtesting\u001b[49m\u001b[38;5;241;43m.\u001b[39;49m\u001b[43massert_almost_equal\u001b[49m\u001b[43m(\u001b[49m\u001b[43mMTBS_values\u001b[49m\u001b[43m[\u001b[49m\u001b[38;5;124;43m'\u001b[39;49m\u001b[38;5;124;43mvalues\u001b[39;49m\u001b[38;5;124;43m'\u001b[39;49m\u001b[43m]\u001b[49m\u001b[43m[\u001b[49m\u001b[43mindex\u001b[49m\u001b[43m]\u001b[49m\u001b[43m,\u001b[49m\u001b[43m  \u001b[49m\u001b[43mMainland\u001b[49m\u001b[38;5;241;43m.\u001b[39;49m\u001b[43mdecommissioning_value\u001b[49m\u001b[43m,\u001b[49m\u001b[43m \u001b[49m\u001b[38;5;241;43m0\u001b[39;49m\u001b[43m)\u001b[49m\n",
      "File \u001b[1;32m~\\Anaconda3\\envs\\gdal\\lib\\site-packages\\numpy\\testing\\_private\\utils.py:599\u001b[0m, in \u001b[0;36massert_almost_equal\u001b[1;34m(actual, desired, decimal, err_msg, verbose)\u001b[0m\n\u001b[0;32m    597\u001b[0m     \u001b[38;5;28;01mpass\u001b[39;00m\n\u001b[0;32m    598\u001b[0m \u001b[38;5;28;01mif\u001b[39;00m \u001b[38;5;28mabs\u001b[39m(desired \u001b[38;5;241m-\u001b[39m actual) \u001b[38;5;241m>\u001b[39m\u001b[38;5;241m=\u001b[39m \u001b[38;5;241m1.5\u001b[39m \u001b[38;5;241m*\u001b[39m \u001b[38;5;241m10.0\u001b[39m\u001b[38;5;241m*\u001b[39m\u001b[38;5;241m*\u001b[39m(\u001b[38;5;241m-\u001b[39mdecimal):\n\u001b[1;32m--> 599\u001b[0m     \u001b[38;5;28;01mraise\u001b[39;00m \u001b[38;5;167;01mAssertionError\u001b[39;00m(_build_err_msg())\n",
      "\u001b[1;31mAssertionError\u001b[0m: \nArrays are not almost equal to 0 decimals\n ACTUAL: -305518900.631867\n DESIRED: -340600.78108346363"
     ]
    }
   ],
   "source": [
    "for index, year in enumerate(MTBS_values['years']):\n",
    "    \n",
    "    print('Decommissioning value testing in {}: MTBS: {} TUD/VO: {}'.format(year, MTBS_values['values'][index], Mainland.decommissioning_value))\n",
    "    np.testing.assert_almost_equal(MTBS_values['values'][index],  Mainland.decommissioning_value, 0)"
   ]
  },
  {
   "cell_type": "markdown",
   "id": "6cc07dcc",
   "metadata": {},
   "source": [
    "##### 7.4 - Divestment"
   ]
  },
  {
   "cell_type": "code",
   "execution_count": 35,
   "id": "2968a538",
   "metadata": {},
   "outputs": [],
   "source": [
    "MTBS_values = {'years': [2052],\n",
    "               'values': [1124453940.4800005]} # decommissioning from MTBS, residual from python"
   ]
  },
  {
   "cell_type": "code",
   "execution_count": 36,
   "id": "d535a65c",
   "metadata": {},
   "outputs": [
    {
     "name": "stdout",
     "output_type": "stream",
     "text": [
      "Divestment value testing in 2052: MTBS: 1124453940.4800005 TUD/VO: 12692414.88\n"
     ]
    },
    {
     "ename": "AssertionError",
     "evalue": "\nArrays are not almost equal to 0 decimals\n ACTUAL: 1124453940.4800005\n DESIRED: 12692414.88",
     "output_type": "error",
     "traceback": [
      "\u001b[1;31m---------------------------------------------------------------------------\u001b[0m",
      "\u001b[1;31mAssertionError\u001b[0m                            Traceback (most recent call last)",
      "Input \u001b[1;32mIn [36]\u001b[0m, in \u001b[0;36m<cell line: 1>\u001b[1;34m()\u001b[0m\n\u001b[0;32m      1\u001b[0m \u001b[38;5;28;01mfor\u001b[39;00m index, year \u001b[38;5;129;01min\u001b[39;00m \u001b[38;5;28menumerate\u001b[39m(MTBS_values[\u001b[38;5;124m'\u001b[39m\u001b[38;5;124myears\u001b[39m\u001b[38;5;124m'\u001b[39m]):\n\u001b[0;32m      3\u001b[0m     \u001b[38;5;28mprint\u001b[39m(\u001b[38;5;124m'\u001b[39m\u001b[38;5;124mDivestment value testing in \u001b[39m\u001b[38;5;132;01m{}\u001b[39;00m\u001b[38;5;124m: MTBS: \u001b[39m\u001b[38;5;132;01m{}\u001b[39;00m\u001b[38;5;124m TUD/VO: \u001b[39m\u001b[38;5;132;01m{}\u001b[39;00m\u001b[38;5;124m'\u001b[39m\u001b[38;5;241m.\u001b[39mformat(year, MTBS_values[\u001b[38;5;124m'\u001b[39m\u001b[38;5;124mvalues\u001b[39m\u001b[38;5;124m'\u001b[39m][index], Mainland\u001b[38;5;241m.\u001b[39mdivestment_value))\n\u001b[1;32m----> 4\u001b[0m     \u001b[43mnp\u001b[49m\u001b[38;5;241;43m.\u001b[39;49m\u001b[43mtesting\u001b[49m\u001b[38;5;241;43m.\u001b[39;49m\u001b[43massert_almost_equal\u001b[49m\u001b[43m(\u001b[49m\u001b[43mMTBS_values\u001b[49m\u001b[43m[\u001b[49m\u001b[38;5;124;43m'\u001b[39;49m\u001b[38;5;124;43mvalues\u001b[39;49m\u001b[38;5;124;43m'\u001b[39;49m\u001b[43m]\u001b[49m\u001b[43m[\u001b[49m\u001b[43mindex\u001b[49m\u001b[43m]\u001b[49m\u001b[43m,\u001b[49m\u001b[43m  \u001b[49m\u001b[43mMainland\u001b[49m\u001b[38;5;241;43m.\u001b[39;49m\u001b[43mdivestment_value\u001b[49m\u001b[43m,\u001b[49m\u001b[43m \u001b[49m\u001b[38;5;241;43m0\u001b[39;49m\u001b[43m)\u001b[49m\n",
      "File \u001b[1;32m~\\Anaconda3\\envs\\gdal\\lib\\site-packages\\numpy\\testing\\_private\\utils.py:599\u001b[0m, in \u001b[0;36massert_almost_equal\u001b[1;34m(actual, desired, decimal, err_msg, verbose)\u001b[0m\n\u001b[0;32m    597\u001b[0m     \u001b[38;5;28;01mpass\u001b[39;00m\n\u001b[0;32m    598\u001b[0m \u001b[38;5;28;01mif\u001b[39;00m \u001b[38;5;28mabs\u001b[39m(desired \u001b[38;5;241m-\u001b[39m actual) \u001b[38;5;241m>\u001b[39m\u001b[38;5;241m=\u001b[39m \u001b[38;5;241m1.5\u001b[39m \u001b[38;5;241m*\u001b[39m \u001b[38;5;241m10.0\u001b[39m\u001b[38;5;241m*\u001b[39m\u001b[38;5;241m*\u001b[39m(\u001b[38;5;241m-\u001b[39mdecimal):\n\u001b[1;32m--> 599\u001b[0m     \u001b[38;5;28;01mraise\u001b[39;00m \u001b[38;5;167;01mAssertionError\u001b[39;00m(_build_err_msg())\n",
      "\u001b[1;31mAssertionError\u001b[0m: \nArrays are not almost equal to 0 decimals\n ACTUAL: 1124453940.4800005\n DESIRED: 12692414.88"
     ]
    }
   ],
   "source": [
    "for index, year in enumerate(MTBS_values['years']):\n",
    "    \n",
    "    print('Divestment value testing in {}: MTBS: {} TUD/VO: {}'.format(year, MTBS_values['values'][index], Mainland.divestment_value))\n",
    "    np.testing.assert_almost_equal(MTBS_values['values'][index],  Mainland.divestment_value, 0)"
   ]
  },
  {
   "cell_type": "code",
   "execution_count": null,
   "id": "3243be6d",
   "metadata": {},
   "outputs": [],
   "source": []
  }
 ],
 "metadata": {
  "kernelspec": {
   "display_name": "Python 3 (ipykernel)",
   "language": "python",
   "name": "python3"
  },
  "language_info": {
   "codemirror_mode": {
    "name": "ipython",
    "version": 3
   },
   "file_extension": ".py",
   "mimetype": "text/x-python",
   "name": "python",
   "nbconvert_exporter": "python",
   "pygments_lexer": "ipython3",
   "version": "3.9.12"
  }
 },
 "nbformat": 4,
 "nbformat_minor": 5
}
