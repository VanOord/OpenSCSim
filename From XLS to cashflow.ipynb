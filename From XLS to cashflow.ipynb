{
 "cells": [
  {
   "cell_type": "markdown",
   "id": "6bb113ce",
   "metadata": {},
   "source": [
    "#### 0. Import basic methods from source.py\n",
    "Import useful methods from source.py (NB: can later be integrated into a package)"
   ]
  },
  {
   "cell_type": "code",
   "execution_count": 1,
   "id": "f9fd7be4",
   "metadata": {},
   "outputs": [],
   "source": [
    "from source import *"
   ]
  },
  {
   "cell_type": "markdown",
   "id": "d8645f61",
   "metadata": {},
   "source": [
    "#### 1. Open xls file and ingest Inputs table\n",
    "Note I am assuming that all inputs will be aggregated into one single inputs table"
   ]
  },
  {
   "cell_type": "code",
   "execution_count": 2,
   "id": "a522a4e6",
   "metadata": {},
   "outputs": [],
   "source": [
    "filename = r'Inputs.xlsx'"
   ]
  },
  {
   "cell_type": "code",
   "execution_count": 3,
   "id": "37e90e09",
   "metadata": {},
   "outputs": [],
   "source": [
    "# load workbook\n",
    "wb = load_workbook(filename)"
   ]
  },
  {
   "cell_type": "code",
   "execution_count": 4,
   "id": "b2007e11",
   "metadata": {},
   "outputs": [],
   "source": [
    "# load worksheet\n",
    "ws = wb[\"Python test sheet\"]"
   ]
  },
  {
   "cell_type": "code",
   "execution_count": 5,
   "id": "50617ff9",
   "metadata": {},
   "outputs": [],
   "source": [
    "mapping = {}\n",
    "\n",
    "for entry, data_boundary in ws.tables.items():\n",
    "    # parse the data within the ref boundary\n",
    "    data = ws[data_boundary]\n",
    "    # extract the data \n",
    "    # the inner list comprehension gets the values for each cell in the table\n",
    "    content = [[cell.value for cell in ent] \n",
    "               for ent in data\n",
    "          ]\n",
    "    \n",
    "    # find header\n",
    "    header = content[0]\n",
    "    \n",
    "    # find the rest ... the contents, excluding the header\n",
    "    rest = content[1:]\n",
    "    \n",
    "    # create dataframe with the column names\n",
    "    # and pair table name with dataframe\n",
    "    df = pd.DataFrame(rest, columns = header)\n",
    "    mapping[entry] = df"
   ]
  },
  {
   "cell_type": "code",
   "execution_count": 6,
   "id": "8ccd6aaa",
   "metadata": {},
   "outputs": [
    {
     "data": {
      "text/html": [
       "<div>\n",
       "<style scoped>\n",
       "    .dataframe tbody tr th:only-of-type {\n",
       "        vertical-align: middle;\n",
       "    }\n",
       "\n",
       "    .dataframe tbody tr th {\n",
       "        vertical-align: top;\n",
       "    }\n",
       "\n",
       "    .dataframe thead th {\n",
       "        text-align: right;\n",
       "    }\n",
       "</style>\n",
       "<table border=\"1\" class=\"dataframe\">\n",
       "  <thead>\n",
       "    <tr style=\"text-align: right;\">\n",
       "      <th></th>\n",
       "      <th>Sub-system</th>\n",
       "      <th>Element</th>\n",
       "      <th>Component</th>\n",
       "      <th>Type</th>\n",
       "      <th>Description</th>\n",
       "      <th>Number</th>\n",
       "      <th>Unit</th>\n",
       "      <th>Category</th>\n",
       "    </tr>\n",
       "  </thead>\n",
       "  <tbody>\n",
       "    <tr>\n",
       "      <th>0</th>\n",
       "      <td>Wind energy source &amp; Transport</td>\n",
       "      <td>Offshore wind park</td>\n",
       "      <td>Foundations</td>\n",
       "      <td>Capex</td>\n",
       "      <td>Construction duration</td>\n",
       "      <td>3</td>\n",
       "      <td>years</td>\n",
       "      <td>Capex</td>\n",
       "    </tr>\n",
       "    <tr>\n",
       "      <th>1</th>\n",
       "      <td>Wind energy source &amp; Transport</td>\n",
       "      <td>Offshore wind park</td>\n",
       "      <td>Foundations</td>\n",
       "      <td>Capex</td>\n",
       "      <td>Capex allocation</td>\n",
       "      <td>0.4, 0.3, 0.3</td>\n",
       "      <td>-</td>\n",
       "      <td>Capex</td>\n",
       "    </tr>\n",
       "    <tr>\n",
       "      <th>2</th>\n",
       "      <td>Wind energy source &amp; Transport</td>\n",
       "      <td>Offshore wind park</td>\n",
       "      <td>Foundations</td>\n",
       "      <td>Capex</td>\n",
       "      <td>Jacket or monopile costs (Development and Proj...</td>\n",
       "      <td>100000</td>\n",
       "      <td>€ / unit</td>\n",
       "      <td>Development and Project Management</td>\n",
       "    </tr>\n",
       "    <tr>\n",
       "      <th>3</th>\n",
       "      <td>Wind energy source &amp; Transport</td>\n",
       "      <td>Offshore wind park</td>\n",
       "      <td>Foundations</td>\n",
       "      <td>Capex</td>\n",
       "      <td>Jacket or monopile costs (Procurement)</td>\n",
       "      <td>400000</td>\n",
       "      <td>€ / unit</td>\n",
       "      <td>Procurement</td>\n",
       "    </tr>\n",
       "    <tr>\n",
       "      <th>4</th>\n",
       "      <td>Wind energy source &amp; Transport</td>\n",
       "      <td>Offshore wind park</td>\n",
       "      <td>Foundations</td>\n",
       "      <td>Capex</td>\n",
       "      <td>Jacket or monopile costs (Installation and Com...</td>\n",
       "      <td>300000</td>\n",
       "      <td>€ / unit</td>\n",
       "      <td>Installation and Commissioning</td>\n",
       "    </tr>\n",
       "  </tbody>\n",
       "</table>\n",
       "</div>"
      ],
      "text/plain": [
       "                       Sub-system             Element    Component   Type  \\\n",
       "0  Wind energy source & Transport  Offshore wind park  Foundations  Capex   \n",
       "1  Wind energy source & Transport  Offshore wind park  Foundations  Capex   \n",
       "2  Wind energy source & Transport  Offshore wind park  Foundations  Capex   \n",
       "3  Wind energy source & Transport  Offshore wind park  Foundations  Capex   \n",
       "4  Wind energy source & Transport  Offshore wind park  Foundations  Capex   \n",
       "\n",
       "                                         Description         Number      Unit  \\\n",
       "0                              Construction duration              3     years   \n",
       "1                                   Capex allocation  0.4, 0.3, 0.3         -   \n",
       "2  Jacket or monopile costs (Development and Proj...         100000  € / unit   \n",
       "3             Jacket or monopile costs (Procurement)         400000  € / unit   \n",
       "4  Jacket or monopile costs (Installation and Com...         300000  € / unit   \n",
       "\n",
       "                             Category  \n",
       "0                               Capex  \n",
       "1                               Capex  \n",
       "2  Development and Project Management  \n",
       "3                         Procurement  \n",
       "4      Installation and Commissioning  "
      ]
     },
     "execution_count": 6,
     "metadata": {},
     "output_type": "execute_result"
    }
   ],
   "source": [
    "Inputs = pd.DataFrame(mapping['Inputs'])\n",
    "Inputs.head()"
   ]
  },
  {
   "cell_type": "markdown",
   "id": "48c8e882",
   "metadata": {},
   "source": [
    "#### 2. Select one item from the Inputs table (generate cashflow overview)\n",
    "##### A. do per item"
   ]
  },
  {
   "cell_type": "code",
   "execution_count": 7,
   "id": "72550bc9",
   "metadata": {},
   "outputs": [
    {
     "data": {
      "text/plain": [
       "'Construction items Foundations: 80 units'"
      ]
     },
     "metadata": {},
     "output_type": "display_data"
    },
    {
     "data": {
      "text/plain": [
       "'CAPEX component Foundations: 77600000 eu for 80 unit(s)'"
      ]
     },
     "metadata": {},
     "output_type": "display_data"
    },
    {
     "data": {
      "text/plain": [
       "'Construction duration Foundations: 3 years'"
      ]
     },
     "metadata": {},
     "output_type": "display_data"
    },
    {
     "data": {
      "text/plain": [
       "'Construction allocation Foundations: [0.4, 0.3, 0.3] per year'"
      ]
     },
     "metadata": {},
     "output_type": "display_data"
    },
    {
     "data": {
      "text/plain": [
       "'OPEX component Foundations: 2328000.0 eu for 80 unit(s)'"
      ]
     },
     "metadata": {},
     "output_type": "display_data"
    },
    {
     "data": {
      "text/plain": [
       "'Revenue Foundations: 0 euro/unit'"
      ]
     },
     "metadata": {},
     "output_type": "display_data"
    },
    {
     "data": {
      "image/png": "[encoded data removed]",
      "text/plain": [
       "<Figure size 1152x576 with 3 Axes>"
      ]
     },
     "metadata": {
      "needs_background": "light"
     },
     "output_type": "display_data"
    }
   ],
   "source": [
    "df_Foundations = Inputs_2_cashflow(Inputs, startyear=2022, lifecycle=11, component='Foundations',Debug=True)\n",
    "df_npv_Foundations = calculate_npv(df_Foundations)\n",
    "create_npv_plot(df_npv_Foundations, cash_flow_lims=[-100,100], npv_lims=[-100,100])"
   ]
  },
  {
   "cell_type": "code",
   "execution_count": null,
   "id": "a324aa7d",
   "metadata": {},
   "outputs": [
    {
     "data": {
      "text/plain": [
       "'Construction items Turbines: 80 units'"
      ]
     },
     "metadata": {},
     "output_type": "display_data"
    },
    {
     "data": {
      "text/plain": [
       "'CAPEX component Turbines: 904000000 eu for 80 unit(s)'"
      ]
     },
     "metadata": {},
     "output_type": "display_data"
    },
    {
     "data": {
      "text/plain": [
       "'Construction duration Turbines: 3 years'"
      ]
     },
     "metadata": {},
     "output_type": "display_data"
    },
    {
     "data": {
      "text/plain": [
       "'Construction allocation Turbines: [0.4, 0.3, 0.3] per year'"
      ]
     },
     "metadata": {},
     "output_type": "display_data"
    },
    {
     "data": {
      "text/plain": [
       "'OPEX component Turbines: 27120000.0 eu for 80 unit(s)'"
      ]
     },
     "metadata": {},
     "output_type": "display_data"
    },
    {
     "data": {
      "text/plain": [
       "'Revenue Turbines: 0 euro/unit'"
      ]
     },
     "metadata": {},
     "output_type": "display_data"
    }
   ],
   "source": [
    "df_Turbines = Inputs_2_cashflow(Inputs, startyear=2028, lifecycle=11, component='Turbines',Debug=True)\n",
    "df_npv_Turbines = calculate_npv(df_Turbines)\n",
    "create_npv_plot(df_Turbines, cash_flow_lims=[-500,500], npv_lims=[-500,500])"
   ]
  },
  {
   "cell_type": "markdown",
   "id": "c7264d1e",
   "metadata": {},
   "source": [
    "##### B. combine two items"
   ]
  },
  {
   "cell_type": "code",
   "execution_count": null,
   "id": "d5918842",
   "metadata": {},
   "outputs": [],
   "source": [
    "df_Foundations = Inputs_2_cashflow(Inputs, startyear=2022, lifecycle=11, component='Foundations',Debug=False)\n",
    "df_Turbines = Inputs_2_cashflow(Inputs, startyear=2028, lifecycle=11, component='Turbines',Debug=False)\n",
    "df_combined = combine_cashflow_dataframes([df_Foundations, df_Turbines])"
   ]
  },
  {
   "cell_type": "code",
   "execution_count": null,
   "id": "9787021b",
   "metadata": {},
   "outputs": [],
   "source": [
    "df_npv_combined = calculate_npv(df_combined)"
   ]
  },
  {
   "cell_type": "code",
   "execution_count": null,
   "id": "fec83e34",
   "metadata": {},
   "outputs": [],
   "source": [
    "create_npv_plot(df_npv_combined, cash_flow_lims=[-500,500], npv_lims=[-500,500])"
   ]
  },
  {
   "cell_type": "code",
   "execution_count": null,
   "id": "60462a6f",
   "metadata": {},
   "outputs": [],
   "source": []
  }
 ],
 "metadata": {
  "kernelspec": {
   "display_name": "Python 3 (ipykernel)",
   "language": "python",
   "name": "python3"
  },
  "language_info": {
   "codemirror_mode": {
    "name": "ipython",
    "version": 3
   },
   "file_extension": ".py",
   "mimetype": "text/x-python",
   "name": "python",
   "nbconvert_exporter": "python",
   "pygments_lexer": "ipython3",
   "version": "3.9.12"
  }
 },
 "nbformat": 4,
 "nbformat_minor": 5
}
