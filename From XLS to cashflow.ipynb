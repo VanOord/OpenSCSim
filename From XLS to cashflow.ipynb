{
 "cells": [
  {
   "cell_type": "markdown",
   "id": "8d68fadb",
   "metadata": {},
   "source": [
    "#### Assumptions\n",
    "* Prijzen worden ingeschat op een bepaald jaar, vanaf dat jaar worden prijzen geescaleerd naar de toekomst. \n",
    "* price_reference_year (dan NPV 1 en de escalation is 1)\n",
    "* price_reference_year + 1 CAPEX start\n",
    "* CAPEX are distributed via the allocation factors, allocation starts immediately in startyear\n",
    "* CAPEX is escalated with escalation factors\n",
    "* escalation values start on the start year (if startyear is 2023, then the CAPEX values are 1.02 * Capex values)\n",
    "* OPEX values are the sum of the escalated CAPEX values, and OPEX values are themselves not escalated\n",
    "* all things have decommissioning costs\n",
    "* some things may have residual value\n",
    "* automatisch herinvesteren\n",
    "\n",
    "#### Potential to do's\n",
    "* add geographical data to the system objects (to plot them in space, but also to possibly calculate distances)\n",
    "* add 'owner' per system object (is the business case for each stakeholder positive?)\n",
    "* now in case of an error, a default value is returned. The exeptions should return a clear error statement\n",
    "* develop tests\n",
    "* check what are now input fields and what is read from the xls (make sure this is handeled properly"
   ]
  },
  {
   "cell_type": "markdown",
   "id": "6bb113ce",
   "metadata": {},
   "source": [
    "#### 0. Import basic methods from source.py\n",
    "Import useful methods from source.py (NB: can later be integrated into a package)"
   ]
  },
  {
   "cell_type": "code",
   "execution_count": 1,
   "id": "f9fd7be4",
   "metadata": {},
   "outputs": [],
   "source": [
    "from source import *"
   ]
  },
  {
   "cell_type": "markdown",
   "id": "d8645f61",
   "metadata": {},
   "source": [
    "#### 1. Open xls file and ingest Inputs table\n",
    "Note I am assuming that all inputs will be aggregated into one single inputs table"
   ]
  },
  {
   "cell_type": "code",
   "execution_count": 2,
   "id": "a522a4e6",
   "metadata": {},
   "outputs": [],
   "source": [
    "filename = r'H2 Model - Input sheet.xlsm'"
   ]
  },
  {
   "cell_type": "code",
   "execution_count": 3,
   "id": "37e90e09",
   "metadata": {},
   "outputs": [
    {
     "name": "stdout",
     "output_type": "stream",
     "text": [
      "CPU times: total: 375 ms\n",
      "Wall time: 498 ms\n"
     ]
    }
   ],
   "source": [
    "%%time\n",
    "# load workbook\n",
    "wb = load_workbook(filename)"
   ]
  },
  {
   "cell_type": "code",
   "execution_count": 4,
   "id": "b2007e11",
   "metadata": {},
   "outputs": [],
   "source": [
    "# load worksheet\n",
    "ws = wb[\"Input Tab\"]"
   ]
  },
  {
   "cell_type": "code",
   "execution_count": 5,
   "id": "50617ff9",
   "metadata": {},
   "outputs": [],
   "source": [
    "mapping = {}\n",
    "\n",
    "for entry, data_boundary in ws.tables.items():\n",
    "    # parse the data within the ref boundary\n",
    "    data = ws[data_boundary]\n",
    "    \n",
    "    # extract the data (the inner list comprehension gets the values for each cell in the table)\n",
    "    content = [[cell.value for cell in ent] for ent in data]\n",
    "    \n",
    "    # find header\n",
    "    header = content[0]\n",
    "    \n",
    "    # find the rest ... the contents, excluding the header\n",
    "    rest = content[1:]\n",
    "    \n",
    "    # create dataframe with the column names\n",
    "    # and pair table name with dataframe\n",
    "    df = pd.DataFrame(rest, columns = header)\n",
    "    mapping[entry] = df"
   ]
  },
  {
   "cell_type": "code",
   "execution_count": 6,
   "id": "8ccd6aaa",
   "metadata": {},
   "outputs": [
    {
     "data": {
      "text/html": [
       "<div>\n",
       "<style scoped>\n",
       "    .dataframe tbody tr th:only-of-type {\n",
       "        vertical-align: middle;\n",
       "    }\n",
       "\n",
       "    .dataframe tbody tr th {\n",
       "        vertical-align: top;\n",
       "    }\n",
       "\n",
       "    .dataframe thead th {\n",
       "        text-align: right;\n",
       "    }\n",
       "</style>\n",
       "<table border=\"1\" class=\"dataframe\">\n",
       "  <thead>\n",
       "    <tr style=\"text-align: right;\">\n",
       "      <th></th>\n",
       "      <th>Category</th>\n",
       "      <th>Sub-system</th>\n",
       "      <th>Element</th>\n",
       "      <th>Component</th>\n",
       "      <th>Description</th>\n",
       "      <th>Number</th>\n",
       "      <th>Unit</th>\n",
       "      <th>Comments</th>\n",
       "    </tr>\n",
       "  </thead>\n",
       "  <tbody>\n",
       "    <tr>\n",
       "      <th>0</th>\n",
       "      <td>System input</td>\n",
       "      <td>Wind energy source &amp; Transport</td>\n",
       "      <td>Offshore wind park</td>\n",
       "      <td>-</td>\n",
       "      <td>Total Windpark Capacity</td>\n",
       "      <td>3000</td>\n",
       "      <td>MW</td>\n",
       "      <td>None</td>\n",
       "    </tr>\n",
       "    <tr>\n",
       "      <th>1</th>\n",
       "      <td>System input</td>\n",
       "      <td>Wind energy source &amp; Transport</td>\n",
       "      <td>Offshore wind park</td>\n",
       "      <td>Turbine</td>\n",
       "      <td>Windturbine Capacity per unit</td>\n",
       "      <td>20</td>\n",
       "      <td>MW</td>\n",
       "      <td>None</td>\n",
       "    </tr>\n",
       "    <tr>\n",
       "      <th>2</th>\n",
       "      <td>System input</td>\n",
       "      <td>Wind energy source &amp; Transport</td>\n",
       "      <td>Offshore wind park</td>\n",
       "      <td>Inter-array cable</td>\n",
       "      <td>Length</td>\n",
       "      <td>50</td>\n",
       "      <td>km</td>\n",
       "      <td>None</td>\n",
       "    </tr>\n",
       "    <tr>\n",
       "      <th>3</th>\n",
       "      <td>System input</td>\n",
       "      <td>AC Substation &amp; Transport</td>\n",
       "      <td>AC Substation &amp; Transport</td>\n",
       "      <td>AC Substation</td>\n",
       "      <td>Capacity per unit</td>\n",
       "      <td>2000</td>\n",
       "      <td>MW</td>\n",
       "      <td>None</td>\n",
       "    </tr>\n",
       "    <tr>\n",
       "      <th>4</th>\n",
       "      <td>System input</td>\n",
       "      <td>AC Substation &amp; Transport</td>\n",
       "      <td>AC Substation &amp; Transport</td>\n",
       "      <td>AC collection cable</td>\n",
       "      <td>Length</td>\n",
       "      <td>25</td>\n",
       "      <td>km</td>\n",
       "      <td>None</td>\n",
       "    </tr>\n",
       "  </tbody>\n",
       "</table>\n",
       "</div>"
      ],
      "text/plain": [
       "       Category                      Sub-system                    Element  \\\n",
       "0  System input  Wind energy source & Transport         Offshore wind park   \n",
       "1  System input  Wind energy source & Transport         Offshore wind park   \n",
       "2  System input  Wind energy source & Transport         Offshore wind park   \n",
       "3  System input       AC Substation & Transport  AC Substation & Transport   \n",
       "4  System input       AC Substation & Transport  AC Substation & Transport   \n",
       "\n",
       "             Component                    Description Number Unit Comments  \n",
       "0                    -        Total Windpark Capacity   3000   MW     None  \n",
       "1              Turbine  Windturbine Capacity per unit     20   MW     None  \n",
       "2    Inter-array cable                         Length     50   km     None  \n",
       "3        AC Substation              Capacity per unit   2000   MW     None  \n",
       "4  AC collection cable                         Length     25   km     None  "
      ]
     },
     "execution_count": 6,
     "metadata": {},
     "output_type": "execute_result"
    }
   ],
   "source": [
    "Inputs = pd.DataFrame(mapping['Scenario1'])\n",
    "Inputs.head()"
   ]
  },
  {
   "cell_type": "markdown",
   "id": "392e8f87",
   "metadata": {},
   "source": [
    "#### 2. Data inspection "
   ]
  },
  {
   "cell_type": "code",
   "execution_count": 7,
   "id": "cc3f9523",
   "metadata": {},
   "outputs": [
    {
     "data": {
      "text/plain": [
       "Index(['Category', 'Sub-system', 'Element', 'Component', 'Description',\n",
       "       'Number', 'Unit', 'Comments'],\n",
       "      dtype='object')"
      ]
     },
     "execution_count": 7,
     "metadata": {},
     "output_type": "execute_result"
    }
   ],
   "source": [
    "Inputs.columns"
   ]
  },
  {
   "cell_type": "code",
   "execution_count": 8,
   "id": "52ef5091",
   "metadata": {},
   "outputs": [
    {
     "data": {
      "text/html": [
       "<div>\n",
       "<style scoped>\n",
       "    .dataframe tbody tr th:only-of-type {\n",
       "        vertical-align: middle;\n",
       "    }\n",
       "\n",
       "    .dataframe tbody tr th {\n",
       "        vertical-align: top;\n",
       "    }\n",
       "\n",
       "    .dataframe thead th {\n",
       "        text-align: right;\n",
       "    }\n",
       "</style>\n",
       "<table border=\"1\" class=\"dataframe\">\n",
       "  <thead>\n",
       "    <tr style=\"text-align: right;\">\n",
       "      <th></th>\n",
       "      <th>Category</th>\n",
       "      <th>Sub-system</th>\n",
       "      <th>Element</th>\n",
       "      <th>Component</th>\n",
       "      <th>Description</th>\n",
       "      <th>Number</th>\n",
       "      <th>Unit</th>\n",
       "      <th>Comments</th>\n",
       "    </tr>\n",
       "  </thead>\n",
       "  <tbody>\n",
       "    <tr>\n",
       "      <th>0</th>\n",
       "      <td>System input</td>\n",
       "      <td>Wind energy source &amp; Transport</td>\n",
       "      <td>Offshore wind park</td>\n",
       "      <td>-</td>\n",
       "      <td>Total Windpark Capacity</td>\n",
       "      <td>3000</td>\n",
       "      <td>MW</td>\n",
       "      <td>None</td>\n",
       "    </tr>\n",
       "    <tr>\n",
       "      <th>1</th>\n",
       "      <td>System input</td>\n",
       "      <td>Wind energy source &amp; Transport</td>\n",
       "      <td>Offshore wind park</td>\n",
       "      <td>Turbine</td>\n",
       "      <td>Windturbine Capacity per unit</td>\n",
       "      <td>20</td>\n",
       "      <td>MW</td>\n",
       "      <td>None</td>\n",
       "    </tr>\n",
       "    <tr>\n",
       "      <th>2</th>\n",
       "      <td>System input</td>\n",
       "      <td>Wind energy source &amp; Transport</td>\n",
       "      <td>Offshore wind park</td>\n",
       "      <td>Inter-array cable</td>\n",
       "      <td>Length</td>\n",
       "      <td>50</td>\n",
       "      <td>km</td>\n",
       "      <td>None</td>\n",
       "    </tr>\n",
       "    <tr>\n",
       "      <th>14</th>\n",
       "      <td>System input</td>\n",
       "      <td>Wind energy source &amp; Transport</td>\n",
       "      <td>Offshore wind park</td>\n",
       "      <td>Inter-array cable</td>\n",
       "      <td>Transport loss</td>\n",
       "      <td>0.02</td>\n",
       "      <td>%</td>\n",
       "      <td>None</td>\n",
       "    </tr>\n",
       "    <tr>\n",
       "      <th>23</th>\n",
       "      <td>Capex</td>\n",
       "      <td>Wind energy source &amp; Transport</td>\n",
       "      <td>Offshore wind park</td>\n",
       "      <td>Foundation &amp; cable</td>\n",
       "      <td>Foundation &amp; cable costs (Development and Proj...</td>\n",
       "      <td>207000</td>\n",
       "      <td>EUR / MW</td>\n",
       "      <td>0,1 * Foundation procurement</td>\n",
       "    </tr>\n",
       "  </tbody>\n",
       "</table>\n",
       "</div>"
      ],
      "text/plain": [
       "        Category                      Sub-system             Element  \\\n",
       "0   System input  Wind energy source & Transport  Offshore wind park   \n",
       "1   System input  Wind energy source & Transport  Offshore wind park   \n",
       "2   System input  Wind energy source & Transport  Offshore wind park   \n",
       "14  System input  Wind energy source & Transport  Offshore wind park   \n",
       "23         Capex  Wind energy source & Transport  Offshore wind park   \n",
       "\n",
       "             Component                                        Description  \\\n",
       "0                    -                            Total Windpark Capacity   \n",
       "1              Turbine                      Windturbine Capacity per unit   \n",
       "2    Inter-array cable                                             Length   \n",
       "14   Inter-array cable                                     Transport loss   \n",
       "23  Foundation & cable  Foundation & cable costs (Development and Proj...   \n",
       "\n",
       "    Number      Unit                      Comments  \n",
       "0     3000        MW                          None  \n",
       "1       20        MW                          None  \n",
       "2       50        km                          None  \n",
       "14    0.02         %                          None  \n",
       "23  207000  EUR / MW  0,1 * Foundation procurement  "
      ]
     },
     "execution_count": 8,
     "metadata": {},
     "output_type": "execute_result"
    }
   ],
   "source": [
    "Inputs[Inputs['Sub-system']=='Wind energy source & Transport'].head()"
   ]
  },
  {
   "cell_type": "code",
   "execution_count": 9,
   "id": "3689448f",
   "metadata": {},
   "outputs": [
    {
     "data": {
      "text/plain": [
       "['Wind energy source & Transport',\n",
       " 'AC Substation & Transport',\n",
       " 'Converter & Transport',\n",
       " 'Electrolysis, Electricity & Transport',\n",
       " '-']"
      ]
     },
     "execution_count": 9,
     "metadata": {},
     "output_type": "execute_result"
    }
   ],
   "source": [
    "list(Inputs['Sub-system'].unique())"
   ]
  },
  {
   "cell_type": "code",
   "execution_count": 10,
   "id": "2c56480d",
   "metadata": {},
   "outputs": [
    {
     "data": {
      "text/plain": [
       "['Offshore wind park',\n",
       " 'AC Substation & Transport',\n",
       " 'Converter',\n",
       " 'Electrolysis',\n",
       " 'Electricity',\n",
       " 'Facility location',\n",
       " 'Transport',\n",
       " '-']"
      ]
     },
     "execution_count": 10,
     "metadata": {},
     "output_type": "execute_result"
    }
   ],
   "source": [
    "list(Inputs['Element'].unique())"
   ]
  },
  {
   "cell_type": "code",
   "execution_count": 11,
   "id": "5c72b579",
   "metadata": {},
   "outputs": [
    {
     "data": {
      "text/plain": [
       "['-',\n",
       " 'Turbine',\n",
       " 'Inter-array cable',\n",
       " 'AC Substation',\n",
       " 'AC collection cable',\n",
       " 'HVDC Converter',\n",
       " 'HVDC cable',\n",
       " 'Electrolyser',\n",
       " 'DCAC Converter',\n",
       " 'Artificial island',\n",
       " 'Mainland',\n",
       " 'H2 Pipeline',\n",
       " 'Electricity cable',\n",
       " 'HVDC Cable',\n",
       " 'Foundation & cable',\n",
       " 'DC collection cable',\n",
       " 'Desalination unit',\n",
       " 'Compressor unit',\n",
       " 'Storage unit',\n",
       " 'Compressor after storage']"
      ]
     },
     "execution_count": 11,
     "metadata": {},
     "output_type": "execute_result"
    }
   ],
   "source": [
    "list(Inputs['Component'].unique())"
   ]
  },
  {
   "cell_type": "code",
   "execution_count": 12,
   "id": "9823e204",
   "metadata": {},
   "outputs": [
    {
     "data": {
      "text/html": [
       "<div>\n",
       "<style scoped>\n",
       "    .dataframe tbody tr th:only-of-type {\n",
       "        vertical-align: middle;\n",
       "    }\n",
       "\n",
       "    .dataframe tbody tr th {\n",
       "        vertical-align: top;\n",
       "    }\n",
       "\n",
       "    .dataframe thead th {\n",
       "        text-align: right;\n",
       "    }\n",
       "</style>\n",
       "<table border=\"1\" class=\"dataframe\">\n",
       "  <thead>\n",
       "    <tr style=\"text-align: right;\">\n",
       "      <th></th>\n",
       "      <th>Category</th>\n",
       "      <th>Sub-system</th>\n",
       "      <th>Element</th>\n",
       "      <th>Component</th>\n",
       "      <th>Description</th>\n",
       "      <th>Number</th>\n",
       "      <th>Unit</th>\n",
       "      <th>Comments</th>\n",
       "    </tr>\n",
       "  </thead>\n",
       "  <tbody>\n",
       "    <tr>\n",
       "      <th>23</th>\n",
       "      <td>Capex</td>\n",
       "      <td>Wind energy source &amp; Transport</td>\n",
       "      <td>Offshore wind park</td>\n",
       "      <td>Foundation &amp; cable</td>\n",
       "      <td>Foundation &amp; cable costs (Development and Proj...</td>\n",
       "      <td>207000</td>\n",
       "      <td>EUR / MW</td>\n",
       "      <td>0,1 * Foundation procurement</td>\n",
       "    </tr>\n",
       "    <tr>\n",
       "      <th>24</th>\n",
       "      <td>Capex</td>\n",
       "      <td>Wind energy source &amp; Transport</td>\n",
       "      <td>Offshore wind park</td>\n",
       "      <td>Foundation &amp; cable</td>\n",
       "      <td>Foundation &amp; cable costs (Procurement)</td>\n",
       "      <td>2070000</td>\n",
       "      <td>EUR / MW</td>\n",
       "      <td>1,8 * Turbine procurement</td>\n",
       "    </tr>\n",
       "    <tr>\n",
       "      <th>25</th>\n",
       "      <td>Capex</td>\n",
       "      <td>Wind energy source &amp; Transport</td>\n",
       "      <td>Offshore wind park</td>\n",
       "      <td>Foundation &amp; cable</td>\n",
       "      <td>Foundation &amp; cable costs (Installation and Com...</td>\n",
       "      <td>414000</td>\n",
       "      <td>EUR / MW</td>\n",
       "      <td>0,2 * Foundation procurement</td>\n",
       "    </tr>\n",
       "    <tr>\n",
       "      <th>26</th>\n",
       "      <td>Capex</td>\n",
       "      <td>Wind energy source &amp; Transport</td>\n",
       "      <td>Offshore wind park</td>\n",
       "      <td>Foundation &amp; cable</td>\n",
       "      <td>Number of units</td>\n",
       "      <td>3000</td>\n",
       "      <td>MW</td>\n",
       "      <td>Unit = MW</td>\n",
       "    </tr>\n",
       "    <tr>\n",
       "      <th>27</th>\n",
       "      <td>Capex</td>\n",
       "      <td>Wind energy source &amp; Transport</td>\n",
       "      <td>Offshore wind park</td>\n",
       "      <td>Foundation &amp; cable</td>\n",
       "      <td>Construction duration</td>\n",
       "      <td>3</td>\n",
       "      <td>years</td>\n",
       "      <td>None</td>\n",
       "    </tr>\n",
       "    <tr>\n",
       "      <th>28</th>\n",
       "      <td>Capex</td>\n",
       "      <td>Wind energy source &amp; Transport</td>\n",
       "      <td>Offshore wind park</td>\n",
       "      <td>Foundation &amp; cable</td>\n",
       "      <td>Share of Investments in Year 1</td>\n",
       "      <td>0.4</td>\n",
       "      <td>% of Capex total</td>\n",
       "      <td>None</td>\n",
       "    </tr>\n",
       "    <tr>\n",
       "      <th>29</th>\n",
       "      <td>Capex</td>\n",
       "      <td>Wind energy source &amp; Transport</td>\n",
       "      <td>Offshore wind park</td>\n",
       "      <td>Foundation &amp; cable</td>\n",
       "      <td>Share of Investments in Year 2</td>\n",
       "      <td>0.3</td>\n",
       "      <td>% of Capex total</td>\n",
       "      <td>None</td>\n",
       "    </tr>\n",
       "    <tr>\n",
       "      <th>30</th>\n",
       "      <td>Capex</td>\n",
       "      <td>Wind energy source &amp; Transport</td>\n",
       "      <td>Offshore wind park</td>\n",
       "      <td>Foundation &amp; cable</td>\n",
       "      <td>Share of Investments in Year 3</td>\n",
       "      <td>0.3</td>\n",
       "      <td>% of Capex total</td>\n",
       "      <td>None</td>\n",
       "    </tr>\n",
       "    <tr>\n",
       "      <th>31</th>\n",
       "      <td>Capex</td>\n",
       "      <td>Wind energy source &amp; Transport</td>\n",
       "      <td>Offshore wind park</td>\n",
       "      <td>Foundation &amp; cable</td>\n",
       "      <td>Economic Lifetime</td>\n",
       "      <td>50</td>\n",
       "      <td>years</td>\n",
       "      <td>None</td>\n",
       "    </tr>\n",
       "    <tr>\n",
       "      <th>32</th>\n",
       "      <td>Capex</td>\n",
       "      <td>Wind energy source &amp; Transport</td>\n",
       "      <td>Offshore wind park</td>\n",
       "      <td>Foundation &amp; cable</td>\n",
       "      <td>Depreciation Flag</td>\n",
       "      <td>1</td>\n",
       "      <td>flag</td>\n",
       "      <td>None</td>\n",
       "    </tr>\n",
       "    <tr>\n",
       "      <th>33</th>\n",
       "      <td>Opex</td>\n",
       "      <td>Wind energy source &amp; Transport</td>\n",
       "      <td>Offshore wind park</td>\n",
       "      <td>Foundation &amp; cable</td>\n",
       "      <td>Yearly Variable Costs Flag</td>\n",
       "      <td>1</td>\n",
       "      <td>flag</td>\n",
       "      <td>None</td>\n",
       "    </tr>\n",
       "    <tr>\n",
       "      <th>34</th>\n",
       "      <td>Opex</td>\n",
       "      <td>Wind energy source &amp; Transport</td>\n",
       "      <td>Offshore wind park</td>\n",
       "      <td>Foundation &amp; cable</td>\n",
       "      <td>Yearly Variable Costs Rate</td>\n",
       "      <td>0.03</td>\n",
       "      <td>% of Capex total</td>\n",
       "      <td>None</td>\n",
       "    </tr>\n",
       "    <tr>\n",
       "      <th>35</th>\n",
       "      <td>Opex</td>\n",
       "      <td>Wind energy source &amp; Transport</td>\n",
       "      <td>Offshore wind park</td>\n",
       "      <td>Foundation &amp; cable</td>\n",
       "      <td>Insurance Flag</td>\n",
       "      <td>1</td>\n",
       "      <td>flag</td>\n",
       "      <td>None</td>\n",
       "    </tr>\n",
       "    <tr>\n",
       "      <th>36</th>\n",
       "      <td>Opex</td>\n",
       "      <td>Wind energy source &amp; Transport</td>\n",
       "      <td>Offshore wind park</td>\n",
       "      <td>Foundation &amp; cable</td>\n",
       "      <td>Insurance Rate</td>\n",
       "      <td>0.005</td>\n",
       "      <td>% of Capex total</td>\n",
       "      <td>None</td>\n",
       "    </tr>\n",
       "    <tr>\n",
       "      <th>37</th>\n",
       "      <td>Abex</td>\n",
       "      <td>Wind energy source &amp; Transport</td>\n",
       "      <td>Offshore wind park</td>\n",
       "      <td>Foundation &amp; cable</td>\n",
       "      <td>Foundation &amp; cable decommissioning</td>\n",
       "      <td>0.02</td>\n",
       "      <td>% of Capex total</td>\n",
       "      <td>None</td>\n",
       "    </tr>\n",
       "    <tr>\n",
       "      <th>38</th>\n",
       "      <td>Residual value</td>\n",
       "      <td>Wind energy source &amp; Transport</td>\n",
       "      <td>Offshore wind park</td>\n",
       "      <td>Foundation &amp; cable</td>\n",
       "      <td>Foundation &amp; cable residual value</td>\n",
       "      <td>0.01</td>\n",
       "      <td>% of Capex total</td>\n",
       "      <td>None</td>\n",
       "    </tr>\n",
       "  </tbody>\n",
       "</table>\n",
       "</div>"
      ],
      "text/plain": [
       "          Category                      Sub-system             Element  \\\n",
       "23           Capex  Wind energy source & Transport  Offshore wind park   \n",
       "24           Capex  Wind energy source & Transport  Offshore wind park   \n",
       "25           Capex  Wind energy source & Transport  Offshore wind park   \n",
       "26           Capex  Wind energy source & Transport  Offshore wind park   \n",
       "27           Capex  Wind energy source & Transport  Offshore wind park   \n",
       "28           Capex  Wind energy source & Transport  Offshore wind park   \n",
       "29           Capex  Wind energy source & Transport  Offshore wind park   \n",
       "30           Capex  Wind energy source & Transport  Offshore wind park   \n",
       "31           Capex  Wind energy source & Transport  Offshore wind park   \n",
       "32           Capex  Wind energy source & Transport  Offshore wind park   \n",
       "33            Opex  Wind energy source & Transport  Offshore wind park   \n",
       "34            Opex  Wind energy source & Transport  Offshore wind park   \n",
       "35            Opex  Wind energy source & Transport  Offshore wind park   \n",
       "36            Opex  Wind energy source & Transport  Offshore wind park   \n",
       "37            Abex  Wind energy source & Transport  Offshore wind park   \n",
       "38  Residual value  Wind energy source & Transport  Offshore wind park   \n",
       "\n",
       "             Component                                        Description  \\\n",
       "23  Foundation & cable  Foundation & cable costs (Development and Proj...   \n",
       "24  Foundation & cable             Foundation & cable costs (Procurement)   \n",
       "25  Foundation & cable  Foundation & cable costs (Installation and Com...   \n",
       "26  Foundation & cable                                    Number of units   \n",
       "27  Foundation & cable                              Construction duration   \n",
       "28  Foundation & cable                     Share of Investments in Year 1   \n",
       "29  Foundation & cable                     Share of Investments in Year 2   \n",
       "30  Foundation & cable                     Share of Investments in Year 3   \n",
       "31  Foundation & cable                                  Economic Lifetime   \n",
       "32  Foundation & cable                                  Depreciation Flag   \n",
       "33  Foundation & cable                         Yearly Variable Costs Flag   \n",
       "34  Foundation & cable                         Yearly Variable Costs Rate   \n",
       "35  Foundation & cable                                     Insurance Flag   \n",
       "36  Foundation & cable                                     Insurance Rate   \n",
       "37  Foundation & cable                 Foundation & cable decommissioning   \n",
       "38  Foundation & cable                  Foundation & cable residual value   \n",
       "\n",
       "     Number              Unit                      Comments  \n",
       "23   207000          EUR / MW  0,1 * Foundation procurement  \n",
       "24  2070000          EUR / MW     1,8 * Turbine procurement  \n",
       "25   414000          EUR / MW  0,2 * Foundation procurement  \n",
       "26     3000                MW                     Unit = MW  \n",
       "27        3             years                          None  \n",
       "28      0.4  % of Capex total                          None  \n",
       "29      0.3  % of Capex total                          None  \n",
       "30      0.3  % of Capex total                          None  \n",
       "31       50             years                          None  \n",
       "32        1              flag                          None  \n",
       "33        1              flag                          None  \n",
       "34     0.03  % of Capex total                          None  \n",
       "35        1              flag                          None  \n",
       "36    0.005  % of Capex total                          None  \n",
       "37     0.02  % of Capex total                          None  \n",
       "38     0.01  % of Capex total                          None  "
      ]
     },
     "execution_count": 12,
     "metadata": {},
     "output_type": "execute_result"
    }
   ],
   "source": [
    "subsystem='Wind energy source & Transport'\n",
    "element='Offshore wind park'\n",
    "component='Foundation & cable'\n",
    "\n",
    "Inputs[\n",
    "    (Inputs['Sub-system'] == subsystem) &\n",
    "    (Inputs['Element'] == element) &\n",
    "    (Inputs['Component'] == component) \n",
    "]"
   ]
  },
  {
   "cell_type": "markdown",
   "id": "48c8e882",
   "metadata": {},
   "source": [
    "#### 3. Select one item from the Inputs table (generate cashflow overview)"
   ]
  },
  {
   "cell_type": "markdown",
   "id": "a4bfad87",
   "metadata": {},
   "source": [
    "##### A. do per item"
   ]
  },
  {
   "cell_type": "code",
   "execution_count": 13,
   "id": "63b0f496",
   "metadata": {
    "scrolled": false
   },
   "outputs": [
    {
     "name": "stdout",
     "output_type": "stream",
     "text": [
      "CPU times: total: 62.5 ms\n",
      "Wall time: 57.4 ms\n"
     ]
    }
   ],
   "source": [
    "%%time\n",
    "df_Foundations = Inputs_2_cashflow(Inputs, \n",
    "                                   startyear=2023,\n",
    "                                   lifecycle=50,\n",
    "                                   subsystem='Wind energy source & Transport',\n",
    "                                   element='Offshore wind park',\n",
    "                                   component='Foundation & cable',\n",
    "                                   Debug=False)"
   ]
  },
  {
   "cell_type": "code",
   "execution_count": 14,
   "id": "f6e573a1",
   "metadata": {
    "scrolled": false
   },
   "outputs": [
    {
     "name": "stdout",
     "output_type": "stream",
     "text": [
      "CPU times: total: 15.6 ms\n",
      "Wall time: 15 ms\n"
     ]
    }
   ],
   "source": [
    "%%time\n",
    "df_npv_Foundations = calculate_npv(df_Foundations,\n",
    "                                baseyear=Inputs[Inputs.Description == 'Escalation base year'].Number.item(),\n",
    "                                WACC=Inputs[Inputs.Description == 'WACC'].Number.item())"
   ]
  },
  {
   "cell_type": "code",
   "execution_count": null,
   "id": "46423b96",
   "metadata": {},
   "outputs": [],
   "source": [
    "%%time\n",
    "lims = [-15000, 15000]\n",
    "create_npv_plot(df_npv_Foundations, cash_flow_lims=lims, npv_lims=lims)"
   ]
  },
  {
   "cell_type": "code",
   "execution_count": null,
   "id": "1a9d2908",
   "metadata": {},
   "outputs": [],
   "source": [
    "%%time\n",
    "df_Turbines = Inputs_2_cashflow(Inputs, \n",
    "                                   startyear=2023,\n",
    "                                   lifecycle=50,\n",
    "                                   subsystem='Wind energy source & Transport',\n",
    "                                   element='Offshore wind park',\n",
    "                                   component='Turbine',\n",
    "                                   Debug=False)"
   ]
  },
  {
   "cell_type": "code",
   "execution_count": null,
   "id": "667e47b9",
   "metadata": {},
   "outputs": [],
   "source": [
    "%%time\n",
    "df_npv_Turbines = calculate_npv(df_Turbines,\n",
    "                                baseyear=Inputs[Inputs.Description == 'Escalation base year'].Number.item(),\n",
    "                                WACC=Inputs[Inputs.Description == 'WACC'].Number.item())"
   ]
  },
  {
   "cell_type": "code",
   "execution_count": null,
   "id": "5797f03d",
   "metadata": {},
   "outputs": [],
   "source": [
    "%%time\n",
    "lims = [-15000, 15000]\n",
    "create_npv_plot(df_npv_Turbines, cash_flow_lims=lims, npv_lims=lims)"
   ]
  },
  {
   "cell_type": "markdown",
   "id": "c7264d1e",
   "metadata": {},
   "source": [
    "##### B. combine two items"
   ]
  },
  {
   "cell_type": "code",
   "execution_count": null,
   "id": "d5918842",
   "metadata": {},
   "outputs": [],
   "source": [
    "df_Foundations = Inputs_2_cashflow(Inputs, \n",
    "                                   startyear=2023,\n",
    "                                   lifecycle=50,\n",
    "                                   subsystem='Wind energy source & Transport',\n",
    "                                   element='Offshore wind park',\n",
    "                                   component='Foundation & cable',\n",
    "                                   Debug=False)\n",
    "df_Turbines = Inputs_2_cashflow(Inputs,\n",
    "                                startyear=2023,\n",
    "                                lifecycle=50,\n",
    "                                subsystem='Wind energy source & Transport',\n",
    "                                element='Offshore wind park',\n",
    "                                component='Turbine',\n",
    "                                Debug=False)\n",
    "df_combined = combine_cashflow_dataframes([df_Foundations, df_Turbines])"
   ]
  },
  {
   "cell_type": "code",
   "execution_count": null,
   "id": "7061015a",
   "metadata": {},
   "outputs": [],
   "source": [
    "df_Foundations"
   ]
  },
  {
   "cell_type": "code",
   "execution_count": null,
   "id": "74f74a4a",
   "metadata": {},
   "outputs": [],
   "source": [
    "df_Turbines"
   ]
  },
  {
   "cell_type": "code",
   "execution_count": null,
   "id": "9787021b",
   "metadata": {},
   "outputs": [],
   "source": [
    "df_npv_combined = calculate_npv(df_combined)\n",
    "df_npv_combined"
   ]
  },
  {
   "cell_type": "code",
   "execution_count": null,
   "id": "fec83e34",
   "metadata": {},
   "outputs": [],
   "source": [
    "%%time\n",
    "lims = [-15000, 15000]\n",
    "create_npv_plot(df_npv_combined, cash_flow_lims=lims, npv_lims=lims)"
   ]
  }
 ],
 "metadata": {
  "kernelspec": {
   "display_name": "Python 3 (ipykernel)",
   "language": "python",
   "name": "python3"
  },
  "language_info": {
   "codemirror_mode": {
    "name": "ipython",
    "version": 3
   },
   "file_extension": ".py",
   "mimetype": "text/x-python",
   "name": "python",
   "nbconvert_exporter": "python",
   "pygments_lexer": "ipython3",
   "version": "3.9.12"
  }
 },
 "nbformat": 4,
 "nbformat_minor": 5
}
