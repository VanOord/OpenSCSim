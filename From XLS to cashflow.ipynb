{
 "cells": [
  {
   "cell_type": "markdown",
   "id": "6bb113ce",
   "metadata": {},
   "source": [
    "#### 0. Import basic methods from source.py\n",
    "Import useful methods from source.py (NB: can later be integrated into a package)"
   ]
  },
  {
   "cell_type": "code",
   "execution_count": 1,
   "id": "f9fd7be4",
   "metadata": {},
   "outputs": [],
   "source": [
    "from source import *"
   ]
  },
  {
   "cell_type": "markdown",
   "id": "d8645f61",
   "metadata": {},
   "source": [
    "#### 1. Open xls file and ingest Inputs table\n",
    "Note I am assuming that all inputs will be aggregated into one single inputs table"
   ]
  },
  {
   "cell_type": "code",
   "execution_count": 2,
   "id": "a522a4e6",
   "metadata": {},
   "outputs": [],
   "source": [
    "filename = r'H2 Model Wouter.xlsm'"
   ]
  },
  {
   "cell_type": "code",
   "execution_count": null,
   "id": "37e90e09",
   "metadata": {},
   "outputs": [
    {
     "name": "stderr",
     "output_type": "stream",
     "text": [
      "C:\\Users\\MRV\\Anaconda3\\envs\\gdal\\lib\\site-packages\\openpyxl\\worksheet\\_reader.py:312: UserWarning: Data Validation extension is not supported and will be removed\n",
      "  warn(msg)\n"
     ]
    }
   ],
   "source": [
    "%%time\n",
    "# load workbook\n",
    "wb = load_workbook(filename)"
   ]
  },
  {
   "cell_type": "code",
   "execution_count": null,
   "id": "b2007e11",
   "metadata": {},
   "outputs": [],
   "source": [
    "# load worksheet\n",
    "ws = wb[\"Input Tab\"]"
   ]
  },
  {
   "cell_type": "code",
   "execution_count": null,
   "id": "50617ff9",
   "metadata": {},
   "outputs": [],
   "source": [
    "mapping = {}\n",
    "\n",
    "for entry, data_boundary in ws.tables.items():\n",
    "    # parse the data within the ref boundary\n",
    "    data = ws[data_boundary]\n",
    "    \n",
    "    # extract the data (the inner list comprehension gets the values for each cell in the table)\n",
    "    content = [[cell.value for cell in ent] for ent in data]\n",
    "    \n",
    "    # find header\n",
    "    header = content[0]\n",
    "    \n",
    "    # find the rest ... the contents, excluding the header\n",
    "    rest = content[1:]\n",
    "    \n",
    "    # create dataframe with the column names\n",
    "    # and pair table name with dataframe\n",
    "    df = pd.DataFrame(rest, columns = header)\n",
    "    mapping[entry] = df"
   ]
  },
  {
   "cell_type": "code",
   "execution_count": null,
   "id": "8ccd6aaa",
   "metadata": {},
   "outputs": [],
   "source": [
    "Inputs = pd.DataFrame(mapping['Scenario1'])\n",
    "Inputs.head()"
   ]
  },
  {
   "cell_type": "markdown",
   "id": "94744d81",
   "metadata": {},
   "source": [
    "#### 2. Data inspection "
   ]
  },
  {
   "cell_type": "code",
   "execution_count": null,
   "id": "d8ae7b32",
   "metadata": {},
   "outputs": [],
   "source": [
    "Inputs.columns"
   ]
  },
  {
   "cell_type": "code",
   "execution_count": null,
   "id": "eb27d381",
   "metadata": {},
   "outputs": [],
   "source": [
    "Inputs[Inputs['Sub-system']=='Wind energy source & Transport'].head()"
   ]
  },
  {
   "cell_type": "code",
   "execution_count": null,
   "id": "fc2f2ce5",
   "metadata": {},
   "outputs": [],
   "source": [
    "list(Inputs['Sub-system'].unique())"
   ]
  },
  {
   "cell_type": "code",
   "execution_count": null,
   "id": "962d3e87",
   "metadata": {},
   "outputs": [],
   "source": [
    "list(Inputs['Element'].unique())"
   ]
  },
  {
   "cell_type": "code",
   "execution_count": null,
   "id": "83c6bbe5",
   "metadata": {},
   "outputs": [],
   "source": [
    "list(Inputs['Component'].unique())"
   ]
  },
  {
   "cell_type": "markdown",
   "id": "48c8e882",
   "metadata": {},
   "source": [
    "#### 3. Select one item from the Inputs table (generate cashflow overview)"
   ]
  },
  {
   "cell_type": "markdown",
   "id": "a4bfad87",
   "metadata": {},
   "source": [
    "##### A. do per item"
   ]
  },
  {
   "cell_type": "code",
   "execution_count": null,
   "id": "8db732eb",
   "metadata": {
    "scrolled": false
   },
   "outputs": [],
   "source": [
    "%%time\n",
    "df_Foundations = Inputs_2_cashflow(Inputs, \n",
    "                                   startyear=2023,\n",
    "                                   lifecycle=50,\n",
    "                                   subsystem='Wind energy source & Transport',\n",
    "                                   element='Offshore wind park',\n",
    "                                   component='Foundation & cable',\n",
    "                                   Debug=True)\n",
    "df_Foundations.head()"
   ]
  },
  {
   "cell_type": "code",
   "execution_count": null,
   "id": "f6e573a1",
   "metadata": {
    "scrolled": false
   },
   "outputs": [],
   "source": [
    "%%time\n",
    "df_npv_Foundations = calculate_npv(df_Foundations)\n",
    "df_npv_Foundations.head()"
   ]
  },
  {
   "cell_type": "code",
   "execution_count": null,
   "id": "de3e7656",
   "metadata": {},
   "outputs": [],
   "source": [
    "%%time\n",
    "lims = [-3500, 3500]\n",
    "create_npv_plot(df_npv_Foundations, cash_flow_lims=lims, npv_lims=lims)"
   ]
  },
  {
   "cell_type": "code",
   "execution_count": null,
   "id": "420ca55a",
   "metadata": {},
   "outputs": [],
   "source": [
    "%%time\n",
    "df_Turbines = Inputs_2_cashflow(Inputs, \n",
    "                                   startyear=2023,\n",
    "                                   lifecycle=11,\n",
    "                                   subsystem='Wind energy source & Transport',\n",
    "                                   element='Offshore wind park',\n",
    "                                   component='Turbine',\n",
    "                                   Debug=True)\n",
    "df_Turbines.head()"
   ]
  },
  {
   "cell_type": "code",
   "execution_count": null,
   "id": "a8794561",
   "metadata": {},
   "outputs": [],
   "source": [
    "%%time\n",
    "df_npv_Turbines = calculate_npv(df_Turbines)\n",
    "df_npv_Turbines.head()"
   ]
  },
  {
   "cell_type": "code",
   "execution_count": null,
   "id": "1817ea70",
   "metadata": {},
   "outputs": [],
   "source": [
    "%%time\n",
    "lims = [-3500, 3500]\n",
    "create_npv_plot(df_npv_Turbines, cash_flow_lims=lims, npv_lims=lims)"
   ]
  },
  {
   "cell_type": "markdown",
   "id": "c7264d1e",
   "metadata": {},
   "source": [
    "##### B. combine two items"
   ]
  },
  {
   "cell_type": "code",
   "execution_count": null,
   "id": "d5918842",
   "metadata": {},
   "outputs": [],
   "source": [
    "df_Foundations = Inputs_2_cashflow(Inputs, startyear=2023, lifecycle=11, component='Foundation & cable',Debug=False)\n",
    "df_Turbines = Inputs_2_cashflow(Inputs, startyear=2023, lifecycle=11, component='Turbine',Debug=False)\n",
    "df_combined = combine_cashflow_dataframes([df_Foundations, df_Turbines])"
   ]
  },
  {
   "cell_type": "code",
   "execution_count": null,
   "id": "9787021b",
   "metadata": {},
   "outputs": [],
   "source": [
    "df_npv_combined = calculate_npv(df_combined)"
   ]
  },
  {
   "cell_type": "code",
   "execution_count": null,
   "id": "fec83e34",
   "metadata": {},
   "outputs": [],
   "source": [
    "%%time\n",
    "lims = [-4500, 4500]\n",
    "create_npv_plot(df_npv_combined, cash_flow_lims=lims, npv_lims=lims)"
   ]
  }
 ],
 "metadata": {
  "kernelspec": {
   "display_name": "Python 3 (ipykernel)",
   "language": "python",
   "name": "python3"
  },
  "language_info": {
   "codemirror_mode": {
    "name": "ipython",
    "version": 3
   },
   "file_extension": ".py",
   "mimetype": "text/x-python",
   "name": "python",
   "nbconvert_exporter": "python",
   "pygments_lexer": "ipython3",
   "version": "3.9.12"
  }
 },
 "nbformat": 4,
 "nbformat_minor": 5
}
