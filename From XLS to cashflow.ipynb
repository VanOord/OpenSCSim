{
 "cells": [
  {
   "cell_type": "markdown",
   "id": "a1661827",
   "metadata": {},
   "source": [
    "#### 0. Import basic methods from source.py\n",
    "Import useful methods from source.py (NB: can later be integrated into a package)"
   ]
  },
  {
   "cell_type": "code",
   "execution_count": 1,
   "id": "f9fd7be4",
   "metadata": {},
   "outputs": [],
   "source": [
    "from source import *"
   ]
  },
  {
   "cell_type": "markdown",
   "id": "d8645f61",
   "metadata": {},
   "source": [
    "#### 1. Open xls file and ingest Inputs table\n",
    "Note I am assuming that all inputs will be aggregated into one single inputs table"
   ]
  },
  {
   "cell_type": "code",
   "execution_count": 2,
   "id": "a522a4e6",
   "metadata": {},
   "outputs": [],
   "source": [
    "filename = r'Inputs.xlsx'"
   ]
  },
  {
   "cell_type": "code",
   "execution_count": 3,
   "id": "37e90e09",
   "metadata": {},
   "outputs": [],
   "source": [
    "# load workbook\n",
    "wb = load_workbook(filename)"
   ]
  },
  {
   "cell_type": "code",
   "execution_count": 4,
   "id": "b2007e11",
   "metadata": {},
   "outputs": [],
   "source": [
    "# load worksheet\n",
    "ws = wb[\"Python test sheet\"]"
   ]
  },
  {
   "cell_type": "code",
   "execution_count": 5,
   "id": "50617ff9",
   "metadata": {},
   "outputs": [],
   "source": [
    "mapping = {}\n",
    "\n",
    "for entry, data_boundary in ws.tables.items():\n",
    "    # parse the data within the ref boundary\n",
    "    data = ws[data_boundary]\n",
    "    # extract the data \n",
    "    # the inner list comprehension gets the values for each cell in the table\n",
    "    content = [[cell.value for cell in ent] \n",
    "               for ent in data\n",
    "          ]\n",
    "    \n",
    "    # find header\n",
    "    header = content[0]\n",
    "    \n",
    "    # find the rest ... the contents, excluding the header\n",
    "    rest = content[1:]\n",
    "    \n",
    "    # create dataframe with the column names\n",
    "    # and pair table name with dataframe\n",
    "    df = pd.DataFrame(rest, columns = header)\n",
    "    mapping[entry] = df"
   ]
  },
  {
   "cell_type": "code",
   "execution_count": 7,
   "id": "8ccd6aaa",
   "metadata": {},
   "outputs": [
    {
     "data": {
      "text/html": [
       "<div>\n",
       "<style scoped>\n",
       "    .dataframe tbody tr th:only-of-type {\n",
       "        vertical-align: middle;\n",
       "    }\n",
       "\n",
       "    .dataframe tbody tr th {\n",
       "        vertical-align: top;\n",
       "    }\n",
       "\n",
       "    .dataframe thead th {\n",
       "        text-align: right;\n",
       "    }\n",
       "</style>\n",
       "<table border=\"1\" class=\"dataframe\">\n",
       "  <thead>\n",
       "    <tr style=\"text-align: right;\">\n",
       "      <th></th>\n",
       "      <th>Sub-system</th>\n",
       "      <th>Element</th>\n",
       "      <th>Component</th>\n",
       "      <th>Type</th>\n",
       "      <th>Description</th>\n",
       "      <th>Number</th>\n",
       "      <th>Unit</th>\n",
       "      <th>Category</th>\n",
       "    </tr>\n",
       "  </thead>\n",
       "  <tbody>\n",
       "    <tr>\n",
       "      <th>0</th>\n",
       "      <td>Wind energy source &amp; Transport</td>\n",
       "      <td>Offshore wind park</td>\n",
       "      <td>Foundations</td>\n",
       "      <td>Capex</td>\n",
       "      <td>Construction duration</td>\n",
       "      <td>3</td>\n",
       "      <td>years</td>\n",
       "      <td>Capex</td>\n",
       "    </tr>\n",
       "    <tr>\n",
       "      <th>1</th>\n",
       "      <td>Wind energy source &amp; Transport</td>\n",
       "      <td>Offshore wind park</td>\n",
       "      <td>Foundations</td>\n",
       "      <td>Capex</td>\n",
       "      <td>Capex allocation</td>\n",
       "      <td>0.4, 0.3, 0.3</td>\n",
       "      <td>-</td>\n",
       "      <td>Capex</td>\n",
       "    </tr>\n",
       "    <tr>\n",
       "      <th>2</th>\n",
       "      <td>Wind energy source &amp; Transport</td>\n",
       "      <td>Offshore wind park</td>\n",
       "      <td>Foundations</td>\n",
       "      <td>Capex</td>\n",
       "      <td>Jacket or monopile costs (Development and Proj...</td>\n",
       "      <td>100000</td>\n",
       "      <td>€ / unit</td>\n",
       "      <td>Development and Project Management</td>\n",
       "    </tr>\n",
       "    <tr>\n",
       "      <th>3</th>\n",
       "      <td>Wind energy source &amp; Transport</td>\n",
       "      <td>Offshore wind park</td>\n",
       "      <td>Foundations</td>\n",
       "      <td>Capex</td>\n",
       "      <td>Jacket or monopile costs (Procurement)</td>\n",
       "      <td>400000</td>\n",
       "      <td>€ / unit</td>\n",
       "      <td>Procurement</td>\n",
       "    </tr>\n",
       "    <tr>\n",
       "      <th>4</th>\n",
       "      <td>Wind energy source &amp; Transport</td>\n",
       "      <td>Offshore wind park</td>\n",
       "      <td>Foundations</td>\n",
       "      <td>Capex</td>\n",
       "      <td>Jacket or monopile costs (Installation)</td>\n",
       "      <td>300000</td>\n",
       "      <td>€ / unit</td>\n",
       "      <td>Installation</td>\n",
       "    </tr>\n",
       "  </tbody>\n",
       "</table>\n",
       "</div>"
      ],
      "text/plain": [
       "                       Sub-system             Element    Component   Type  \\\n",
       "0  Wind energy source & Transport  Offshore wind park  Foundations  Capex   \n",
       "1  Wind energy source & Transport  Offshore wind park  Foundations  Capex   \n",
       "2  Wind energy source & Transport  Offshore wind park  Foundations  Capex   \n",
       "3  Wind energy source & Transport  Offshore wind park  Foundations  Capex   \n",
       "4  Wind energy source & Transport  Offshore wind park  Foundations  Capex   \n",
       "\n",
       "                                         Description         Number      Unit  \\\n",
       "0                              Construction duration              3     years   \n",
       "1                                   Capex allocation  0.4, 0.3, 0.3         -   \n",
       "2  Jacket or monopile costs (Development and Proj...         100000  € / unit   \n",
       "3             Jacket or monopile costs (Procurement)         400000  € / unit   \n",
       "4            Jacket or monopile costs (Installation)         300000  € / unit   \n",
       "\n",
       "                             Category  \n",
       "0                               Capex  \n",
       "1                               Capex  \n",
       "2  Development and Project Management  \n",
       "3                         Procurement  \n",
       "4                        Installation  "
      ]
     },
     "execution_count": 7,
     "metadata": {},
     "output_type": "execute_result"
    }
   ],
   "source": [
    "Inputs = pd.DataFrame(mapping['Inputs'])\n",
    "Inputs.head()"
   ]
  },
  {
   "cell_type": "markdown",
   "id": "48c8e882",
   "metadata": {},
   "source": [
    "#### Select one item from the Inputs table (generate cashflow overview)"
   ]
  },
  {
   "cell_type": "code",
   "execution_count": 47,
   "id": "865db8dd",
   "metadata": {},
   "outputs": [],
   "source": [
    "df = Inputs_2_cashflow(Inputs, startyear=2022, lifecycle=11, Debug=False)"
   ]
  },
  {
   "cell_type": "code",
   "execution_count": 48,
   "id": "d9671e07",
   "metadata": {},
   "outputs": [],
   "source": [
    "df_npv = calculate_npv(df)"
   ]
  },
  {
   "cell_type": "code",
   "execution_count": 49,
   "id": "c7cf5ee9",
   "metadata": {},
   "outputs": [
    {
     "data": {
      "image/png": "[encoded data removed]",
      "text/plain": [
       "<Figure size 1152x576 with 3 Axes>"
      ]
     },
     "metadata": {
      "needs_background": "light"
     },
     "output_type": "display_data"
    }
   ],
   "source": [
    "create_npv_plot(df_npv)"
   ]
  }
 ],
 "metadata": {
  "kernelspec": {
   "display_name": "Python 3 (ipykernel)",
   "language": "python",
   "name": "python3"
  },
  "language_info": {
   "codemirror_mode": {
    "name": "ipython",
    "version": 3
   },
   "file_extension": ".py",
   "mimetype": "text/x-python",
   "name": "python",
   "nbconvert_exporter": "python",
   "pygments_lexer": "ipython3",
   "version": "3.9.12"
  }
 },
 "nbformat": 4,
 "nbformat_minor": 5
}
