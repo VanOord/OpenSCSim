{
 "cells": [
  {
   "cell_type": "markdown",
   "id": "2221dd54",
   "metadata": {},
   "source": [
    "#### Assumptions\n",
    "* CAPEX are distributed via the allocation factors, allocation starts immediately in startyear\n",
    "* CAPEX is escalated with escalation factors\n",
    "* escalation values start on the start year (if startyear is 2023, then the CAPEX values are 1.02 * Capex values)\n",
    "* OPEX values are the sum of the escalated CAPEX values, and OPEX values are themselves not escalated\n",
    "\n",
    "#### Potential to do's\n",
    "* add geographical data to the system objects (to plot them in space, but also to possibly calculate distances)\n",
    "* add 'owner' per system object (is the business case for each stakeholder positive?)\n",
    "* now in case of an error, a default value is returned. The exeptions should return a clear error statement\n",
    "* develop tests\n",
    "* check what are now input fields and what is read from the xls (make sure this is handeled properly"
   ]
  },
  {
   "cell_type": "markdown",
   "id": "6bb113ce",
   "metadata": {},
   "source": [
    "#### 0. Import basic methods from source.py\n",
    "Import useful methods from source.py (NB: can later be integrated into a package)"
   ]
  },
  {
   "cell_type": "code",
   "execution_count": 1,
   "id": "f9fd7be4",
   "metadata": {},
   "outputs": [],
   "source": [
    "from source import *"
   ]
  },
  {
   "cell_type": "markdown",
   "id": "d8645f61",
   "metadata": {},
   "source": [
    "#### 1. Open xls file and ingest Inputs table\n",
    "Note I am assuming that all inputs will be aggregated into one single inputs table"
   ]
  },
  {
   "cell_type": "code",
   "execution_count": 2,
   "id": "a522a4e6",
   "metadata": {},
   "outputs": [],
   "source": [
    "filename = r'H2 Model - Input sheet.xlsm'"
   ]
  },
  {
   "cell_type": "code",
   "execution_count": 3,
   "id": "37e90e09",
   "metadata": {},
   "outputs": [
    {
     "name": "stdout",
     "output_type": "stream",
     "text": [
      "CPU times: total: 234 ms\n",
      "Wall time: 334 ms\n"
     ]
    }
   ],
   "source": [
    "%%time\n",
    "# load workbook\n",
    "wb = load_workbook(filename)"
   ]
  },
  {
   "cell_type": "code",
   "execution_count": 4,
   "id": "b2007e11",
   "metadata": {},
   "outputs": [],
   "source": [
    "# load worksheet\n",
    "ws = wb[\"Input Tab\"]"
   ]
  },
  {
   "cell_type": "code",
   "execution_count": 5,
   "id": "50617ff9",
   "metadata": {},
   "outputs": [],
   "source": [
    "mapping = {}\n",
    "\n",
    "for entry, data_boundary in ws.tables.items():\n",
    "    # parse the data within the ref boundary\n",
    "    data = ws[data_boundary]\n",
    "    \n",
    "    # extract the data (the inner list comprehension gets the values for each cell in the table)\n",
    "    content = [[cell.value for cell in ent] for ent in data]\n",
    "    \n",
    "    # find header\n",
    "    header = content[0]\n",
    "    \n",
    "    # find the rest ... the contents, excluding the header\n",
    "    rest = content[1:]\n",
    "    \n",
    "    # create dataframe with the column names\n",
    "    # and pair table name with dataframe\n",
    "    df = pd.DataFrame(rest, columns = header)\n",
    "    mapping[entry] = df"
   ]
  },
  {
   "cell_type": "code",
   "execution_count": 6,
   "id": "8ccd6aaa",
   "metadata": {},
   "outputs": [
    {
     "data": {
      "text/html": [
       "<div>\n",
       "<style scoped>\n",
       "    .dataframe tbody tr th:only-of-type {\n",
       "        vertical-align: middle;\n",
       "    }\n",
       "\n",
       "    .dataframe tbody tr th {\n",
       "        vertical-align: top;\n",
       "    }\n",
       "\n",
       "    .dataframe thead th {\n",
       "        text-align: right;\n",
       "    }\n",
       "</style>\n",
       "<table border=\"1\" class=\"dataframe\">\n",
       "  <thead>\n",
       "    <tr style=\"text-align: right;\">\n",
       "      <th></th>\n",
       "      <th>Category</th>\n",
       "      <th>Sub-system</th>\n",
       "      <th>Element</th>\n",
       "      <th>Component</th>\n",
       "      <th>Description</th>\n",
       "      <th>Number</th>\n",
       "      <th>Unit</th>\n",
       "      <th>Comments</th>\n",
       "    </tr>\n",
       "  </thead>\n",
       "  <tbody>\n",
       "    <tr>\n",
       "      <th>0</th>\n",
       "      <td>System input</td>\n",
       "      <td>Wind energy source &amp; Transport</td>\n",
       "      <td>Offshore wind park</td>\n",
       "      <td>-</td>\n",
       "      <td>Total Windpark Capacity</td>\n",
       "      <td>3000</td>\n",
       "      <td>MW</td>\n",
       "      <td>None</td>\n",
       "    </tr>\n",
       "    <tr>\n",
       "      <th>1</th>\n",
       "      <td>System input</td>\n",
       "      <td>Wind energy source &amp; Transport</td>\n",
       "      <td>Offshore wind park</td>\n",
       "      <td>Turbine</td>\n",
       "      <td>Windturbine Capacity per unit</td>\n",
       "      <td>20</td>\n",
       "      <td>MW</td>\n",
       "      <td>None</td>\n",
       "    </tr>\n",
       "    <tr>\n",
       "      <th>2</th>\n",
       "      <td>System input</td>\n",
       "      <td>Wind energy source &amp; Transport</td>\n",
       "      <td>Offshore wind park</td>\n",
       "      <td>Inter-array cable</td>\n",
       "      <td>Length</td>\n",
       "      <td>50</td>\n",
       "      <td>km</td>\n",
       "      <td>None</td>\n",
       "    </tr>\n",
       "    <tr>\n",
       "      <th>3</th>\n",
       "      <td>System input</td>\n",
       "      <td>AC Substation &amp; Transport</td>\n",
       "      <td>AC Substation &amp; Transport</td>\n",
       "      <td>AC Substation</td>\n",
       "      <td>Capacity per unit</td>\n",
       "      <td>2000</td>\n",
       "      <td>MW</td>\n",
       "      <td>None</td>\n",
       "    </tr>\n",
       "    <tr>\n",
       "      <th>4</th>\n",
       "      <td>System input</td>\n",
       "      <td>AC Substation &amp; Transport</td>\n",
       "      <td>AC Substation &amp; Transport</td>\n",
       "      <td>AC collection cable</td>\n",
       "      <td>Length</td>\n",
       "      <td>25</td>\n",
       "      <td>km</td>\n",
       "      <td>None</td>\n",
       "    </tr>\n",
       "  </tbody>\n",
       "</table>\n",
       "</div>"
      ],
      "text/plain": [
       "       Category                      Sub-system                    Element  \\\n",
       "0  System input  Wind energy source & Transport         Offshore wind park   \n",
       "1  System input  Wind energy source & Transport         Offshore wind park   \n",
       "2  System input  Wind energy source & Transport         Offshore wind park   \n",
       "3  System input       AC Substation & Transport  AC Substation & Transport   \n",
       "4  System input       AC Substation & Transport  AC Substation & Transport   \n",
       "\n",
       "             Component                    Description Number Unit Comments  \n",
       "0                    -        Total Windpark Capacity   3000   MW     None  \n",
       "1              Turbine  Windturbine Capacity per unit     20   MW     None  \n",
       "2    Inter-array cable                         Length     50   km     None  \n",
       "3        AC Substation              Capacity per unit   2000   MW     None  \n",
       "4  AC collection cable                         Length     25   km     None  "
      ]
     },
     "execution_count": 6,
     "metadata": {},
     "output_type": "execute_result"
    }
   ],
   "source": [
    "Inputs = pd.DataFrame(mapping['Scenario1'])\n",
    "Inputs.head()"
   ]
  },
  {
   "cell_type": "markdown",
   "id": "5333e778",
   "metadata": {},
   "source": [
    "#### 2. Data inspection "
   ]
  },
  {
   "cell_type": "code",
   "execution_count": 7,
   "id": "047c1d6a",
   "metadata": {},
   "outputs": [
    {
     "data": {
      "text/plain": [
       "Index(['Category', 'Sub-system', 'Element', 'Component', 'Description',\n",
       "       'Number', 'Unit', 'Comments'],\n",
       "      dtype='object')"
      ]
     },
     "execution_count": 7,
     "metadata": {},
     "output_type": "execute_result"
    }
   ],
   "source": [
    "Inputs.columns"
   ]
  },
  {
   "cell_type": "code",
   "execution_count": 8,
   "id": "85acbf1e",
   "metadata": {},
   "outputs": [
    {
     "data": {
      "text/html": [
       "<div>\n",
       "<style scoped>\n",
       "    .dataframe tbody tr th:only-of-type {\n",
       "        vertical-align: middle;\n",
       "    }\n",
       "\n",
       "    .dataframe tbody tr th {\n",
       "        vertical-align: top;\n",
       "    }\n",
       "\n",
       "    .dataframe thead th {\n",
       "        text-align: right;\n",
       "    }\n",
       "</style>\n",
       "<table border=\"1\" class=\"dataframe\">\n",
       "  <thead>\n",
       "    <tr style=\"text-align: right;\">\n",
       "      <th></th>\n",
       "      <th>Category</th>\n",
       "      <th>Sub-system</th>\n",
       "      <th>Element</th>\n",
       "      <th>Component</th>\n",
       "      <th>Description</th>\n",
       "      <th>Number</th>\n",
       "      <th>Unit</th>\n",
       "      <th>Comments</th>\n",
       "    </tr>\n",
       "  </thead>\n",
       "  <tbody>\n",
       "    <tr>\n",
       "      <th>0</th>\n",
       "      <td>System input</td>\n",
       "      <td>Wind energy source &amp; Transport</td>\n",
       "      <td>Offshore wind park</td>\n",
       "      <td>-</td>\n",
       "      <td>Total Windpark Capacity</td>\n",
       "      <td>3000</td>\n",
       "      <td>MW</td>\n",
       "      <td>None</td>\n",
       "    </tr>\n",
       "    <tr>\n",
       "      <th>1</th>\n",
       "      <td>System input</td>\n",
       "      <td>Wind energy source &amp; Transport</td>\n",
       "      <td>Offshore wind park</td>\n",
       "      <td>Turbine</td>\n",
       "      <td>Windturbine Capacity per unit</td>\n",
       "      <td>20</td>\n",
       "      <td>MW</td>\n",
       "      <td>None</td>\n",
       "    </tr>\n",
       "    <tr>\n",
       "      <th>2</th>\n",
       "      <td>System input</td>\n",
       "      <td>Wind energy source &amp; Transport</td>\n",
       "      <td>Offshore wind park</td>\n",
       "      <td>Inter-array cable</td>\n",
       "      <td>Length</td>\n",
       "      <td>50</td>\n",
       "      <td>km</td>\n",
       "      <td>None</td>\n",
       "    </tr>\n",
       "    <tr>\n",
       "      <th>14</th>\n",
       "      <td>System input</td>\n",
       "      <td>Wind energy source &amp; Transport</td>\n",
       "      <td>Offshore wind park</td>\n",
       "      <td>Inter-array cable</td>\n",
       "      <td>Transport loss</td>\n",
       "      <td>0.02</td>\n",
       "      <td>%</td>\n",
       "      <td>None</td>\n",
       "    </tr>\n",
       "    <tr>\n",
       "      <th>23</th>\n",
       "      <td>Capex</td>\n",
       "      <td>Wind energy source &amp; Transport</td>\n",
       "      <td>Offshore wind park</td>\n",
       "      <td>Foundation &amp; cable</td>\n",
       "      <td>Foundation &amp; cable costs (Development and Proj...</td>\n",
       "      <td>207000</td>\n",
       "      <td>EUR / MW</td>\n",
       "      <td>0,1 * Foundation procurement</td>\n",
       "    </tr>\n",
       "  </tbody>\n",
       "</table>\n",
       "</div>"
      ],
      "text/plain": [
       "        Category                      Sub-system             Element  \\\n",
       "0   System input  Wind energy source & Transport  Offshore wind park   \n",
       "1   System input  Wind energy source & Transport  Offshore wind park   \n",
       "2   System input  Wind energy source & Transport  Offshore wind park   \n",
       "14  System input  Wind energy source & Transport  Offshore wind park   \n",
       "23         Capex  Wind energy source & Transport  Offshore wind park   \n",
       "\n",
       "             Component                                        Description  \\\n",
       "0                    -                            Total Windpark Capacity   \n",
       "1              Turbine                      Windturbine Capacity per unit   \n",
       "2    Inter-array cable                                             Length   \n",
       "14   Inter-array cable                                     Transport loss   \n",
       "23  Foundation & cable  Foundation & cable costs (Development and Proj...   \n",
       "\n",
       "    Number      Unit                      Comments  \n",
       "0     3000        MW                          None  \n",
       "1       20        MW                          None  \n",
       "2       50        km                          None  \n",
       "14    0.02         %                          None  \n",
       "23  207000  EUR / MW  0,1 * Foundation procurement  "
      ]
     },
     "execution_count": 8,
     "metadata": {},
     "output_type": "execute_result"
    }
   ],
   "source": [
    "Inputs[Inputs['Sub-system']=='Wind energy source & Transport'].head()"
   ]
  },
  {
   "cell_type": "code",
   "execution_count": 9,
   "id": "b57469b5",
   "metadata": {},
   "outputs": [
    {
     "data": {
      "text/plain": [
       "['Wind energy source & Transport',\n",
       " 'AC Substation & Transport',\n",
       " 'Converter & Transport',\n",
       " 'Electrolysis, Electricity & Transport',\n",
       " '-']"
      ]
     },
     "execution_count": 9,
     "metadata": {},
     "output_type": "execute_result"
    }
   ],
   "source": [
    "list(Inputs['Sub-system'].unique())"
   ]
  },
  {
   "cell_type": "code",
   "execution_count": 10,
   "id": "32a0d9d0",
   "metadata": {},
   "outputs": [
    {
     "data": {
      "text/plain": [
       "['Offshore wind park',\n",
       " 'AC Substation & Transport',\n",
       " 'Converter',\n",
       " 'Electrolysis',\n",
       " 'Electricity',\n",
       " 'Facility location',\n",
       " 'Transport',\n",
       " '-']"
      ]
     },
     "execution_count": 10,
     "metadata": {},
     "output_type": "execute_result"
    }
   ],
   "source": [
    "list(Inputs['Element'].unique())"
   ]
  },
  {
   "cell_type": "code",
   "execution_count": 11,
   "id": "21230511",
   "metadata": {},
   "outputs": [
    {
     "data": {
      "text/plain": [
       "['-',\n",
       " 'Turbine',\n",
       " 'Inter-array cable',\n",
       " 'AC Substation',\n",
       " 'AC collection cable',\n",
       " 'HVDC Converter',\n",
       " 'HVDC cable',\n",
       " 'Electrolyser',\n",
       " 'DCAC Converter',\n",
       " 'Artificial island',\n",
       " 'Mainland',\n",
       " 'H2 Pipeline',\n",
       " 'Electricity cable',\n",
       " 'HVDC Cable',\n",
       " 'Foundation & cable',\n",
       " 'DC collection cable',\n",
       " 'Desalination unit',\n",
       " 'Compressor unit',\n",
       " 'Storage unit',\n",
       " 'Compressor after storage']"
      ]
     },
     "execution_count": 11,
     "metadata": {},
     "output_type": "execute_result"
    }
   ],
   "source": [
    "list(Inputs['Component'].unique())"
   ]
  },
  {
   "cell_type": "markdown",
   "id": "48c8e882",
   "metadata": {},
   "source": [
    "#### 3. Select one item from the Inputs table (generate cashflow overview)"
   ]
  },
  {
   "cell_type": "markdown",
   "id": "a4bfad87",
   "metadata": {},
   "source": [
    "##### A. do per item"
   ]
  },
  {
   "cell_type": "code",
   "execution_count": 12,
   "id": "9b3d4b8f",
   "metadata": {},
   "outputs": [
    {
     "data": {
      "text/html": [
       "<div>\n",
       "<style scoped>\n",
       "    .dataframe tbody tr th:only-of-type {\n",
       "        vertical-align: middle;\n",
       "    }\n",
       "\n",
       "    .dataframe tbody tr th {\n",
       "        vertical-align: top;\n",
       "    }\n",
       "\n",
       "    .dataframe thead th {\n",
       "        text-align: right;\n",
       "    }\n",
       "</style>\n",
       "<table border=\"1\" class=\"dataframe\">\n",
       "  <thead>\n",
       "    <tr style=\"text-align: right;\">\n",
       "      <th></th>\n",
       "      <th>Category</th>\n",
       "      <th>Sub-system</th>\n",
       "      <th>Element</th>\n",
       "      <th>Component</th>\n",
       "      <th>Description</th>\n",
       "      <th>Number</th>\n",
       "      <th>Unit</th>\n",
       "      <th>Comments</th>\n",
       "    </tr>\n",
       "  </thead>\n",
       "  <tbody>\n",
       "    <tr>\n",
       "      <th>23</th>\n",
       "      <td>Capex</td>\n",
       "      <td>Wind energy source &amp; Transport</td>\n",
       "      <td>Offshore wind park</td>\n",
       "      <td>Foundation &amp; cable</td>\n",
       "      <td>Foundation &amp; cable costs (Development and Proj...</td>\n",
       "      <td>207000</td>\n",
       "      <td>EUR / MW</td>\n",
       "      <td>0,1 * Foundation procurement</td>\n",
       "    </tr>\n",
       "    <tr>\n",
       "      <th>24</th>\n",
       "      <td>Capex</td>\n",
       "      <td>Wind energy source &amp; Transport</td>\n",
       "      <td>Offshore wind park</td>\n",
       "      <td>Foundation &amp; cable</td>\n",
       "      <td>Foundation &amp; cable costs (Procurement)</td>\n",
       "      <td>2070000</td>\n",
       "      <td>EUR / MW</td>\n",
       "      <td>1,8 * Turbine procurement</td>\n",
       "    </tr>\n",
       "    <tr>\n",
       "      <th>25</th>\n",
       "      <td>Capex</td>\n",
       "      <td>Wind energy source &amp; Transport</td>\n",
       "      <td>Offshore wind park</td>\n",
       "      <td>Foundation &amp; cable</td>\n",
       "      <td>Foundation &amp; cable costs (Installation and Com...</td>\n",
       "      <td>414000</td>\n",
       "      <td>EUR / MW</td>\n",
       "      <td>0,2 * Foundation procurement</td>\n",
       "    </tr>\n",
       "    <tr>\n",
       "      <th>26</th>\n",
       "      <td>Capex</td>\n",
       "      <td>Wind energy source &amp; Transport</td>\n",
       "      <td>Offshore wind park</td>\n",
       "      <td>Foundation &amp; cable</td>\n",
       "      <td>Number of units</td>\n",
       "      <td>3000</td>\n",
       "      <td>MW</td>\n",
       "      <td>Unit = MW</td>\n",
       "    </tr>\n",
       "    <tr>\n",
       "      <th>27</th>\n",
       "      <td>Capex</td>\n",
       "      <td>Wind energy source &amp; Transport</td>\n",
       "      <td>Offshore wind park</td>\n",
       "      <td>Foundation &amp; cable</td>\n",
       "      <td>Construction duration</td>\n",
       "      <td>3</td>\n",
       "      <td>years</td>\n",
       "      <td>None</td>\n",
       "    </tr>\n",
       "    <tr>\n",
       "      <th>28</th>\n",
       "      <td>Capex</td>\n",
       "      <td>Wind energy source &amp; Transport</td>\n",
       "      <td>Offshore wind park</td>\n",
       "      <td>Foundation &amp; cable</td>\n",
       "      <td>Share of Investments in Year 1</td>\n",
       "      <td>0.4</td>\n",
       "      <td>% of Capex total</td>\n",
       "      <td>None</td>\n",
       "    </tr>\n",
       "    <tr>\n",
       "      <th>29</th>\n",
       "      <td>Capex</td>\n",
       "      <td>Wind energy source &amp; Transport</td>\n",
       "      <td>Offshore wind park</td>\n",
       "      <td>Foundation &amp; cable</td>\n",
       "      <td>Share of Investments in Year 2</td>\n",
       "      <td>0.3</td>\n",
       "      <td>% of Capex total</td>\n",
       "      <td>None</td>\n",
       "    </tr>\n",
       "    <tr>\n",
       "      <th>30</th>\n",
       "      <td>Capex</td>\n",
       "      <td>Wind energy source &amp; Transport</td>\n",
       "      <td>Offshore wind park</td>\n",
       "      <td>Foundation &amp; cable</td>\n",
       "      <td>Share of Investments in Year 3</td>\n",
       "      <td>0.3</td>\n",
       "      <td>% of Capex total</td>\n",
       "      <td>None</td>\n",
       "    </tr>\n",
       "    <tr>\n",
       "      <th>31</th>\n",
       "      <td>Capex</td>\n",
       "      <td>Wind energy source &amp; Transport</td>\n",
       "      <td>Offshore wind park</td>\n",
       "      <td>Foundation &amp; cable</td>\n",
       "      <td>Economic Lifetime</td>\n",
       "      <td>50</td>\n",
       "      <td>years</td>\n",
       "      <td>None</td>\n",
       "    </tr>\n",
       "    <tr>\n",
       "      <th>32</th>\n",
       "      <td>Capex</td>\n",
       "      <td>Wind energy source &amp; Transport</td>\n",
       "      <td>Offshore wind park</td>\n",
       "      <td>Foundation &amp; cable</td>\n",
       "      <td>Depreciation Flag</td>\n",
       "      <td>1</td>\n",
       "      <td>flag</td>\n",
       "      <td>None</td>\n",
       "    </tr>\n",
       "    <tr>\n",
       "      <th>33</th>\n",
       "      <td>Opex</td>\n",
       "      <td>Wind energy source &amp; Transport</td>\n",
       "      <td>Offshore wind park</td>\n",
       "      <td>Foundation &amp; cable</td>\n",
       "      <td>Yearly Variable Costs Flag</td>\n",
       "      <td>1</td>\n",
       "      <td>flag</td>\n",
       "      <td>None</td>\n",
       "    </tr>\n",
       "    <tr>\n",
       "      <th>34</th>\n",
       "      <td>Opex</td>\n",
       "      <td>Wind energy source &amp; Transport</td>\n",
       "      <td>Offshore wind park</td>\n",
       "      <td>Foundation &amp; cable</td>\n",
       "      <td>Yearly Variable Costs Rate</td>\n",
       "      <td>0.03</td>\n",
       "      <td>% of Capex total</td>\n",
       "      <td>None</td>\n",
       "    </tr>\n",
       "    <tr>\n",
       "      <th>35</th>\n",
       "      <td>Opex</td>\n",
       "      <td>Wind energy source &amp; Transport</td>\n",
       "      <td>Offshore wind park</td>\n",
       "      <td>Foundation &amp; cable</td>\n",
       "      <td>Insurance Flag</td>\n",
       "      <td>1</td>\n",
       "      <td>flag</td>\n",
       "      <td>None</td>\n",
       "    </tr>\n",
       "    <tr>\n",
       "      <th>36</th>\n",
       "      <td>Opex</td>\n",
       "      <td>Wind energy source &amp; Transport</td>\n",
       "      <td>Offshore wind park</td>\n",
       "      <td>Foundation &amp; cable</td>\n",
       "      <td>Insurance Rate</td>\n",
       "      <td>0.005</td>\n",
       "      <td>% of Capex total</td>\n",
       "      <td>None</td>\n",
       "    </tr>\n",
       "    <tr>\n",
       "      <th>37</th>\n",
       "      <td>Abex</td>\n",
       "      <td>Wind energy source &amp; Transport</td>\n",
       "      <td>Offshore wind park</td>\n",
       "      <td>Foundation &amp; cable</td>\n",
       "      <td>Foundation &amp; cable decommissioning</td>\n",
       "      <td>0.02</td>\n",
       "      <td>% of Capex total</td>\n",
       "      <td>None</td>\n",
       "    </tr>\n",
       "    <tr>\n",
       "      <th>38</th>\n",
       "      <td>Residual value</td>\n",
       "      <td>Wind energy source &amp; Transport</td>\n",
       "      <td>Offshore wind park</td>\n",
       "      <td>Foundation &amp; cable</td>\n",
       "      <td>Foundation &amp; cable residual value</td>\n",
       "      <td>0.01</td>\n",
       "      <td>% of Capex total</td>\n",
       "      <td>None</td>\n",
       "    </tr>\n",
       "  </tbody>\n",
       "</table>\n",
       "</div>"
      ],
      "text/plain": [
       "          Category                      Sub-system             Element  \\\n",
       "23           Capex  Wind energy source & Transport  Offshore wind park   \n",
       "24           Capex  Wind energy source & Transport  Offshore wind park   \n",
       "25           Capex  Wind energy source & Transport  Offshore wind park   \n",
       "26           Capex  Wind energy source & Transport  Offshore wind park   \n",
       "27           Capex  Wind energy source & Transport  Offshore wind park   \n",
       "28           Capex  Wind energy source & Transport  Offshore wind park   \n",
       "29           Capex  Wind energy source & Transport  Offshore wind park   \n",
       "30           Capex  Wind energy source & Transport  Offshore wind park   \n",
       "31           Capex  Wind energy source & Transport  Offshore wind park   \n",
       "32           Capex  Wind energy source & Transport  Offshore wind park   \n",
       "33            Opex  Wind energy source & Transport  Offshore wind park   \n",
       "34            Opex  Wind energy source & Transport  Offshore wind park   \n",
       "35            Opex  Wind energy source & Transport  Offshore wind park   \n",
       "36            Opex  Wind energy source & Transport  Offshore wind park   \n",
       "37            Abex  Wind energy source & Transport  Offshore wind park   \n",
       "38  Residual value  Wind energy source & Transport  Offshore wind park   \n",
       "\n",
       "             Component                                        Description  \\\n",
       "23  Foundation & cable  Foundation & cable costs (Development and Proj...   \n",
       "24  Foundation & cable             Foundation & cable costs (Procurement)   \n",
       "25  Foundation & cable  Foundation & cable costs (Installation and Com...   \n",
       "26  Foundation & cable                                    Number of units   \n",
       "27  Foundation & cable                              Construction duration   \n",
       "28  Foundation & cable                     Share of Investments in Year 1   \n",
       "29  Foundation & cable                     Share of Investments in Year 2   \n",
       "30  Foundation & cable                     Share of Investments in Year 3   \n",
       "31  Foundation & cable                                  Economic Lifetime   \n",
       "32  Foundation & cable                                  Depreciation Flag   \n",
       "33  Foundation & cable                         Yearly Variable Costs Flag   \n",
       "34  Foundation & cable                         Yearly Variable Costs Rate   \n",
       "35  Foundation & cable                                     Insurance Flag   \n",
       "36  Foundation & cable                                     Insurance Rate   \n",
       "37  Foundation & cable                 Foundation & cable decommissioning   \n",
       "38  Foundation & cable                  Foundation & cable residual value   \n",
       "\n",
       "     Number              Unit                      Comments  \n",
       "23   207000          EUR / MW  0,1 * Foundation procurement  \n",
       "24  2070000          EUR / MW     1,8 * Turbine procurement  \n",
       "25   414000          EUR / MW  0,2 * Foundation procurement  \n",
       "26     3000                MW                     Unit = MW  \n",
       "27        3             years                          None  \n",
       "28      0.4  % of Capex total                          None  \n",
       "29      0.3  % of Capex total                          None  \n",
       "30      0.3  % of Capex total                          None  \n",
       "31       50             years                          None  \n",
       "32        1              flag                          None  \n",
       "33        1              flag                          None  \n",
       "34     0.03  % of Capex total                          None  \n",
       "35        1              flag                          None  \n",
       "36    0.005  % of Capex total                          None  \n",
       "37     0.02  % of Capex total                          None  \n",
       "38     0.01  % of Capex total                          None  "
      ]
     },
     "execution_count": 12,
     "metadata": {},
     "output_type": "execute_result"
    }
   ],
   "source": [
    "subsystem='Wind energy source & Transport'\n",
    "element='Offshore wind park'\n",
    "component='Foundation & cable'\n",
    "\n",
    "Inputs[\n",
    "    (Inputs['Sub-system'] == subsystem) &\n",
    "    (Inputs['Element'] == element) &\n",
    "    (Inputs['Component'] == component) \n",
    "]"
   ]
  },
  {
   "cell_type": "code",
   "execution_count": 13,
   "id": "8e11e3af",
   "metadata": {
    "scrolled": false
   },
   "outputs": [
    {
     "data": {
      "text/plain": [
       "'Escalation base year Foundation & cable: 2023'"
      ]
     },
     "metadata": {},
     "output_type": "display_data"
    },
    {
     "data": {
      "text/plain": [
       "'Escalation rate Foundation & cable: 0.02'"
      ]
     },
     "metadata": {},
     "output_type": "display_data"
    },
    {
     "data": {
      "text/plain": [
       "'Number of units Foundation & cable: 3000 MW'"
      ]
     },
     "metadata": {},
     "output_type": "display_data"
    },
    {
     "data": {
      "text/plain": [
       "'Construction duration Foundation & cable: 3 years'"
      ]
     },
     "metadata": {},
     "output_type": "display_data"
    },
    {
     "data": {
      "text/plain": [
       "'Construction allocation Foundation & cable: [0.4, 0.3, 0.3] per year'"
      ]
     },
     "metadata": {},
     "output_type": "display_data"
    },
    {
     "data": {
      "text/plain": [
       "'Economic Lifetime Foundation & cable: 50 years'"
      ]
     },
     "metadata": {},
     "output_type": "display_data"
    },
    {
     "data": {
      "text/plain": [
       "'Depreciation Flag Foundation & cable: 1'"
      ]
     },
     "metadata": {},
     "output_type": "display_data"
    },
    {
     "data": {
      "text/plain": [
       "'Yearly Variable Costs Flag Foundation & cable: 1'"
      ]
     },
     "metadata": {},
     "output_type": "display_data"
    },
    {
     "data": {
      "text/plain": [
       "'Yearly Variable Costs Rate Foundation & cable: 0.03'"
      ]
     },
     "metadata": {},
     "output_type": "display_data"
    },
    {
     "data": {
      "text/plain": [
       "'Insurance Flag Foundation & cable: 1'"
      ]
     },
     "metadata": {},
     "output_type": "display_data"
    },
    {
     "data": {
      "text/plain": [
       "'Insurance Rate Foundation & cable: 0.005'"
      ]
     },
     "metadata": {},
     "output_type": "display_data"
    },
    {
     "data": {
      "text/plain": [
       "'Decommissioning Foundation & cable: 0.02'"
      ]
     },
     "metadata": {},
     "output_type": "display_data"
    },
    {
     "data": {
      "text/plain": [
       "'Residual Value Foundation & cable: 0.01'"
      ]
     },
     "metadata": {},
     "output_type": "display_data"
    },
    {
     "data": {
      "text/plain": [
       "'Escalation years: [2023, 2024, 2025, 2026, 2027, 2028, 2029, 2030, 2031, 2032, 2033, 2034, 2035, 2036, 2037, 2038, 2039, 2040, 2041, 2042, 2043, 2044, 2045, 2046, 2047, 2048, 2049, 2050, 2051, 2052, 2053, 2054, 2055, 2056, 2057, 2058, 2059, 2060, 2061, 2062, 2063, 2064, 2065, 2066, 2067, 2068, 2069, 2070, 2071, 2072]'"
      ]
     },
     "metadata": {},
     "output_type": "display_data"
    },
    {
     "data": {
      "text/plain": [
       "'Escalation values: [1.02, 1.0404, 1.061208, 1.08243216, 1.1040808032, 1.126162419264, 1.14868566764928, 1.1716593810022657, 1.195092568622311, 1.2189944199947573, 1.2433743083946525, 1.2682417945625455, 1.2936066304537963, 1.3194787630628724, 1.3458683383241299, 1.3727857050906125, 1.4002414191924248, 1.4282462475762734, 1.4568111725277988, 1.485947395978355, 1.515666343897922, 1.5459796707758806, 1.5768992641913981, 1.6084372494752261, 1.6406059944647307, 1.6734181143540252, 1.7068864766411058, 1.741024206173928, 1.7758446902974065, 1.8113615841033548, 1.847588815785422, 1.8845405921011305, 1.9222314039431532, 1.9606760320220162, 1.9998895526624565, 2.0398873437157055, 2.08068509059002, 2.1222987924018204, 2.164744768249857, 2.208039663614854, 2.252200456887151, 2.297244466024894, 2.343189355345392, 2.3900531424522997, 2.437854205301346, 2.4866112894073726, 2.53634351519552, 2.5870703854994304, 2.638811793209419, 2.6915880290736074]'"
      ]
     },
     "metadata": {},
     "output_type": "display_data"
    },
    {
     "data": {
      "text/plain": [
       "'CAPEX total Foundation & cable: 2691000 eu per MW'"
      ]
     },
     "metadata": {},
     "output_type": "display_data"
    },
    {
     "data": {
      "text/plain": [
       "'CAPEX years: [2023, 2024, 2025]'"
      ]
     },
     "metadata": {},
     "output_type": "display_data"
    },
    {
     "data": {
      "text/plain": [
       "'CAPEX values: [-3229200000.0, -2421900000.0, -2421900000.0]'"
      ]
     },
     "metadata": {},
     "output_type": "display_data"
    },
    {
     "data": {
      "text/plain": [
       "'CAPEX years escalated: [2023, 2024, 2025]'"
      ]
     },
     "metadata": {},
     "output_type": "display_data"
    },
    {
     "data": {
      "text/plain": [
       "'CAPEX values escalated: [-3293784000.0, -2519744760.0, -2570139655.2]'"
      ]
     },
     "metadata": {},
     "output_type": "display_data"
    },
    {
     "data": {
      "text/plain": [
       "'OPEX value: -293428394.53199995'"
      ]
     },
     "metadata": {},
     "output_type": "display_data"
    },
    {
     "data": {
      "text/plain": [
       "'OPEX years escalated: [2026, 2027, 2028, 2029, 2030, 2031, 2032, 2033, 2034, 2035, 2036, 2037, 2038, 2039, 2040, 2041, 2042, 2043, 2044, 2045, 2046, 2047, 2048, 2049, 2050, 2051, 2052, 2053, 2054, 2055, 2056, 2057, 2058, 2059, 2060, 2061, 2062, 2063, 2064, 2065, 2066, 2067, 2068, 2069, 2070, 2071, 2072]'"
      ]
     },
     "metadata": {},
     "output_type": "display_data"
    },
    {
     "data": {
      "text/plain": [
       "'OPEX values escalated: [-317616330.89860487, -323968657.516577, -330448030.66690856, -337056991.28024673, -343798131.10585165, -350674093.7279687, -357687575.6025281, -364841327.11457866, -372138153.65687025, -379580916.7300076, -387172535.0646078, -394915985.76589996, -402814305.481218, -410870591.59084237, -419088003.4226592, -427469763.4911124, -436019158.76093465, -444739541.9361534, -453634332.7748765, -462707019.43037397, -471961159.81898147, -481400383.01536113, -491028390.6756683, -500848958.4891817, -510865937.65896535, -521083256.41214466, -531504921.5403876, -542135019.9711953, -552977720.3706193, -564037274.7780317, -575318020.2735924, -586824380.6790642, -598560868.2926455, -610532085.6584984, -622742727.3716685, -635197581.9191018, -647901533.5574838, -660859564.2286335, -674076755.5132061, -687558290.6234703, -701309456.4359397, -715335645.5646585, -729642358.4759517, -744235205.6454706, -759119909.75838, -774302307.9535477, -789788354.1126186]'"
      ]
     },
     "metadata": {},
     "output_type": "display_data"
    },
    {
     "name": "stdout",
     "output_type": "stream",
     "text": [
      "0\n",
      "2023\n",
      "-3293784000.0\n",
      "1\n",
      "2024\n",
      "-2519744760.0\n",
      "2\n",
      "2025\n",
      "-2570139655.2\n",
      "CPU times: total: 78.1 ms\n",
      "Wall time: 61.2 ms\n"
     ]
    },
    {
     "data": {
      "text/html": [
       "<div>\n",
       "<style scoped>\n",
       "    .dataframe tbody tr th:only-of-type {\n",
       "        vertical-align: middle;\n",
       "    }\n",
       "\n",
       "    .dataframe tbody tr th {\n",
       "        vertical-align: top;\n",
       "    }\n",
       "\n",
       "    .dataframe thead th {\n",
       "        text-align: right;\n",
       "    }\n",
       "</style>\n",
       "<table border=\"1\" class=\"dataframe\">\n",
       "  <thead>\n",
       "    <tr style=\"text-align: right;\">\n",
       "      <th></th>\n",
       "      <th>years</th>\n",
       "      <th>capex</th>\n",
       "      <th>opex</th>\n",
       "      <th>revenue</th>\n",
       "    </tr>\n",
       "    <tr>\n",
       "      <th>years</th>\n",
       "      <th></th>\n",
       "      <th></th>\n",
       "      <th></th>\n",
       "      <th></th>\n",
       "    </tr>\n",
       "  </thead>\n",
       "  <tbody>\n",
       "    <tr>\n",
       "      <th>2023</th>\n",
       "      <td>2023</td>\n",
       "      <td>-3.293784e+09</td>\n",
       "      <td>0.000000e+00</td>\n",
       "      <td>0</td>\n",
       "    </tr>\n",
       "    <tr>\n",
       "      <th>2024</th>\n",
       "      <td>2024</td>\n",
       "      <td>-2.519745e+09</td>\n",
       "      <td>0.000000e+00</td>\n",
       "      <td>0</td>\n",
       "    </tr>\n",
       "    <tr>\n",
       "      <th>2025</th>\n",
       "      <td>2025</td>\n",
       "      <td>-2.570140e+09</td>\n",
       "      <td>0.000000e+00</td>\n",
       "      <td>0</td>\n",
       "    </tr>\n",
       "    <tr>\n",
       "      <th>2026</th>\n",
       "      <td>2026</td>\n",
       "      <td>0.000000e+00</td>\n",
       "      <td>-3.176163e+08</td>\n",
       "      <td>0</td>\n",
       "    </tr>\n",
       "    <tr>\n",
       "      <th>2027</th>\n",
       "      <td>2027</td>\n",
       "      <td>0.000000e+00</td>\n",
       "      <td>-3.239687e+08</td>\n",
       "      <td>0</td>\n",
       "    </tr>\n",
       "  </tbody>\n",
       "</table>\n",
       "</div>"
      ],
      "text/plain": [
       "       years         capex          opex  revenue\n",
       "years                                            \n",
       "2023    2023 -3.293784e+09  0.000000e+00        0\n",
       "2024    2024 -2.519745e+09  0.000000e+00        0\n",
       "2025    2025 -2.570140e+09  0.000000e+00        0\n",
       "2026    2026  0.000000e+00 -3.176163e+08        0\n",
       "2027    2027  0.000000e+00 -3.239687e+08        0"
      ]
     },
     "execution_count": 13,
     "metadata": {},
     "output_type": "execute_result"
    }
   ],
   "source": [
    "%%time\n",
    "df_Foundations = Inputs_2_cashflow(Inputs, \n",
    "                                   startyear=2023,\n",
    "                                   lifecycle=50,\n",
    "                                   subsystem='Wind energy source & Transport',\n",
    "                                   element='Offshore wind park',\n",
    "                                   component='Foundation & cable',\n",
    "                                   Debug=True)\n",
    "df_Foundations.head()"
   ]
  },
  {
   "cell_type": "code",
   "execution_count": 18,
   "id": "f6e573a1",
   "metadata": {
    "scrolled": false
   },
   "outputs": [
    {
     "name": "stdout",
     "output_type": "stream",
     "text": [
      "CPU times: total: 0 ns\n",
      "Wall time: 1.02 ms\n"
     ]
    },
    {
     "data": {
      "text/html": [
       "<div>\n",
       "<style scoped>\n",
       "    .dataframe tbody tr th:only-of-type {\n",
       "        vertical-align: middle;\n",
       "    }\n",
       "\n",
       "    .dataframe tbody tr th {\n",
       "        vertical-align: top;\n",
       "    }\n",
       "\n",
       "    .dataframe thead th {\n",
       "        text-align: right;\n",
       "    }\n",
       "</style>\n",
       "<table border=\"1\" class=\"dataframe\">\n",
       "  <thead>\n",
       "    <tr style=\"text-align: right;\">\n",
       "      <th></th>\n",
       "      <th>years</th>\n",
       "      <th>capex</th>\n",
       "      <th>opex</th>\n",
       "      <th>revenue</th>\n",
       "      <th>cashflow</th>\n",
       "      <th>cashflow_sum</th>\n",
       "      <th>npv</th>\n",
       "      <th>npv_sum</th>\n",
       "    </tr>\n",
       "    <tr>\n",
       "      <th>years</th>\n",
       "      <th></th>\n",
       "      <th></th>\n",
       "      <th></th>\n",
       "      <th></th>\n",
       "      <th></th>\n",
       "      <th></th>\n",
       "      <th></th>\n",
       "      <th></th>\n",
       "    </tr>\n",
       "  </thead>\n",
       "  <tbody>\n",
       "    <tr>\n",
       "      <th>2023</th>\n",
       "      <td>2023</td>\n",
       "      <td>-3.293784e+09</td>\n",
       "      <td>0.000000e+00</td>\n",
       "      <td>0</td>\n",
       "      <td>-3.293784e+09</td>\n",
       "      <td>-3.293784e+09</td>\n",
       "      <td>-6.948135e+08</td>\n",
       "      <td>-6.948135e+08</td>\n",
       "    </tr>\n",
       "    <tr>\n",
       "      <th>2024</th>\n",
       "      <td>2024</td>\n",
       "      <td>-2.519745e+09</td>\n",
       "      <td>0.000000e+00</td>\n",
       "      <td>0</td>\n",
       "      <td>-2.519745e+09</td>\n",
       "      <td>-5.813529e+09</td>\n",
       "      <td>-4.967592e+08</td>\n",
       "      <td>-1.191573e+09</td>\n",
       "    </tr>\n",
       "    <tr>\n",
       "      <th>2025</th>\n",
       "      <td>2025</td>\n",
       "      <td>-2.570140e+09</td>\n",
       "      <td>0.000000e+00</td>\n",
       "      <td>0</td>\n",
       "      <td>-2.570140e+09</td>\n",
       "      <td>-8.383668e+09</td>\n",
       "      <td>-4.735461e+08</td>\n",
       "      <td>-1.665119e+09</td>\n",
       "    </tr>\n",
       "    <tr>\n",
       "      <th>2026</th>\n",
       "      <td>2026</td>\n",
       "      <td>0.000000e+00</td>\n",
       "      <td>-3.176163e+08</td>\n",
       "      <td>0</td>\n",
       "      <td>-3.176163e+08</td>\n",
       "      <td>-8.701285e+09</td>\n",
       "      <td>-5.469210e+07</td>\n",
       "      <td>-1.719811e+09</td>\n",
       "    </tr>\n",
       "    <tr>\n",
       "      <th>2027</th>\n",
       "      <td>2027</td>\n",
       "      <td>0.000000e+00</td>\n",
       "      <td>-3.239687e+08</td>\n",
       "      <td>0</td>\n",
       "      <td>-3.239687e+08</td>\n",
       "      <td>-9.025253e+09</td>\n",
       "      <td>-5.213640e+07</td>\n",
       "      <td>-1.771947e+09</td>\n",
       "    </tr>\n",
       "  </tbody>\n",
       "</table>\n",
       "</div>"
      ],
      "text/plain": [
       "       years         capex          opex  revenue      cashflow  cashflow_sum  \\\n",
       "years                                                                           \n",
       "2023    2023 -3.293784e+09  0.000000e+00        0 -3.293784e+09 -3.293784e+09   \n",
       "2024    2024 -2.519745e+09  0.000000e+00        0 -2.519745e+09 -5.813529e+09   \n",
       "2025    2025 -2.570140e+09  0.000000e+00        0 -2.570140e+09 -8.383668e+09   \n",
       "2026    2026  0.000000e+00 -3.176163e+08        0 -3.176163e+08 -8.701285e+09   \n",
       "2027    2027  0.000000e+00 -3.239687e+08        0 -3.239687e+08 -9.025253e+09   \n",
       "\n",
       "                npv       npv_sum  \n",
       "years                              \n",
       "2023  -6.948135e+08 -6.948135e+08  \n",
       "2024  -4.967592e+08 -1.191573e+09  \n",
       "2025  -4.735461e+08 -1.665119e+09  \n",
       "2026  -5.469210e+07 -1.719811e+09  \n",
       "2027  -5.213640e+07 -1.771947e+09  "
      ]
     },
     "execution_count": 18,
     "metadata": {},
     "output_type": "execute_result"
    }
   ],
   "source": [
    "%%time\n",
    "df_npv_Foundations = calculate_npv(df_Foundations)\n",
    "df_npv_Foundations.head()"
   ]
  },
  {
   "cell_type": "code",
   "execution_count": 19,
   "id": "a4f38b1d",
   "metadata": {},
   "outputs": [
    {
     "name": "stdout",
     "output_type": "stream",
     "text": [
      "CPU times: total: 1.86 s\n",
      "Wall time: 2.01 s\n"
     ]
    },
    {
     "data": {
      "image/png": "[encoded data removed]",
      "text/plain": [
       "<Figure size 1152x576 with 3 Axes>"
      ]
     },
     "metadata": {
      "needs_background": "light"
     },
     "output_type": "display_data"
    }
   ],
   "source": [
    "%%time\n",
    "lims = [-3500, 3500]\n",
    "create_npv_plot(df_npv_Foundations, cash_flow_lims=lims, npv_lims=lims)"
   ]
  },
  {
   "cell_type": "code",
   "execution_count": 20,
   "id": "369134e4",
   "metadata": {},
   "outputs": [
    {
     "data": {
      "text/plain": [
       "'Escalation base year Turbine: 2023'"
      ]
     },
     "metadata": {},
     "output_type": "display_data"
    },
    {
     "data": {
      "text/plain": [
       "'Escalation rate Turbine: 0.02'"
      ]
     },
     "metadata": {},
     "output_type": "display_data"
    },
    {
     "data": {
      "text/plain": [
       "'Number of units Turbine: 3000 MW'"
      ]
     },
     "metadata": {},
     "output_type": "display_data"
    },
    {
     "data": {
      "text/plain": [
       "'Construction duration Turbine: 3 years'"
      ]
     },
     "metadata": {},
     "output_type": "display_data"
    },
    {
     "data": {
      "text/plain": [
       "'Construction allocation Turbine: [0.4, 0.3, 0.3] per year'"
      ]
     },
     "metadata": {},
     "output_type": "display_data"
    },
    {
     "data": {
      "text/plain": [
       "'Economic Lifetime Turbine: 50 years'"
      ]
     },
     "metadata": {},
     "output_type": "display_data"
    },
    {
     "data": {
      "text/plain": [
       "'Depreciation Flag Turbine: 1'"
      ]
     },
     "metadata": {},
     "output_type": "display_data"
    },
    {
     "data": {
      "text/plain": [
       "'Yearly Variable Costs Flag Turbine: 1'"
      ]
     },
     "metadata": {},
     "output_type": "display_data"
    },
    {
     "data": {
      "text/plain": [
       "'Yearly Variable Costs Rate Turbine: 0.03'"
      ]
     },
     "metadata": {},
     "output_type": "display_data"
    },
    {
     "data": {
      "text/plain": [
       "'Insurance Flag Turbine: 1'"
      ]
     },
     "metadata": {},
     "output_type": "display_data"
    },
    {
     "data": {
      "text/plain": [
       "'Insurance Rate Turbine: 0.005'"
      ]
     },
     "metadata": {},
     "output_type": "display_data"
    },
    {
     "data": {
      "text/plain": [
       "'Decommissioning Turbine: 0.02'"
      ]
     },
     "metadata": {},
     "output_type": "display_data"
    },
    {
     "data": {
      "text/plain": [
       "'Residual Value Turbine: 0.01'"
      ]
     },
     "metadata": {},
     "output_type": "display_data"
    },
    {
     "data": {
      "text/plain": [
       "'Escalation years: [2023, 2024, 2025, 2026, 2027, 2028, 2029, 2030, 2031, 2032, 2033, 2034, 2035, 2036, 2037, 2038, 2039, 2040, 2041, 2042, 2043, 2044, 2045, 2046, 2047, 2048, 2049, 2050, 2051, 2052, 2053, 2054, 2055, 2056, 2057, 2058, 2059, 2060, 2061, 2062, 2063, 2064, 2065, 2066, 2067, 2068, 2069, 2070, 2071, 2072]'"
      ]
     },
     "metadata": {},
     "output_type": "display_data"
    },
    {
     "data": {
      "text/plain": [
       "'Escalation values: [1.02, 1.0404, 1.061208, 1.08243216, 1.1040808032, 1.126162419264, 1.14868566764928, 1.1716593810022657, 1.195092568622311, 1.2189944199947573, 1.2433743083946525, 1.2682417945625455, 1.2936066304537963, 1.3194787630628724, 1.3458683383241299, 1.3727857050906125, 1.4002414191924248, 1.4282462475762734, 1.4568111725277988, 1.485947395978355, 1.515666343897922, 1.5459796707758806, 1.5768992641913981, 1.6084372494752261, 1.6406059944647307, 1.6734181143540252, 1.7068864766411058, 1.741024206173928, 1.7758446902974065, 1.8113615841033548, 1.847588815785422, 1.8845405921011305, 1.9222314039431532, 1.9606760320220162, 1.9998895526624565, 2.0398873437157055, 2.08068509059002, 2.1222987924018204, 2.164744768249857, 2.208039663614854, 2.252200456887151, 2.297244466024894, 2.343189355345392, 2.3900531424522997, 2.437854205301346, 2.4866112894073726, 2.53634351519552, 2.5870703854994304, 2.638811793209419, 2.6915880290736074]'"
      ]
     },
     "metadata": {},
     "output_type": "display_data"
    },
    {
     "data": {
      "text/plain": [
       "'CAPEX total Turbine: 1495000 eu per MW'"
      ]
     },
     "metadata": {},
     "output_type": "display_data"
    },
    {
     "data": {
      "text/plain": [
       "'CAPEX years: [2023, 2024, 2025]'"
      ]
     },
     "metadata": {},
     "output_type": "display_data"
    },
    {
     "data": {
      "text/plain": [
       "'CAPEX values: [-1794000000.0, -1345500000.0, -1345500000.0]'"
      ]
     },
     "metadata": {},
     "output_type": "display_data"
    },
    {
     "data": {
      "text/plain": [
       "'CAPEX years escalated: [2023, 2024, 2025]'"
      ]
     },
     "metadata": {},
     "output_type": "display_data"
    },
    {
     "data": {
      "text/plain": [
       "'CAPEX values escalated: [-1829880000.0, -1399858200.0, -1427855364.0]'"
      ]
     },
     "metadata": {},
     "output_type": "display_data"
    },
    {
     "data": {
      "text/plain": [
       "'OPEX value: -163015774.73999998'"
      ]
     },
     "metadata": {},
     "output_type": "display_data"
    },
    {
     "data": {
      "text/plain": [
       "'OPEX years escalated: [2026, 2027, 2028, 2029, 2030, 2031, 2032, 2033, 2034, 2035, 2036, 2037, 2038, 2039, 2040, 2041, 2042, 2043, 2044, 2045, 2046, 2047, 2048, 2049, 2050, 2051, 2052, 2053, 2054, 2055, 2056, 2057, 2058, 2059, 2060, 2061, 2062, 2063, 2064, 2065, 2066, 2067, 2068, 2069, 2070, 2071, 2072]'"
      ]
     },
     "metadata": {},
     "output_type": "display_data"
    },
    {
     "data": {
      "text/plain": [
       "'OPEX values escalated: [-176453517.16589162, -179982587.50920945, -183582239.25939366, -187253884.0445815, -190998961.72547317, -194818940.95998263, -198715319.77918229, -202689626.17476594, -206743418.69826126, -210878287.07222646, -215095852.81367102, -219397769.86994445, -223785725.26734334, -228261439.7726902, -232826668.56814402, -237483201.9395069, -242232865.97829705, -247077523.297863, -252019073.7638203, -257059455.23909667, -262200644.34387863, -267444657.2307562, -272793550.3753713, -278249421.3828787, -283814409.8105363, -289490698.00674707, -295280511.966882, -301186122.2062197, -307209844.6503441, -313354041.543351, -319621122.374218, -326013544.82170236, -332533815.71813637, -339184492.03249913, -345968181.87314916, -352887545.51061213, -359945296.42082435, -367144202.34924084, -374487086.39622563, -381976828.12415016, -389616364.68663317, -397408691.9803659, -405356865.8199732, -413464003.1363726, -421733283.1991001, -430167948.86308205, -438771307.8403437]'"
      ]
     },
     "metadata": {},
     "output_type": "display_data"
    },
    {
     "name": "stdout",
     "output_type": "stream",
     "text": [
      "0\n",
      "2023\n",
      "-1829880000.0\n",
      "1\n",
      "2024\n",
      "-1399858200.0\n",
      "2\n",
      "2025\n",
      "-1427855364.0\n",
      "CPU times: total: 109 ms\n",
      "Wall time: 91.5 ms\n"
     ]
    },
    {
     "data": {
      "text/html": [
       "<div>\n",
       "<style scoped>\n",
       "    .dataframe tbody tr th:only-of-type {\n",
       "        vertical-align: middle;\n",
       "    }\n",
       "\n",
       "    .dataframe tbody tr th {\n",
       "        vertical-align: top;\n",
       "    }\n",
       "\n",
       "    .dataframe thead th {\n",
       "        text-align: right;\n",
       "    }\n",
       "</style>\n",
       "<table border=\"1\" class=\"dataframe\">\n",
       "  <thead>\n",
       "    <tr style=\"text-align: right;\">\n",
       "      <th></th>\n",
       "      <th>years</th>\n",
       "      <th>capex</th>\n",
       "      <th>opex</th>\n",
       "      <th>revenue</th>\n",
       "    </tr>\n",
       "    <tr>\n",
       "      <th>years</th>\n",
       "      <th></th>\n",
       "      <th></th>\n",
       "      <th></th>\n",
       "      <th></th>\n",
       "    </tr>\n",
       "  </thead>\n",
       "  <tbody>\n",
       "    <tr>\n",
       "      <th>2023</th>\n",
       "      <td>2023</td>\n",
       "      <td>-1829880000</td>\n",
       "      <td>0.000000e+00</td>\n",
       "      <td>0</td>\n",
       "    </tr>\n",
       "    <tr>\n",
       "      <th>2024</th>\n",
       "      <td>2024</td>\n",
       "      <td>-1399858200</td>\n",
       "      <td>0.000000e+00</td>\n",
       "      <td>0</td>\n",
       "    </tr>\n",
       "    <tr>\n",
       "      <th>2025</th>\n",
       "      <td>2025</td>\n",
       "      <td>-1427855364</td>\n",
       "      <td>0.000000e+00</td>\n",
       "      <td>0</td>\n",
       "    </tr>\n",
       "    <tr>\n",
       "      <th>2026</th>\n",
       "      <td>2026</td>\n",
       "      <td>0</td>\n",
       "      <td>-1.764535e+08</td>\n",
       "      <td>0</td>\n",
       "    </tr>\n",
       "    <tr>\n",
       "      <th>2027</th>\n",
       "      <td>2027</td>\n",
       "      <td>0</td>\n",
       "      <td>-1.799826e+08</td>\n",
       "      <td>0</td>\n",
       "    </tr>\n",
       "  </tbody>\n",
       "</table>\n",
       "</div>"
      ],
      "text/plain": [
       "       years       capex          opex  revenue\n",
       "years                                          \n",
       "2023    2023 -1829880000  0.000000e+00        0\n",
       "2024    2024 -1399858200  0.000000e+00        0\n",
       "2025    2025 -1427855364  0.000000e+00        0\n",
       "2026    2026           0 -1.764535e+08        0\n",
       "2027    2027           0 -1.799826e+08        0"
      ]
     },
     "execution_count": 20,
     "metadata": {},
     "output_type": "execute_result"
    }
   ],
   "source": [
    "%%time\n",
    "df_Turbines = Inputs_2_cashflow(Inputs, \n",
    "                                   startyear=2023,\n",
    "                                   lifecycle=11,\n",
    "                                   subsystem='Wind energy source & Transport',\n",
    "                                   element='Offshore wind park',\n",
    "                                   component='Turbine',\n",
    "                                   Debug=True)\n",
    "df_Turbines.head()"
   ]
  },
  {
   "cell_type": "code",
   "execution_count": 21,
   "id": "be9bc047",
   "metadata": {},
   "outputs": [
    {
     "name": "stdout",
     "output_type": "stream",
     "text": [
      "CPU times: total: 15.6 ms\n",
      "Wall time: 12.1 ms\n"
     ]
    },
    {
     "data": {
      "text/html": [
       "<div>\n",
       "<style scoped>\n",
       "    .dataframe tbody tr th:only-of-type {\n",
       "        vertical-align: middle;\n",
       "    }\n",
       "\n",
       "    .dataframe tbody tr th {\n",
       "        vertical-align: top;\n",
       "    }\n",
       "\n",
       "    .dataframe thead th {\n",
       "        text-align: right;\n",
       "    }\n",
       "</style>\n",
       "<table border=\"1\" class=\"dataframe\">\n",
       "  <thead>\n",
       "    <tr style=\"text-align: right;\">\n",
       "      <th></th>\n",
       "      <th>years</th>\n",
       "      <th>capex</th>\n",
       "      <th>opex</th>\n",
       "      <th>revenue</th>\n",
       "      <th>cashflow</th>\n",
       "      <th>cashflow_sum</th>\n",
       "      <th>npv</th>\n",
       "      <th>npv_sum</th>\n",
       "    </tr>\n",
       "    <tr>\n",
       "      <th>years</th>\n",
       "      <th></th>\n",
       "      <th></th>\n",
       "      <th></th>\n",
       "      <th></th>\n",
       "      <th></th>\n",
       "      <th></th>\n",
       "      <th></th>\n",
       "      <th></th>\n",
       "    </tr>\n",
       "  </thead>\n",
       "  <tbody>\n",
       "    <tr>\n",
       "      <th>2023</th>\n",
       "      <td>2023</td>\n",
       "      <td>-1829880000</td>\n",
       "      <td>0.000000e+00</td>\n",
       "      <td>0</td>\n",
       "      <td>-1.829880e+09</td>\n",
       "      <td>-1.829880e+09</td>\n",
       "      <td>-3.860075e+08</td>\n",
       "      <td>-3.860075e+08</td>\n",
       "    </tr>\n",
       "    <tr>\n",
       "      <th>2024</th>\n",
       "      <td>2024</td>\n",
       "      <td>-1399858200</td>\n",
       "      <td>0.000000e+00</td>\n",
       "      <td>0</td>\n",
       "      <td>-1.399858e+09</td>\n",
       "      <td>-3.229738e+09</td>\n",
       "      <td>-2.759773e+08</td>\n",
       "      <td>-6.619848e+08</td>\n",
       "    </tr>\n",
       "    <tr>\n",
       "      <th>2025</th>\n",
       "      <td>2025</td>\n",
       "      <td>-1427855364</td>\n",
       "      <td>0.000000e+00</td>\n",
       "      <td>0</td>\n",
       "      <td>-1.427855e+09</td>\n",
       "      <td>-4.657594e+09</td>\n",
       "      <td>-2.630812e+08</td>\n",
       "      <td>-9.250660e+08</td>\n",
       "    </tr>\n",
       "    <tr>\n",
       "      <th>2026</th>\n",
       "      <td>2026</td>\n",
       "      <td>0</td>\n",
       "      <td>-1.764535e+08</td>\n",
       "      <td>0</td>\n",
       "      <td>-1.764535e+08</td>\n",
       "      <td>-4.834047e+09</td>\n",
       "      <td>-3.038450e+07</td>\n",
       "      <td>-9.554505e+08</td>\n",
       "    </tr>\n",
       "    <tr>\n",
       "      <th>2027</th>\n",
       "      <td>2027</td>\n",
       "      <td>0</td>\n",
       "      <td>-1.799826e+08</td>\n",
       "      <td>0</td>\n",
       "      <td>-1.799826e+08</td>\n",
       "      <td>-5.014030e+09</td>\n",
       "      <td>-2.896466e+07</td>\n",
       "      <td>-9.844151e+08</td>\n",
       "    </tr>\n",
       "  </tbody>\n",
       "</table>\n",
       "</div>"
      ],
      "text/plain": [
       "       years       capex          opex  revenue      cashflow  cashflow_sum  \\\n",
       "years                                                                         \n",
       "2023    2023 -1829880000  0.000000e+00        0 -1.829880e+09 -1.829880e+09   \n",
       "2024    2024 -1399858200  0.000000e+00        0 -1.399858e+09 -3.229738e+09   \n",
       "2025    2025 -1427855364  0.000000e+00        0 -1.427855e+09 -4.657594e+09   \n",
       "2026    2026           0 -1.764535e+08        0 -1.764535e+08 -4.834047e+09   \n",
       "2027    2027           0 -1.799826e+08        0 -1.799826e+08 -5.014030e+09   \n",
       "\n",
       "                npv       npv_sum  \n",
       "years                              \n",
       "2023  -3.860075e+08 -3.860075e+08  \n",
       "2024  -2.759773e+08 -6.619848e+08  \n",
       "2025  -2.630812e+08 -9.250660e+08  \n",
       "2026  -3.038450e+07 -9.554505e+08  \n",
       "2027  -2.896466e+07 -9.844151e+08  "
      ]
     },
     "execution_count": 21,
     "metadata": {},
     "output_type": "execute_result"
    }
   ],
   "source": [
    "%%time\n",
    "df_npv_Turbines = calculate_npv(df_Turbines)\n",
    "df_npv_Turbines.head()"
   ]
  },
  {
   "cell_type": "code",
   "execution_count": 22,
   "id": "7b03bf6b",
   "metadata": {},
   "outputs": [
    {
     "name": "stdout",
     "output_type": "stream",
     "text": [
      "CPU times: total: 2.8 s\n",
      "Wall time: 2.94 s\n"
     ]
    },
    {
     "data": {
      "image/png": "[encoded data removed]",
      "text/plain": [
       "<Figure size 1152x576 with 3 Axes>"
      ]
     },
     "metadata": {
      "needs_background": "light"
     },
     "output_type": "display_data"
    }
   ],
   "source": [
    "%%time\n",
    "lims = [-3500, 3500]\n",
    "create_npv_plot(df_npv_Turbines, cash_flow_lims=lims, npv_lims=lims)"
   ]
  },
  {
   "cell_type": "markdown",
   "id": "c7264d1e",
   "metadata": {},
   "source": [
    "##### B. combine two items"
   ]
  },
  {
   "cell_type": "code",
   "execution_count": 23,
   "id": "d5918842",
   "metadata": {},
   "outputs": [
    {
     "name": "stdout",
     "output_type": "stream",
     "text": [
      "0\n",
      "2023\n",
      "-3293784000.0\n",
      "1\n",
      "2024\n",
      "-2519744760.0\n",
      "2\n",
      "2025\n",
      "-2570139655.2\n",
      "0\n",
      "2023\n",
      "-1829880000.0\n",
      "1\n",
      "2024\n",
      "-1399858200.0\n",
      "2\n",
      "2025\n",
      "-1427855364.0\n"
     ]
    }
   ],
   "source": [
    "df_Foundations = Inputs_2_cashflow(Inputs, startyear=2023, lifecycle=11, component='Foundation & cable',Debug=False)\n",
    "df_Turbines = Inputs_2_cashflow(Inputs, startyear=2023, lifecycle=11, component='Turbine',Debug=False)\n",
    "df_combined = combine_cashflow_dataframes([df_Foundations, df_Turbines])"
   ]
  },
  {
   "cell_type": "code",
   "execution_count": 24,
   "id": "9787021b",
   "metadata": {},
   "outputs": [],
   "source": [
    "df_npv_combined = calculate_npv(df_combined)"
   ]
  },
  {
   "cell_type": "code",
   "execution_count": 25,
   "id": "fec83e34",
   "metadata": {},
   "outputs": [
    {
     "name": "stdout",
     "output_type": "stream",
     "text": [
      "CPU times: total: 2.97 s\n",
      "Wall time: 3.03 s\n"
     ]
    },
    {
     "data": {
      "image/png": "[encoded data removed]",
      "text/plain": [
       "<Figure size 1152x576 with 3 Axes>"
      ]
     },
     "metadata": {
      "needs_background": "light"
     },
     "output_type": "display_data"
    }
   ],
   "source": [
    "%%time\n",
    "lims = [-4500, 4500]\n",
    "create_npv_plot(df_npv_combined, cash_flow_lims=lims, npv_lims=lims)"
   ]
  }
 ],
 "metadata": {
  "kernelspec": {
   "display_name": "Python 3 (ipykernel)",
   "language": "python",
   "name": "python3"
  },
  "language_info": {
   "codemirror_mode": {
    "name": "ipython",
    "version": 3
   },
   "file_extension": ".py",
   "mimetype": "text/x-python",
   "name": "python",
   "nbconvert_exporter": "python",
   "pygments_lexer": "ipython3",
   "version": "3.9.12"
  }
 },
 "nbformat": 4,
 "nbformat_minor": 5
}
