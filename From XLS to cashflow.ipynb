{
 "cells": [
  {
   "cell_type": "markdown",
   "id": "6bb113ce",
   "metadata": {},
   "source": [
    "#### 0. Import basic methods from source.py\n",
    "Import useful methods from source.py (NB: can later be integrated into a package)"
   ]
  },
  {
   "cell_type": "code",
   "execution_count": 1,
   "id": "f9fd7be4",
   "metadata": {},
   "outputs": [],
   "source": [
    "from source import *"
   ]
  },
  {
   "cell_type": "markdown",
   "id": "d8645f61",
   "metadata": {},
   "source": [
    "#### 1. Open xls file and ingest Inputs table\n",
    "Note I am assuming that all inputs will be aggregated into one single inputs table"
   ]
  },
  {
   "cell_type": "code",
   "execution_count": 2,
   "id": "a522a4e6",
   "metadata": {},
   "outputs": [],
   "source": [
    "filename = r'H2 Model Wouter.xlsm'"
   ]
  },
  {
   "cell_type": "code",
   "execution_count": 3,
   "id": "37e90e09",
   "metadata": {},
   "outputs": [
    {
     "name": "stderr",
     "output_type": "stream",
     "text": [
      "C:\\Users\\MRV\\Anaconda3\\envs\\gdal\\lib\\site-packages\\openpyxl\\worksheet\\_reader.py:312: UserWarning: Data Validation extension is not supported and will be removed\n",
      "  warn(msg)\n"
     ]
    },
    {
     "name": "stdout",
     "output_type": "stream",
     "text": [
      "CPU times: total: 1min 12s\n",
      "Wall time: 1min 13s\n"
     ]
    }
   ],
   "source": [
    "%%time\n",
    "# load workbook\n",
    "wb = load_workbook(filename)"
   ]
  },
  {
   "cell_type": "code",
   "execution_count": 4,
   "id": "b2007e11",
   "metadata": {},
   "outputs": [],
   "source": [
    "# load worksheet\n",
    "ws = wb[\"Input Tab\"]"
   ]
  },
  {
   "cell_type": "code",
   "execution_count": 5,
   "id": "50617ff9",
   "metadata": {},
   "outputs": [],
   "source": [
    "mapping = {}\n",
    "\n",
    "for entry, data_boundary in ws.tables.items():\n",
    "    # parse the data within the ref boundary\n",
    "    data = ws[data_boundary]\n",
    "    \n",
    "    # extract the data (the inner list comprehension gets the values for each cell in the table)\n",
    "    content = [[cell.value for cell in ent] for ent in data]\n",
    "    \n",
    "    # find header\n",
    "    header = content[0]\n",
    "    \n",
    "    # find the rest ... the contents, excluding the header\n",
    "    rest = content[1:]\n",
    "    \n",
    "    # create dataframe with the column names\n",
    "    # and pair table name with dataframe\n",
    "    df = pd.DataFrame(rest, columns = header)\n",
    "    mapping[entry] = df"
   ]
  },
  {
   "cell_type": "code",
   "execution_count": 6,
   "id": "8ccd6aaa",
   "metadata": {},
   "outputs": [
    {
     "data": {
      "text/html": [
       "<div>\n",
       "<style scoped>\n",
       "    .dataframe tbody tr th:only-of-type {\n",
       "        vertical-align: middle;\n",
       "    }\n",
       "\n",
       "    .dataframe tbody tr th {\n",
       "        vertical-align: top;\n",
       "    }\n",
       "\n",
       "    .dataframe thead th {\n",
       "        text-align: right;\n",
       "    }\n",
       "</style>\n",
       "<table border=\"1\" class=\"dataframe\">\n",
       "  <thead>\n",
       "    <tr style=\"text-align: right;\">\n",
       "      <th></th>\n",
       "      <th>Category</th>\n",
       "      <th>Sub-system</th>\n",
       "      <th>Element</th>\n",
       "      <th>Component</th>\n",
       "      <th>Description</th>\n",
       "      <th>Number</th>\n",
       "      <th>Unit</th>\n",
       "      <th>Comments</th>\n",
       "    </tr>\n",
       "  </thead>\n",
       "  <tbody>\n",
       "    <tr>\n",
       "      <th>0</th>\n",
       "      <td>System input</td>\n",
       "      <td>Wind energy source &amp; Transport</td>\n",
       "      <td>Offshore wind park</td>\n",
       "      <td>-</td>\n",
       "      <td>Total Windpark Capacity</td>\n",
       "      <td>3000</td>\n",
       "      <td>MW</td>\n",
       "      <td>None</td>\n",
       "    </tr>\n",
       "    <tr>\n",
       "      <th>1</th>\n",
       "      <td>System input</td>\n",
       "      <td>Wind energy source &amp; Transport</td>\n",
       "      <td>Offshore wind park</td>\n",
       "      <td>Turbine</td>\n",
       "      <td>Windturbine Capacity per unit</td>\n",
       "      <td>20</td>\n",
       "      <td>MW</td>\n",
       "      <td>None</td>\n",
       "    </tr>\n",
       "    <tr>\n",
       "      <th>2</th>\n",
       "      <td>System input</td>\n",
       "      <td>Wind energy source &amp; Transport</td>\n",
       "      <td>Offshore wind park</td>\n",
       "      <td>Inter-array cable</td>\n",
       "      <td>Length</td>\n",
       "      <td>50</td>\n",
       "      <td>km</td>\n",
       "      <td>None</td>\n",
       "    </tr>\n",
       "    <tr>\n",
       "      <th>3</th>\n",
       "      <td>System input</td>\n",
       "      <td>AC Substation &amp; Transport</td>\n",
       "      <td>AC Substation &amp; Transport</td>\n",
       "      <td>AC Substation</td>\n",
       "      <td>Capacity per unit</td>\n",
       "      <td>2000</td>\n",
       "      <td>MW</td>\n",
       "      <td>None</td>\n",
       "    </tr>\n",
       "    <tr>\n",
       "      <th>4</th>\n",
       "      <td>System input</td>\n",
       "      <td>AC Substation &amp; Transport</td>\n",
       "      <td>AC Substation &amp; Transport</td>\n",
       "      <td>AC collection cable</td>\n",
       "      <td>Length</td>\n",
       "      <td>25</td>\n",
       "      <td>km</td>\n",
       "      <td>None</td>\n",
       "    </tr>\n",
       "  </tbody>\n",
       "</table>\n",
       "</div>"
      ],
      "text/plain": [
       "       Category                      Sub-system                    Element  \\\n",
       "0  System input  Wind energy source & Transport         Offshore wind park   \n",
       "1  System input  Wind energy source & Transport         Offshore wind park   \n",
       "2  System input  Wind energy source & Transport         Offshore wind park   \n",
       "3  System input       AC Substation & Transport  AC Substation & Transport   \n",
       "4  System input       AC Substation & Transport  AC Substation & Transport   \n",
       "\n",
       "             Component                    Description Number Unit Comments  \n",
       "0                    -        Total Windpark Capacity   3000   MW     None  \n",
       "1              Turbine  Windturbine Capacity per unit     20   MW     None  \n",
       "2    Inter-array cable                         Length     50   km     None  \n",
       "3        AC Substation              Capacity per unit   2000   MW     None  \n",
       "4  AC collection cable                         Length     25   km     None  "
      ]
     },
     "execution_count": 6,
     "metadata": {},
     "output_type": "execute_result"
    }
   ],
   "source": [
    "Inputs = pd.DataFrame(mapping['Scenario1'])\n",
    "Inputs.head()"
   ]
  },
  {
   "cell_type": "markdown",
   "id": "f5eeda26",
   "metadata": {},
   "source": [
    "#### 2. Data inspection "
   ]
  },
  {
   "cell_type": "code",
   "execution_count": 7,
   "id": "69a60004",
   "metadata": {},
   "outputs": [
    {
     "data": {
      "text/plain": [
       "Index(['Category', 'Sub-system', 'Element', 'Component', 'Description',\n",
       "       'Number', 'Unit', 'Comments'],\n",
       "      dtype='object')"
      ]
     },
     "execution_count": 7,
     "metadata": {},
     "output_type": "execute_result"
    }
   ],
   "source": [
    "Inputs.columns"
   ]
  },
  {
   "cell_type": "code",
   "execution_count": 8,
   "id": "546c3518",
   "metadata": {},
   "outputs": [
    {
     "data": {
      "text/html": [
       "<div>\n",
       "<style scoped>\n",
       "    .dataframe tbody tr th:only-of-type {\n",
       "        vertical-align: middle;\n",
       "    }\n",
       "\n",
       "    .dataframe tbody tr th {\n",
       "        vertical-align: top;\n",
       "    }\n",
       "\n",
       "    .dataframe thead th {\n",
       "        text-align: right;\n",
       "    }\n",
       "</style>\n",
       "<table border=\"1\" class=\"dataframe\">\n",
       "  <thead>\n",
       "    <tr style=\"text-align: right;\">\n",
       "      <th></th>\n",
       "      <th>Category</th>\n",
       "      <th>Sub-system</th>\n",
       "      <th>Element</th>\n",
       "      <th>Component</th>\n",
       "      <th>Description</th>\n",
       "      <th>Number</th>\n",
       "      <th>Unit</th>\n",
       "      <th>Comments</th>\n",
       "    </tr>\n",
       "  </thead>\n",
       "  <tbody>\n",
       "    <tr>\n",
       "      <th>0</th>\n",
       "      <td>System input</td>\n",
       "      <td>Wind energy source &amp; Transport</td>\n",
       "      <td>Offshore wind park</td>\n",
       "      <td>-</td>\n",
       "      <td>Total Windpark Capacity</td>\n",
       "      <td>3000</td>\n",
       "      <td>MW</td>\n",
       "      <td>None</td>\n",
       "    </tr>\n",
       "    <tr>\n",
       "      <th>1</th>\n",
       "      <td>System input</td>\n",
       "      <td>Wind energy source &amp; Transport</td>\n",
       "      <td>Offshore wind park</td>\n",
       "      <td>Turbine</td>\n",
       "      <td>Windturbine Capacity per unit</td>\n",
       "      <td>20</td>\n",
       "      <td>MW</td>\n",
       "      <td>None</td>\n",
       "    </tr>\n",
       "    <tr>\n",
       "      <th>2</th>\n",
       "      <td>System input</td>\n",
       "      <td>Wind energy source &amp; Transport</td>\n",
       "      <td>Offshore wind park</td>\n",
       "      <td>Inter-array cable</td>\n",
       "      <td>Length</td>\n",
       "      <td>50</td>\n",
       "      <td>km</td>\n",
       "      <td>None</td>\n",
       "    </tr>\n",
       "    <tr>\n",
       "      <th>3</th>\n",
       "      <td>System input</td>\n",
       "      <td>AC Substation &amp; Transport</td>\n",
       "      <td>AC Substation &amp; Transport</td>\n",
       "      <td>AC Substation</td>\n",
       "      <td>Capacity per unit</td>\n",
       "      <td>2000</td>\n",
       "      <td>MW</td>\n",
       "      <td>None</td>\n",
       "    </tr>\n",
       "    <tr>\n",
       "      <th>4</th>\n",
       "      <td>System input</td>\n",
       "      <td>AC Substation &amp; Transport</td>\n",
       "      <td>AC Substation &amp; Transport</td>\n",
       "      <td>AC collection cable</td>\n",
       "      <td>Length</td>\n",
       "      <td>25</td>\n",
       "      <td>km</td>\n",
       "      <td>None</td>\n",
       "    </tr>\n",
       "    <tr>\n",
       "      <th>5</th>\n",
       "      <td>System input</td>\n",
       "      <td>Converter &amp; Transport</td>\n",
       "      <td>Converter</td>\n",
       "      <td>HVDC Converter</td>\n",
       "      <td>Capacity per unit</td>\n",
       "      <td>3000</td>\n",
       "      <td>MW</td>\n",
       "      <td>None</td>\n",
       "    </tr>\n",
       "    <tr>\n",
       "      <th>6</th>\n",
       "      <td>System input</td>\n",
       "      <td>Converter &amp; Transport</td>\n",
       "      <td>Converter</td>\n",
       "      <td>HVDC cable</td>\n",
       "      <td>Length</td>\n",
       "      <td>20</td>\n",
       "      <td>km</td>\n",
       "      <td>None</td>\n",
       "    </tr>\n",
       "    <tr>\n",
       "      <th>7</th>\n",
       "      <td>System input</td>\n",
       "      <td>Electrolysis, Electricity &amp; Transport</td>\n",
       "      <td>Electrolysis</td>\n",
       "      <td>Electrolyser</td>\n",
       "      <td>Stack size capacity</td>\n",
       "      <td>20</td>\n",
       "      <td>MW</td>\n",
       "      <td>None</td>\n",
       "    </tr>\n",
       "    <tr>\n",
       "      <th>8</th>\n",
       "      <td>System input</td>\n",
       "      <td>Electrolysis, Electricity &amp; Transport</td>\n",
       "      <td>Electricity</td>\n",
       "      <td>DCAC Converter</td>\n",
       "      <td>Capacity per unit</td>\n",
       "      <td>40</td>\n",
       "      <td>MW</td>\n",
       "      <td>None</td>\n",
       "    </tr>\n",
       "    <tr>\n",
       "      <th>9</th>\n",
       "      <td>System input</td>\n",
       "      <td>Electrolysis, Electricity &amp; Transport</td>\n",
       "      <td>Facility location</td>\n",
       "      <td>Artificial island</td>\n",
       "      <td>Footprint</td>\n",
       "      <td>100</td>\n",
       "      <td>m2/MW</td>\n",
       "      <td>None</td>\n",
       "    </tr>\n",
       "    <tr>\n",
       "      <th>10</th>\n",
       "      <td>System input</td>\n",
       "      <td>Electrolysis, Electricity &amp; Transport</td>\n",
       "      <td>Facility location</td>\n",
       "      <td>Mainland</td>\n",
       "      <td>Footprint</td>\n",
       "      <td>100</td>\n",
       "      <td>m2/MW</td>\n",
       "      <td>None</td>\n",
       "    </tr>\n",
       "    <tr>\n",
       "      <th>11</th>\n",
       "      <td>System input</td>\n",
       "      <td>Electrolysis, Electricity &amp; Transport</td>\n",
       "      <td>Facility location</td>\n",
       "      <td>Artificial island</td>\n",
       "      <td>Distance from shore</td>\n",
       "      <td>150</td>\n",
       "      <td>km</td>\n",
       "      <td>None</td>\n",
       "    </tr>\n",
       "    <tr>\n",
       "      <th>12</th>\n",
       "      <td>System input</td>\n",
       "      <td>Electrolysis, Electricity &amp; Transport</td>\n",
       "      <td>Transport</td>\n",
       "      <td>H2 Pipeline</td>\n",
       "      <td>Length</td>\n",
       "      <td>150</td>\n",
       "      <td>km</td>\n",
       "      <td>Distance from shore</td>\n",
       "    </tr>\n",
       "    <tr>\n",
       "      <th>13</th>\n",
       "      <td>System input</td>\n",
       "      <td>Electrolysis, Electricity &amp; Transport</td>\n",
       "      <td>Transport</td>\n",
       "      <td>Electricity cable</td>\n",
       "      <td>Length</td>\n",
       "      <td>2</td>\n",
       "      <td>km</td>\n",
       "      <td>None</td>\n",
       "    </tr>\n",
       "    <tr>\n",
       "      <th>14</th>\n",
       "      <td>System input</td>\n",
       "      <td>Wind energy source &amp; Transport</td>\n",
       "      <td>Offshore wind park</td>\n",
       "      <td>Inter-array cable</td>\n",
       "      <td>Transport loss</td>\n",
       "      <td>0.02</td>\n",
       "      <td>%</td>\n",
       "      <td>None</td>\n",
       "    </tr>\n",
       "    <tr>\n",
       "      <th>15</th>\n",
       "      <td>System input</td>\n",
       "      <td>AC Substation &amp; Transport</td>\n",
       "      <td>AC Substation &amp; Transport</td>\n",
       "      <td>AC collection cable</td>\n",
       "      <td>Transformation loss</td>\n",
       "      <td>0.02</td>\n",
       "      <td>%</td>\n",
       "      <td>None</td>\n",
       "    </tr>\n",
       "    <tr>\n",
       "      <th>16</th>\n",
       "      <td>System input</td>\n",
       "      <td>Converter &amp; Transport</td>\n",
       "      <td>Converter</td>\n",
       "      <td>HVDC Cable</td>\n",
       "      <td>Conversion loss</td>\n",
       "      <td>0.02</td>\n",
       "      <td>%</td>\n",
       "      <td>None</td>\n",
       "    </tr>\n",
       "    <tr>\n",
       "      <th>17</th>\n",
       "      <td>System input</td>\n",
       "      <td>Electrolysis, Electricity &amp; Transport</td>\n",
       "      <td>Electrolysis</td>\n",
       "      <td>Electrolyser</td>\n",
       "      <td>Conversion MWh to tons Hydrogen</td>\n",
       "      <td>50</td>\n",
       "      <td>MWh / tons</td>\n",
       "      <td>None</td>\n",
       "    </tr>\n",
       "    <tr>\n",
       "      <th>18</th>\n",
       "      <td>System input</td>\n",
       "      <td>Electrolysis, Electricity &amp; Transport</td>\n",
       "      <td>Transport</td>\n",
       "      <td>H2 Pipeline</td>\n",
       "      <td>Transport loss 2</td>\n",
       "      <td>0.02</td>\n",
       "      <td>%</td>\n",
       "      <td>None</td>\n",
       "    </tr>\n",
       "    <tr>\n",
       "      <th>19</th>\n",
       "      <td>System input</td>\n",
       "      <td>Electrolysis, Electricity &amp; Transport</td>\n",
       "      <td>Transport</td>\n",
       "      <td>Electricity cable</td>\n",
       "      <td>Transport loss 3</td>\n",
       "      <td>0.02</td>\n",
       "      <td>%</td>\n",
       "      <td>None</td>\n",
       "    </tr>\n",
       "    <tr>\n",
       "      <th>20</th>\n",
       "      <td>System input</td>\n",
       "      <td>-</td>\n",
       "      <td>-</td>\n",
       "      <td>-</td>\n",
       "      <td>WACC</td>\n",
       "      <td>0.0984</td>\n",
       "      <td>%</td>\n",
       "      <td>WACC!$C$18</td>\n",
       "    </tr>\n",
       "    <tr>\n",
       "      <th>21</th>\n",
       "      <td>System input</td>\n",
       "      <td>-</td>\n",
       "      <td>-</td>\n",
       "      <td>-</td>\n",
       "      <td>= Cockpit!$B$45</td>\n",
       "      <td>0.02</td>\n",
       "      <td>%</td>\n",
       "      <td>Cockpit!$C$45</td>\n",
       "    </tr>\n",
       "  </tbody>\n",
       "</table>\n",
       "</div>"
      ],
      "text/plain": [
       "        Category                             Sub-system  \\\n",
       "0   System input         Wind energy source & Transport   \n",
       "1   System input         Wind energy source & Transport   \n",
       "2   System input         Wind energy source & Transport   \n",
       "3   System input              AC Substation & Transport   \n",
       "4   System input              AC Substation & Transport   \n",
       "5   System input                  Converter & Transport   \n",
       "6   System input                  Converter & Transport   \n",
       "7   System input  Electrolysis, Electricity & Transport   \n",
       "8   System input  Electrolysis, Electricity & Transport   \n",
       "9   System input  Electrolysis, Electricity & Transport   \n",
       "10  System input  Electrolysis, Electricity & Transport   \n",
       "11  System input  Electrolysis, Electricity & Transport   \n",
       "12  System input  Electrolysis, Electricity & Transport   \n",
       "13  System input  Electrolysis, Electricity & Transport   \n",
       "14  System input         Wind energy source & Transport   \n",
       "15  System input              AC Substation & Transport   \n",
       "16  System input                  Converter & Transport   \n",
       "17  System input  Electrolysis, Electricity & Transport   \n",
       "18  System input  Electrolysis, Electricity & Transport   \n",
       "19  System input  Electrolysis, Electricity & Transport   \n",
       "20  System input                                      -   \n",
       "21  System input                                      -   \n",
       "\n",
       "                      Element            Component  \\\n",
       "0          Offshore wind park                    -   \n",
       "1          Offshore wind park              Turbine   \n",
       "2          Offshore wind park    Inter-array cable   \n",
       "3   AC Substation & Transport        AC Substation   \n",
       "4   AC Substation & Transport  AC collection cable   \n",
       "5                   Converter       HVDC Converter   \n",
       "6                   Converter           HVDC cable   \n",
       "7                Electrolysis         Electrolyser   \n",
       "8                 Electricity       DCAC Converter   \n",
       "9           Facility location    Artificial island   \n",
       "10          Facility location             Mainland   \n",
       "11          Facility location    Artificial island   \n",
       "12                  Transport          H2 Pipeline   \n",
       "13                  Transport    Electricity cable   \n",
       "14         Offshore wind park    Inter-array cable   \n",
       "15  AC Substation & Transport  AC collection cable   \n",
       "16                  Converter           HVDC Cable   \n",
       "17               Electrolysis         Electrolyser   \n",
       "18                  Transport          H2 Pipeline   \n",
       "19                  Transport    Electricity cable   \n",
       "20                          -                    -   \n",
       "21                          -                    -   \n",
       "\n",
       "                        Description  Number        Unit             Comments  \n",
       "0           Total Windpark Capacity    3000          MW                 None  \n",
       "1     Windturbine Capacity per unit      20          MW                 None  \n",
       "2                            Length      50          km                 None  \n",
       "3                 Capacity per unit    2000          MW                 None  \n",
       "4                            Length      25          km                 None  \n",
       "5                 Capacity per unit    3000          MW                 None  \n",
       "6                            Length      20          km                 None  \n",
       "7               Stack size capacity      20          MW                 None  \n",
       "8                 Capacity per unit      40          MW                 None  \n",
       "9                         Footprint     100       m2/MW                 None  \n",
       "10                        Footprint     100       m2/MW                 None  \n",
       "11              Distance from shore     150          km                 None  \n",
       "12                           Length     150          km  Distance from shore  \n",
       "13                           Length       2          km                 None  \n",
       "14                   Transport loss    0.02           %                 None  \n",
       "15              Transformation loss    0.02           %                 None  \n",
       "16                  Conversion loss    0.02           %                 None  \n",
       "17  Conversion MWh to tons Hydrogen      50  MWh / tons                 None  \n",
       "18                 Transport loss 2    0.02           %                 None  \n",
       "19                 Transport loss 3    0.02           %                 None  \n",
       "20                             WACC  0.0984           %           WACC!$C$18  \n",
       "21                  = Cockpit!$B$45    0.02           %        Cockpit!$C$45  "
      ]
     },
     "execution_count": 8,
     "metadata": {},
     "output_type": "execute_result"
    }
   ],
   "source": [
    "Inputs[Inputs['Category']=='System input']"
   ]
  },
  {
   "cell_type": "code",
   "execution_count": 9,
   "id": "0a872248",
   "metadata": {},
   "outputs": [
    {
     "data": {
      "text/plain": [
       "['Wind energy source & Transport',\n",
       " 'AC Substation & Transport',\n",
       " 'Converter & Transport',\n",
       " 'Electrolysis, Electricity & Transport',\n",
       " '-']"
      ]
     },
     "execution_count": 9,
     "metadata": {},
     "output_type": "execute_result"
    }
   ],
   "source": [
    "list(Inputs['Sub-system'].unique())"
   ]
  },
  {
   "cell_type": "code",
   "execution_count": 10,
   "id": "df845f37",
   "metadata": {},
   "outputs": [
    {
     "data": {
      "text/plain": [
       "['Offshore wind park',\n",
       " 'AC Substation & Transport',\n",
       " 'Converter',\n",
       " 'Electrolysis',\n",
       " 'Electricity',\n",
       " 'Facility location',\n",
       " 'Transport',\n",
       " '-']"
      ]
     },
     "execution_count": 10,
     "metadata": {},
     "output_type": "execute_result"
    }
   ],
   "source": [
    "list(Inputs['Element'].unique())"
   ]
  },
  {
   "cell_type": "code",
   "execution_count": 11,
   "id": "debd91b1",
   "metadata": {},
   "outputs": [
    {
     "data": {
      "text/plain": [
       "['-',\n",
       " 'Turbine',\n",
       " 'Inter-array cable',\n",
       " 'AC Substation',\n",
       " 'AC collection cable',\n",
       " 'HVDC Converter',\n",
       " 'HVDC cable',\n",
       " 'Electrolyser',\n",
       " 'DCAC Converter',\n",
       " 'Artificial island',\n",
       " 'Mainland',\n",
       " 'H2 Pipeline',\n",
       " 'Electricity cable',\n",
       " 'HVDC Cable',\n",
       " 'Foundation & cable',\n",
       " 'DC collection cable',\n",
       " 'Desalination unit',\n",
       " 'Compressor unit',\n",
       " 'Storage unit',\n",
       " 'Compressor after storage']"
      ]
     },
     "execution_count": 11,
     "metadata": {},
     "output_type": "execute_result"
    }
   ],
   "source": [
    "list(Inputs['Component'].unique())"
   ]
  },
  {
   "cell_type": "markdown",
   "id": "48c8e882",
   "metadata": {},
   "source": [
    "#### 3. Select one item from the Inputs table (generate cashflow overview)"
   ]
  },
  {
   "cell_type": "markdown",
   "id": "a4bfad87",
   "metadata": {},
   "source": [
    "##### A. do per item"
   ]
  },
  {
   "cell_type": "code",
   "execution_count": 12,
   "id": "f6e573a1",
   "metadata": {
    "scrolled": false
   },
   "outputs": [
    {
     "name": "stdout",
     "output_type": "stream",
     "text": [
      "CPU times: total: 0 ns\n",
      "Wall time: 0 ns\n"
     ]
    },
    {
     "data": {
      "text/plain": [
       "'Construction items Foundation & cable: 1 units'"
      ]
     },
     "metadata": {},
     "output_type": "display_data"
    },
    {
     "data": {
      "text/plain": [
       "'CAPEX component Foundation & cable: 2691000 eu for 1 unit(s)'"
      ]
     },
     "metadata": {},
     "output_type": "display_data"
    },
    {
     "data": {
      "text/plain": [
       "'Construction duration Foundation & cable: 3 years'"
      ]
     },
     "metadata": {},
     "output_type": "display_data"
    },
    {
     "data": {
      "text/plain": [
       "'Construction allocation Foundation & cable: [0.4, 0.3, 0.3] per year'"
      ]
     },
     "metadata": {},
     "output_type": "display_data"
    },
    {
     "data": {
      "text/plain": [
       "'Economic Lifetime Foundation & cable: 50 years'"
      ]
     },
     "metadata": {},
     "output_type": "display_data"
    },
    {
     "data": {
      "text/plain": [
       "'Depreciation Flag Foundation & cable: 1'"
      ]
     },
     "metadata": {},
     "output_type": "display_data"
    },
    {
     "data": {
      "text/plain": [
       "'Yearly Variable Costs Flag Foundation & cable: 1'"
      ]
     },
     "metadata": {},
     "output_type": "display_data"
    },
    {
     "data": {
      "text/plain": [
       "'Yearly Variable Costs Rate Foundation & cable: 0.03'"
      ]
     },
     "metadata": {},
     "output_type": "display_data"
    },
    {
     "data": {
      "text/plain": [
       "'Insurance Flag Foundation & cable: 1'"
      ]
     },
     "metadata": {},
     "output_type": "display_data"
    },
    {
     "data": {
      "text/plain": [
       "'Insurance Rate Foundation & cable: 0.005'"
      ]
     },
     "metadata": {},
     "output_type": "display_data"
    },
    {
     "data": {
      "text/plain": [
       "'Decommissioning Foundation & cable: 0.02'"
      ]
     },
     "metadata": {},
     "output_type": "display_data"
    },
    {
     "data": {
      "text/plain": [
       "'Residual Value Foundation & cable: 0.01'"
      ]
     },
     "metadata": {},
     "output_type": "display_data"
    },
    {
     "data": {
      "text/plain": [
       "'OPEX component Foundation & cable: 94184.99999999999 eu for 1 unit(s)'"
      ]
     },
     "metadata": {},
     "output_type": "display_data"
    },
    {
     "data": {
      "text/plain": [
       "'Revenue Foundation & cable: 0 euro/unit'"
      ]
     },
     "metadata": {},
     "output_type": "display_data"
    },
    {
     "data": {
      "text/html": [
       "<div>\n",
       "<style scoped>\n",
       "    .dataframe tbody tr th:only-of-type {\n",
       "        vertical-align: middle;\n",
       "    }\n",
       "\n",
       "    .dataframe tbody tr th {\n",
       "        vertical-align: top;\n",
       "    }\n",
       "\n",
       "    .dataframe thead th {\n",
       "        text-align: right;\n",
       "    }\n",
       "</style>\n",
       "<table border=\"1\" class=\"dataframe\">\n",
       "  <thead>\n",
       "    <tr style=\"text-align: right;\">\n",
       "      <th></th>\n",
       "      <th>years</th>\n",
       "      <th>capex</th>\n",
       "      <th>opex</th>\n",
       "      <th>revenue</th>\n",
       "      <th>cashflow</th>\n",
       "      <th>cashflow_sum</th>\n",
       "      <th>npv</th>\n",
       "      <th>npv_sum</th>\n",
       "    </tr>\n",
       "    <tr>\n",
       "      <th>years</th>\n",
       "      <th></th>\n",
       "      <th></th>\n",
       "      <th></th>\n",
       "      <th></th>\n",
       "      <th></th>\n",
       "      <th></th>\n",
       "      <th></th>\n",
       "      <th></th>\n",
       "    </tr>\n",
       "  </thead>\n",
       "  <tbody>\n",
       "    <tr>\n",
       "      <th>2000</th>\n",
       "      <td>2000</td>\n",
       "      <td>0</td>\n",
       "      <td>0.0</td>\n",
       "      <td>0</td>\n",
       "      <td>0.0</td>\n",
       "      <td>0.0</td>\n",
       "      <td>0.000000e+00</td>\n",
       "      <td>0.000000e+00</td>\n",
       "    </tr>\n",
       "    <tr>\n",
       "      <th>2001</th>\n",
       "      <td>2001</td>\n",
       "      <td>-1076400</td>\n",
       "      <td>0.0</td>\n",
       "      <td>0</td>\n",
       "      <td>-1076400.0</td>\n",
       "      <td>-1076400.0</td>\n",
       "      <td>-1.005981e+06</td>\n",
       "      <td>-1.005981e+06</td>\n",
       "    </tr>\n",
       "    <tr>\n",
       "      <th>2002</th>\n",
       "      <td>2002</td>\n",
       "      <td>-1076400</td>\n",
       "      <td>0.0</td>\n",
       "      <td>0</td>\n",
       "      <td>-1076400.0</td>\n",
       "      <td>-2152800.0</td>\n",
       "      <td>-9.401694e+05</td>\n",
       "      <td>-1.946151e+06</td>\n",
       "    </tr>\n",
       "    <tr>\n",
       "      <th>2003</th>\n",
       "      <td>2003</td>\n",
       "      <td>-1076400</td>\n",
       "      <td>0.0</td>\n",
       "      <td>0</td>\n",
       "      <td>-1076400.0</td>\n",
       "      <td>-3229200.0</td>\n",
       "      <td>-8.786630e+05</td>\n",
       "      <td>-2.824814e+06</td>\n",
       "    </tr>\n",
       "    <tr>\n",
       "      <th>2004</th>\n",
       "      <td>2004</td>\n",
       "      <td>0</td>\n",
       "      <td>-94185.0</td>\n",
       "      <td>0</td>\n",
       "      <td>-94185.0</td>\n",
       "      <td>-3323385.0</td>\n",
       "      <td>-7.185329e+04</td>\n",
       "      <td>-2.896667e+06</td>\n",
       "    </tr>\n",
       "    <tr>\n",
       "      <th>2005</th>\n",
       "      <td>2005</td>\n",
       "      <td>0</td>\n",
       "      <td>-94185.0</td>\n",
       "      <td>0</td>\n",
       "      <td>-94185.0</td>\n",
       "      <td>-3417570.0</td>\n",
       "      <td>-6.715260e+04</td>\n",
       "      <td>-2.963820e+06</td>\n",
       "    </tr>\n",
       "    <tr>\n",
       "      <th>2006</th>\n",
       "      <td>2006</td>\n",
       "      <td>0</td>\n",
       "      <td>-94185.0</td>\n",
       "      <td>0</td>\n",
       "      <td>-94185.0</td>\n",
       "      <td>-3511755.0</td>\n",
       "      <td>-6.275944e+04</td>\n",
       "      <td>-3.026579e+06</td>\n",
       "    </tr>\n",
       "    <tr>\n",
       "      <th>2007</th>\n",
       "      <td>2007</td>\n",
       "      <td>0</td>\n",
       "      <td>-94185.0</td>\n",
       "      <td>0</td>\n",
       "      <td>-94185.0</td>\n",
       "      <td>-3605940.0</td>\n",
       "      <td>-5.865368e+04</td>\n",
       "      <td>-3.085233e+06</td>\n",
       "    </tr>\n",
       "    <tr>\n",
       "      <th>2008</th>\n",
       "      <td>2008</td>\n",
       "      <td>0</td>\n",
       "      <td>-94185.0</td>\n",
       "      <td>0</td>\n",
       "      <td>-94185.0</td>\n",
       "      <td>-3700125.0</td>\n",
       "      <td>-5.481653e+04</td>\n",
       "      <td>-3.140049e+06</td>\n",
       "    </tr>\n",
       "    <tr>\n",
       "      <th>2009</th>\n",
       "      <td>2009</td>\n",
       "      <td>0</td>\n",
       "      <td>-94185.0</td>\n",
       "      <td>0</td>\n",
       "      <td>-94185.0</td>\n",
       "      <td>-3794310.0</td>\n",
       "      <td>-5.123040e+04</td>\n",
       "      <td>-3.191280e+06</td>\n",
       "    </tr>\n",
       "    <tr>\n",
       "      <th>2010</th>\n",
       "      <td>2010</td>\n",
       "      <td>0</td>\n",
       "      <td>-94185.0</td>\n",
       "      <td>0</td>\n",
       "      <td>-94185.0</td>\n",
       "      <td>-3888495.0</td>\n",
       "      <td>-4.787888e+04</td>\n",
       "      <td>-3.239159e+06</td>\n",
       "    </tr>\n",
       "    <tr>\n",
       "      <th>2011</th>\n",
       "      <td>2011</td>\n",
       "      <td>0</td>\n",
       "      <td>-94185.0</td>\n",
       "      <td>0</td>\n",
       "      <td>-94185.0</td>\n",
       "      <td>-3982680.0</td>\n",
       "      <td>-4.474662e+04</td>\n",
       "      <td>-3.283905e+06</td>\n",
       "    </tr>\n",
       "    <tr>\n",
       "      <th>2012</th>\n",
       "      <td>2012</td>\n",
       "      <td>0</td>\n",
       "      <td>-94185.0</td>\n",
       "      <td>0</td>\n",
       "      <td>-94185.0</td>\n",
       "      <td>-4076865.0</td>\n",
       "      <td>-4.181927e+04</td>\n",
       "      <td>-3.325724e+06</td>\n",
       "    </tr>\n",
       "    <tr>\n",
       "      <th>2013</th>\n",
       "      <td>2013</td>\n",
       "      <td>0</td>\n",
       "      <td>-94185.0</td>\n",
       "      <td>0</td>\n",
       "      <td>-94185.0</td>\n",
       "      <td>-4171050.0</td>\n",
       "      <td>-3.908343e+04</td>\n",
       "      <td>-3.364808e+06</td>\n",
       "    </tr>\n",
       "    <tr>\n",
       "      <th>2014</th>\n",
       "      <td>2014</td>\n",
       "      <td>0</td>\n",
       "      <td>-94185.0</td>\n",
       "      <td>0</td>\n",
       "      <td>-94185.0</td>\n",
       "      <td>-4265235.0</td>\n",
       "      <td>-3.652657e+04</td>\n",
       "      <td>-3.401334e+06</td>\n",
       "    </tr>\n",
       "    <tr>\n",
       "      <th>2015</th>\n",
       "      <td>2015</td>\n",
       "      <td>0</td>\n",
       "      <td>-94185.0</td>\n",
       "      <td>0</td>\n",
       "      <td>-94185.0</td>\n",
       "      <td>-4359420.0</td>\n",
       "      <td>-3.413698e+04</td>\n",
       "      <td>-3.435471e+06</td>\n",
       "    </tr>\n",
       "    <tr>\n",
       "      <th>2016</th>\n",
       "      <td>2016</td>\n",
       "      <td>0</td>\n",
       "      <td>-94185.0</td>\n",
       "      <td>0</td>\n",
       "      <td>-94185.0</td>\n",
       "      <td>-4453605.0</td>\n",
       "      <td>-3.190372e+04</td>\n",
       "      <td>-3.467375e+06</td>\n",
       "    </tr>\n",
       "    <tr>\n",
       "      <th>2017</th>\n",
       "      <td>2017</td>\n",
       "      <td>0</td>\n",
       "      <td>-94185.0</td>\n",
       "      <td>0</td>\n",
       "      <td>-94185.0</td>\n",
       "      <td>-4547790.0</td>\n",
       "      <td>-2.981656e+04</td>\n",
       "      <td>-3.497192e+06</td>\n",
       "    </tr>\n",
       "    <tr>\n",
       "      <th>2018</th>\n",
       "      <td>2018</td>\n",
       "      <td>0</td>\n",
       "      <td>-94185.0</td>\n",
       "      <td>0</td>\n",
       "      <td>-94185.0</td>\n",
       "      <td>-4641975.0</td>\n",
       "      <td>-2.786594e+04</td>\n",
       "      <td>-3.525058e+06</td>\n",
       "    </tr>\n",
       "    <tr>\n",
       "      <th>2019</th>\n",
       "      <td>2019</td>\n",
       "      <td>0</td>\n",
       "      <td>-94185.0</td>\n",
       "      <td>0</td>\n",
       "      <td>-94185.0</td>\n",
       "      <td>-4736160.0</td>\n",
       "      <td>-2.604294e+04</td>\n",
       "      <td>-3.551101e+06</td>\n",
       "    </tr>\n",
       "    <tr>\n",
       "      <th>2020</th>\n",
       "      <td>2020</td>\n",
       "      <td>0</td>\n",
       "      <td>-94185.0</td>\n",
       "      <td>0</td>\n",
       "      <td>-94185.0</td>\n",
       "      <td>-4830345.0</td>\n",
       "      <td>-2.433919e+04</td>\n",
       "      <td>-3.575440e+06</td>\n",
       "    </tr>\n",
       "    <tr>\n",
       "      <th>2021</th>\n",
       "      <td>2021</td>\n",
       "      <td>0</td>\n",
       "      <td>-94185.0</td>\n",
       "      <td>0</td>\n",
       "      <td>-94185.0</td>\n",
       "      <td>-4924530.0</td>\n",
       "      <td>-2.274691e+04</td>\n",
       "      <td>-3.598187e+06</td>\n",
       "    </tr>\n",
       "    <tr>\n",
       "      <th>2022</th>\n",
       "      <td>2022</td>\n",
       "      <td>0</td>\n",
       "      <td>-94185.0</td>\n",
       "      <td>0</td>\n",
       "      <td>-94185.0</td>\n",
       "      <td>-5018715.0</td>\n",
       "      <td>-2.125879e+04</td>\n",
       "      <td>-3.619446e+06</td>\n",
       "    </tr>\n",
       "    <tr>\n",
       "      <th>2023</th>\n",
       "      <td>2023</td>\n",
       "      <td>0</td>\n",
       "      <td>-94185.0</td>\n",
       "      <td>0</td>\n",
       "      <td>-94185.0</td>\n",
       "      <td>-5112900.0</td>\n",
       "      <td>-1.986803e+04</td>\n",
       "      <td>-3.639314e+06</td>\n",
       "    </tr>\n",
       "    <tr>\n",
       "      <th>2024</th>\n",
       "      <td>2024</td>\n",
       "      <td>0</td>\n",
       "      <td>-94185.0</td>\n",
       "      <td>0</td>\n",
       "      <td>-94185.0</td>\n",
       "      <td>-5207085.0</td>\n",
       "      <td>-1.856825e+04</td>\n",
       "      <td>-3.657882e+06</td>\n",
       "    </tr>\n",
       "    <tr>\n",
       "      <th>2025</th>\n",
       "      <td>2025</td>\n",
       "      <td>0</td>\n",
       "      <td>-94185.0</td>\n",
       "      <td>0</td>\n",
       "      <td>-94185.0</td>\n",
       "      <td>-5301270.0</td>\n",
       "      <td>-1.735351e+04</td>\n",
       "      <td>-3.675235e+06</td>\n",
       "    </tr>\n",
       "    <tr>\n",
       "      <th>2026</th>\n",
       "      <td>2026</td>\n",
       "      <td>0</td>\n",
       "      <td>-94185.0</td>\n",
       "      <td>0</td>\n",
       "      <td>-94185.0</td>\n",
       "      <td>-5395455.0</td>\n",
       "      <td>-1.621823e+04</td>\n",
       "      <td>-3.691454e+06</td>\n",
       "    </tr>\n",
       "    <tr>\n",
       "      <th>2027</th>\n",
       "      <td>2027</td>\n",
       "      <td>0</td>\n",
       "      <td>-94185.0</td>\n",
       "      <td>0</td>\n",
       "      <td>-94185.0</td>\n",
       "      <td>-5489640.0</td>\n",
       "      <td>-1.515723e+04</td>\n",
       "      <td>-3.706611e+06</td>\n",
       "    </tr>\n",
       "    <tr>\n",
       "      <th>2028</th>\n",
       "      <td>2028</td>\n",
       "      <td>0</td>\n",
       "      <td>-94185.0</td>\n",
       "      <td>0</td>\n",
       "      <td>-94185.0</td>\n",
       "      <td>-5583825.0</td>\n",
       "      <td>-1.416563e+04</td>\n",
       "      <td>-3.720776e+06</td>\n",
       "    </tr>\n",
       "    <tr>\n",
       "      <th>2029</th>\n",
       "      <td>2029</td>\n",
       "      <td>0</td>\n",
       "      <td>-94185.0</td>\n",
       "      <td>0</td>\n",
       "      <td>-94185.0</td>\n",
       "      <td>-5678010.0</td>\n",
       "      <td>-1.323891e+04</td>\n",
       "      <td>-3.734015e+06</td>\n",
       "    </tr>\n",
       "    <tr>\n",
       "      <th>2030</th>\n",
       "      <td>2030</td>\n",
       "      <td>0</td>\n",
       "      <td>-94185.0</td>\n",
       "      <td>0</td>\n",
       "      <td>-94185.0</td>\n",
       "      <td>-5772195.0</td>\n",
       "      <td>-1.237281e+04</td>\n",
       "      <td>-3.746388e+06</td>\n",
       "    </tr>\n",
       "    <tr>\n",
       "      <th>2031</th>\n",
       "      <td>2031</td>\n",
       "      <td>0</td>\n",
       "      <td>-94185.0</td>\n",
       "      <td>0</td>\n",
       "      <td>-94185.0</td>\n",
       "      <td>-5866380.0</td>\n",
       "      <td>-1.156338e+04</td>\n",
       "      <td>-3.757952e+06</td>\n",
       "    </tr>\n",
       "    <tr>\n",
       "      <th>2032</th>\n",
       "      <td>2032</td>\n",
       "      <td>0</td>\n",
       "      <td>-94185.0</td>\n",
       "      <td>0</td>\n",
       "      <td>-94185.0</td>\n",
       "      <td>-5960565.0</td>\n",
       "      <td>-1.080689e+04</td>\n",
       "      <td>-3.768758e+06</td>\n",
       "    </tr>\n",
       "    <tr>\n",
       "      <th>2033</th>\n",
       "      <td>2033</td>\n",
       "      <td>0</td>\n",
       "      <td>-94185.0</td>\n",
       "      <td>0</td>\n",
       "      <td>-94185.0</td>\n",
       "      <td>-6054750.0</td>\n",
       "      <td>-1.009990e+04</td>\n",
       "      <td>-3.778858e+06</td>\n",
       "    </tr>\n",
       "    <tr>\n",
       "      <th>2034</th>\n",
       "      <td>2034</td>\n",
       "      <td>0</td>\n",
       "      <td>-94185.0</td>\n",
       "      <td>0</td>\n",
       "      <td>-94185.0</td>\n",
       "      <td>-6148935.0</td>\n",
       "      <td>-9.439159e+03</td>\n",
       "      <td>-3.788297e+06</td>\n",
       "    </tr>\n",
       "    <tr>\n",
       "      <th>2035</th>\n",
       "      <td>2035</td>\n",
       "      <td>0</td>\n",
       "      <td>-94185.0</td>\n",
       "      <td>0</td>\n",
       "      <td>-94185.0</td>\n",
       "      <td>-6243120.0</td>\n",
       "      <td>-8.821644e+03</td>\n",
       "      <td>-3.797119e+06</td>\n",
       "    </tr>\n",
       "    <tr>\n",
       "      <th>2036</th>\n",
       "      <td>2036</td>\n",
       "      <td>0</td>\n",
       "      <td>-94185.0</td>\n",
       "      <td>0</td>\n",
       "      <td>-94185.0</td>\n",
       "      <td>-6337305.0</td>\n",
       "      <td>-8.244527e+03</td>\n",
       "      <td>-3.805364e+06</td>\n",
       "    </tr>\n",
       "    <tr>\n",
       "      <th>2037</th>\n",
       "      <td>2037</td>\n",
       "      <td>0</td>\n",
       "      <td>-94185.0</td>\n",
       "      <td>0</td>\n",
       "      <td>-94185.0</td>\n",
       "      <td>-6431490.0</td>\n",
       "      <td>-7.705165e+03</td>\n",
       "      <td>-3.813069e+06</td>\n",
       "    </tr>\n",
       "    <tr>\n",
       "      <th>2038</th>\n",
       "      <td>2038</td>\n",
       "      <td>0</td>\n",
       "      <td>-94185.0</td>\n",
       "      <td>0</td>\n",
       "      <td>-94185.0</td>\n",
       "      <td>-6525675.0</td>\n",
       "      <td>-7.201089e+03</td>\n",
       "      <td>-3.820270e+06</td>\n",
       "    </tr>\n",
       "    <tr>\n",
       "      <th>2039</th>\n",
       "      <td>2039</td>\n",
       "      <td>0</td>\n",
       "      <td>-94185.0</td>\n",
       "      <td>0</td>\n",
       "      <td>-94185.0</td>\n",
       "      <td>-6619860.0</td>\n",
       "      <td>-6.729990e+03</td>\n",
       "      <td>-3.827000e+06</td>\n",
       "    </tr>\n",
       "    <tr>\n",
       "      <th>2040</th>\n",
       "      <td>2040</td>\n",
       "      <td>0</td>\n",
       "      <td>-94185.0</td>\n",
       "      <td>0</td>\n",
       "      <td>-94185.0</td>\n",
       "      <td>-6714045.0</td>\n",
       "      <td>-6.289710e+03</td>\n",
       "      <td>-3.833290e+06</td>\n",
       "    </tr>\n",
       "    <tr>\n",
       "      <th>2041</th>\n",
       "      <td>2041</td>\n",
       "      <td>0</td>\n",
       "      <td>-94185.0</td>\n",
       "      <td>0</td>\n",
       "      <td>-94185.0</td>\n",
       "      <td>-6808230.0</td>\n",
       "      <td>-5.878234e+03</td>\n",
       "      <td>-3.839168e+06</td>\n",
       "    </tr>\n",
       "    <tr>\n",
       "      <th>2042</th>\n",
       "      <td>2042</td>\n",
       "      <td>0</td>\n",
       "      <td>-94185.0</td>\n",
       "      <td>0</td>\n",
       "      <td>-94185.0</td>\n",
       "      <td>-6902415.0</td>\n",
       "      <td>-5.493676e+03</td>\n",
       "      <td>-3.844661e+06</td>\n",
       "    </tr>\n",
       "    <tr>\n",
       "      <th>2043</th>\n",
       "      <td>2043</td>\n",
       "      <td>0</td>\n",
       "      <td>-94185.0</td>\n",
       "      <td>0</td>\n",
       "      <td>-94185.0</td>\n",
       "      <td>-6996600.0</td>\n",
       "      <td>-5.134277e+03</td>\n",
       "      <td>-3.849796e+06</td>\n",
       "    </tr>\n",
       "    <tr>\n",
       "      <th>2044</th>\n",
       "      <td>2044</td>\n",
       "      <td>0</td>\n",
       "      <td>-94185.0</td>\n",
       "      <td>0</td>\n",
       "      <td>-94185.0</td>\n",
       "      <td>-7090785.0</td>\n",
       "      <td>-4.798390e+03</td>\n",
       "      <td>-3.854594e+06</td>\n",
       "    </tr>\n",
       "    <tr>\n",
       "      <th>2045</th>\n",
       "      <td>2045</td>\n",
       "      <td>0</td>\n",
       "      <td>-94185.0</td>\n",
       "      <td>0</td>\n",
       "      <td>-94185.0</td>\n",
       "      <td>-7184970.0</td>\n",
       "      <td>-4.484476e+03</td>\n",
       "      <td>-3.859079e+06</td>\n",
       "    </tr>\n",
       "    <tr>\n",
       "      <th>2046</th>\n",
       "      <td>2046</td>\n",
       "      <td>0</td>\n",
       "      <td>-94185.0</td>\n",
       "      <td>0</td>\n",
       "      <td>-94185.0</td>\n",
       "      <td>-7279155.0</td>\n",
       "      <td>-4.191099e+03</td>\n",
       "      <td>-3.863270e+06</td>\n",
       "    </tr>\n",
       "    <tr>\n",
       "      <th>2047</th>\n",
       "      <td>2047</td>\n",
       "      <td>0</td>\n",
       "      <td>-94185.0</td>\n",
       "      <td>0</td>\n",
       "      <td>-94185.0</td>\n",
       "      <td>-7373340.0</td>\n",
       "      <td>-3.916915e+03</td>\n",
       "      <td>-3.867187e+06</td>\n",
       "    </tr>\n",
       "    <tr>\n",
       "      <th>2048</th>\n",
       "      <td>2048</td>\n",
       "      <td>0</td>\n",
       "      <td>-94185.0</td>\n",
       "      <td>0</td>\n",
       "      <td>-94185.0</td>\n",
       "      <td>-7467525.0</td>\n",
       "      <td>-3.660669e+03</td>\n",
       "      <td>-3.870847e+06</td>\n",
       "    </tr>\n",
       "    <tr>\n",
       "      <th>2049</th>\n",
       "      <td>2049</td>\n",
       "      <td>0</td>\n",
       "      <td>-94185.0</td>\n",
       "      <td>0</td>\n",
       "      <td>-94185.0</td>\n",
       "      <td>-7561710.0</td>\n",
       "      <td>-3.421186e+03</td>\n",
       "      <td>-3.874269e+06</td>\n",
       "    </tr>\n",
       "  </tbody>\n",
       "</table>\n",
       "</div>"
      ],
      "text/plain": [
       "       years    capex     opex  revenue   cashflow  cashflow_sum  \\\n",
       "years                                                              \n",
       "2000    2000        0      0.0        0        0.0           0.0   \n",
       "2001    2001 -1076400      0.0        0 -1076400.0    -1076400.0   \n",
       "2002    2002 -1076400      0.0        0 -1076400.0    -2152800.0   \n",
       "2003    2003 -1076400      0.0        0 -1076400.0    -3229200.0   \n",
       "2004    2004        0 -94185.0        0   -94185.0    -3323385.0   \n",
       "2005    2005        0 -94185.0        0   -94185.0    -3417570.0   \n",
       "2006    2006        0 -94185.0        0   -94185.0    -3511755.0   \n",
       "2007    2007        0 -94185.0        0   -94185.0    -3605940.0   \n",
       "2008    2008        0 -94185.0        0   -94185.0    -3700125.0   \n",
       "2009    2009        0 -94185.0        0   -94185.0    -3794310.0   \n",
       "2010    2010        0 -94185.0        0   -94185.0    -3888495.0   \n",
       "2011    2011        0 -94185.0        0   -94185.0    -3982680.0   \n",
       "2012    2012        0 -94185.0        0   -94185.0    -4076865.0   \n",
       "2013    2013        0 -94185.0        0   -94185.0    -4171050.0   \n",
       "2014    2014        0 -94185.0        0   -94185.0    -4265235.0   \n",
       "2015    2015        0 -94185.0        0   -94185.0    -4359420.0   \n",
       "2016    2016        0 -94185.0        0   -94185.0    -4453605.0   \n",
       "2017    2017        0 -94185.0        0   -94185.0    -4547790.0   \n",
       "2018    2018        0 -94185.0        0   -94185.0    -4641975.0   \n",
       "2019    2019        0 -94185.0        0   -94185.0    -4736160.0   \n",
       "2020    2020        0 -94185.0        0   -94185.0    -4830345.0   \n",
       "2021    2021        0 -94185.0        0   -94185.0    -4924530.0   \n",
       "2022    2022        0 -94185.0        0   -94185.0    -5018715.0   \n",
       "2023    2023        0 -94185.0        0   -94185.0    -5112900.0   \n",
       "2024    2024        0 -94185.0        0   -94185.0    -5207085.0   \n",
       "2025    2025        0 -94185.0        0   -94185.0    -5301270.0   \n",
       "2026    2026        0 -94185.0        0   -94185.0    -5395455.0   \n",
       "2027    2027        0 -94185.0        0   -94185.0    -5489640.0   \n",
       "2028    2028        0 -94185.0        0   -94185.0    -5583825.0   \n",
       "2029    2029        0 -94185.0        0   -94185.0    -5678010.0   \n",
       "2030    2030        0 -94185.0        0   -94185.0    -5772195.0   \n",
       "2031    2031        0 -94185.0        0   -94185.0    -5866380.0   \n",
       "2032    2032        0 -94185.0        0   -94185.0    -5960565.0   \n",
       "2033    2033        0 -94185.0        0   -94185.0    -6054750.0   \n",
       "2034    2034        0 -94185.0        0   -94185.0    -6148935.0   \n",
       "2035    2035        0 -94185.0        0   -94185.0    -6243120.0   \n",
       "2036    2036        0 -94185.0        0   -94185.0    -6337305.0   \n",
       "2037    2037        0 -94185.0        0   -94185.0    -6431490.0   \n",
       "2038    2038        0 -94185.0        0   -94185.0    -6525675.0   \n",
       "2039    2039        0 -94185.0        0   -94185.0    -6619860.0   \n",
       "2040    2040        0 -94185.0        0   -94185.0    -6714045.0   \n",
       "2041    2041        0 -94185.0        0   -94185.0    -6808230.0   \n",
       "2042    2042        0 -94185.0        0   -94185.0    -6902415.0   \n",
       "2043    2043        0 -94185.0        0   -94185.0    -6996600.0   \n",
       "2044    2044        0 -94185.0        0   -94185.0    -7090785.0   \n",
       "2045    2045        0 -94185.0        0   -94185.0    -7184970.0   \n",
       "2046    2046        0 -94185.0        0   -94185.0    -7279155.0   \n",
       "2047    2047        0 -94185.0        0   -94185.0    -7373340.0   \n",
       "2048    2048        0 -94185.0        0   -94185.0    -7467525.0   \n",
       "2049    2049        0 -94185.0        0   -94185.0    -7561710.0   \n",
       "\n",
       "                npv       npv_sum  \n",
       "years                              \n",
       "2000   0.000000e+00  0.000000e+00  \n",
       "2001  -1.005981e+06 -1.005981e+06  \n",
       "2002  -9.401694e+05 -1.946151e+06  \n",
       "2003  -8.786630e+05 -2.824814e+06  \n",
       "2004  -7.185329e+04 -2.896667e+06  \n",
       "2005  -6.715260e+04 -2.963820e+06  \n",
       "2006  -6.275944e+04 -3.026579e+06  \n",
       "2007  -5.865368e+04 -3.085233e+06  \n",
       "2008  -5.481653e+04 -3.140049e+06  \n",
       "2009  -5.123040e+04 -3.191280e+06  \n",
       "2010  -4.787888e+04 -3.239159e+06  \n",
       "2011  -4.474662e+04 -3.283905e+06  \n",
       "2012  -4.181927e+04 -3.325724e+06  \n",
       "2013  -3.908343e+04 -3.364808e+06  \n",
       "2014  -3.652657e+04 -3.401334e+06  \n",
       "2015  -3.413698e+04 -3.435471e+06  \n",
       "2016  -3.190372e+04 -3.467375e+06  \n",
       "2017  -2.981656e+04 -3.497192e+06  \n",
       "2018  -2.786594e+04 -3.525058e+06  \n",
       "2019  -2.604294e+04 -3.551101e+06  \n",
       "2020  -2.433919e+04 -3.575440e+06  \n",
       "2021  -2.274691e+04 -3.598187e+06  \n",
       "2022  -2.125879e+04 -3.619446e+06  \n",
       "2023  -1.986803e+04 -3.639314e+06  \n",
       "2024  -1.856825e+04 -3.657882e+06  \n",
       "2025  -1.735351e+04 -3.675235e+06  \n",
       "2026  -1.621823e+04 -3.691454e+06  \n",
       "2027  -1.515723e+04 -3.706611e+06  \n",
       "2028  -1.416563e+04 -3.720776e+06  \n",
       "2029  -1.323891e+04 -3.734015e+06  \n",
       "2030  -1.237281e+04 -3.746388e+06  \n",
       "2031  -1.156338e+04 -3.757952e+06  \n",
       "2032  -1.080689e+04 -3.768758e+06  \n",
       "2033  -1.009990e+04 -3.778858e+06  \n",
       "2034  -9.439159e+03 -3.788297e+06  \n",
       "2035  -8.821644e+03 -3.797119e+06  \n",
       "2036  -8.244527e+03 -3.805364e+06  \n",
       "2037  -7.705165e+03 -3.813069e+06  \n",
       "2038  -7.201089e+03 -3.820270e+06  \n",
       "2039  -6.729990e+03 -3.827000e+06  \n",
       "2040  -6.289710e+03 -3.833290e+06  \n",
       "2041  -5.878234e+03 -3.839168e+06  \n",
       "2042  -5.493676e+03 -3.844661e+06  \n",
       "2043  -5.134277e+03 -3.849796e+06  \n",
       "2044  -4.798390e+03 -3.854594e+06  \n",
       "2045  -4.484476e+03 -3.859079e+06  \n",
       "2046  -4.191099e+03 -3.863270e+06  \n",
       "2047  -3.916915e+03 -3.867187e+06  \n",
       "2048  -3.660669e+03 -3.870847e+06  \n",
       "2049  -3.421186e+03 -3.874269e+06  "
      ]
     },
     "execution_count": 12,
     "metadata": {},
     "output_type": "execute_result"
    }
   ],
   "source": [
    "%time\n",
    "df_Foundations = Inputs_2_cashflow(Inputs, \n",
    "                                   startyear=2000,\n",
    "                                   lifecycle=11,\n",
    "                                   subsystem='Wind energy source & Transport',\n",
    "                                   element='Offshore wind park',\n",
    "                                   component='Foundation & cable',\n",
    "                                   Debug=True)\n",
    "df_npv_Foundations = calculate_npv(df_Foundations)\n",
    "df_npv_Foundations"
   ]
  },
  {
   "cell_type": "code",
   "execution_count": 13,
   "id": "eabcd666",
   "metadata": {},
   "outputs": [
    {
     "data": {
      "image/png": "[encoded data removed]",
      "text/plain": [
       "<Figure size 1152x576 with 3 Axes>"
      ]
     },
     "metadata": {
      "needs_background": "light"
     },
     "output_type": "display_data"
    }
   ],
   "source": [
    "lims = [-3,3]\n",
    "create_npv_plot(df_npv_Foundations, cash_flow_lims=lims, npv_lims=lims)"
   ]
  },
  {
   "cell_type": "code",
   "execution_count": 14,
   "id": "529adffa",
   "metadata": {
    "scrolled": false
   },
   "outputs": [
    {
     "name": "stdout",
     "output_type": "stream",
     "text": [
      "CPU times: total: 0 ns\n",
      "Wall time: 0 ns\n"
     ]
    },
    {
     "data": {
      "text/plain": [
       "'Construction items Turbine: 1 units'"
      ]
     },
     "metadata": {},
     "output_type": "display_data"
    },
    {
     "data": {
      "text/plain": [
       "'CAPEX component Turbine: 1495000 eu for 1 unit(s)'"
      ]
     },
     "metadata": {},
     "output_type": "display_data"
    },
    {
     "data": {
      "text/plain": [
       "'Construction duration Turbine: 3 years'"
      ]
     },
     "metadata": {},
     "output_type": "display_data"
    },
    {
     "data": {
      "text/plain": [
       "'Construction allocation Turbine: [0.4, 0.3, 0.3] per year'"
      ]
     },
     "metadata": {},
     "output_type": "display_data"
    },
    {
     "data": {
      "text/plain": [
       "'Economic Lifetime Turbine: 50 years'"
      ]
     },
     "metadata": {},
     "output_type": "display_data"
    },
    {
     "data": {
      "text/plain": [
       "'Depreciation Flag Turbine: 1'"
      ]
     },
     "metadata": {},
     "output_type": "display_data"
    },
    {
     "data": {
      "text/plain": [
       "'Yearly Variable Costs Flag Turbine: 1'"
      ]
     },
     "metadata": {},
     "output_type": "display_data"
    },
    {
     "data": {
      "text/plain": [
       "'Yearly Variable Costs Rate Turbine: 0.03'"
      ]
     },
     "metadata": {},
     "output_type": "display_data"
    },
    {
     "data": {
      "text/plain": [
       "'Insurance Flag Turbine: 1'"
      ]
     },
     "metadata": {},
     "output_type": "display_data"
    },
    {
     "data": {
      "text/plain": [
       "'Insurance Rate Turbine: 0.005'"
      ]
     },
     "metadata": {},
     "output_type": "display_data"
    },
    {
     "data": {
      "text/plain": [
       "'Decommissioning Turbine: 0.02'"
      ]
     },
     "metadata": {},
     "output_type": "display_data"
    },
    {
     "data": {
      "text/plain": [
       "'Residual Value Turbine: 0.01'"
      ]
     },
     "metadata": {},
     "output_type": "display_data"
    },
    {
     "data": {
      "text/plain": [
       "'OPEX component Turbine: 52324.99999999999 eu for 1 unit(s)'"
      ]
     },
     "metadata": {},
     "output_type": "display_data"
    },
    {
     "data": {
      "text/plain": [
       "'Revenue Turbine: 0 euro/unit'"
      ]
     },
     "metadata": {},
     "output_type": "display_data"
    }
   ],
   "source": [
    "%time\n",
    "df_Turbines = Inputs_2_cashflow(Inputs, \n",
    "                                   startyear=2000,\n",
    "                                   lifecycle=11,\n",
    "                                   subsystem='Wind energy source & Transport',\n",
    "                                   element='Offshore wind park',\n",
    "                                   component='Turbine',\n",
    "                                   Debug=True)\n",
    "df_npv_Turbines = calculate_npv(df_Turbines)"
   ]
  },
  {
   "cell_type": "code",
   "execution_count": 15,
   "id": "e63b945b",
   "metadata": {},
   "outputs": [
    {
     "data": {
      "image/png": "[encoded data removed]",
      "text/plain": [
       "<Figure size 1152x576 with 3 Axes>"
      ]
     },
     "metadata": {
      "needs_background": "light"
     },
     "output_type": "display_data"
    }
   ],
   "source": [
    "lims = [-3,3]\n",
    "create_npv_plot(df_npv_Turbines, cash_flow_lims=lims, npv_lims=lims)"
   ]
  },
  {
   "cell_type": "markdown",
   "id": "c7264d1e",
   "metadata": {},
   "source": [
    "##### B. combine two items"
   ]
  },
  {
   "cell_type": "code",
   "execution_count": 16,
   "id": "d5918842",
   "metadata": {},
   "outputs": [],
   "source": [
    "df_Foundations = Inputs_2_cashflow(Inputs, startyear=2022, lifecycle=11, component='Foundation & cable',Debug=False)\n",
    "df_Turbines = Inputs_2_cashflow(Inputs, startyear=2028, lifecycle=11, component='Turbine',Debug=False)\n",
    "df_combined = combine_cashflow_dataframes([df_Foundations, df_Turbines])"
   ]
  },
  {
   "cell_type": "code",
   "execution_count": 17,
   "id": "9787021b",
   "metadata": {},
   "outputs": [],
   "source": [
    "df_npv_combined = calculate_npv(df_combined)"
   ]
  },
  {
   "cell_type": "code",
   "execution_count": 18,
   "id": "fec83e34",
   "metadata": {},
   "outputs": [
    {
     "data": {
      "image/png": "[encoded data removed]",
      "text/plain": [
       "<Figure size 1152x576 with 3 Axes>"
      ]
     },
     "metadata": {
      "needs_background": "light"
     },
     "output_type": "display_data"
    }
   ],
   "source": [
    "lims=[-3,3]\n",
    "create_npv_plot(df_npv_combined, cash_flow_lims=lims, npv_lims=lims)"
   ]
  }
 ],
 "metadata": {
  "kernelspec": {
   "display_name": "Python 3 (ipykernel)",
   "language": "python",
   "name": "python3"
  },
  "language_info": {
   "codemirror_mode": {
    "name": "ipython",
    "version": 3
   },
   "file_extension": ".py",
   "mimetype": "text/x-python",
   "name": "python",
   "nbconvert_exporter": "python",
   "pygments_lexer": "ipython3",
   "version": "3.9.12"
  }
 },
 "nbformat": 4,
 "nbformat_minor": 5
}
