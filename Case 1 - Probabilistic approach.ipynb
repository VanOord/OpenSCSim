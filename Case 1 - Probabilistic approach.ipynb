{
 "cells": [
  {
   "cell_type": "markdown",
   "id": "f255bfb5",
   "metadata": {},
   "source": [
    "### Case 4B - Offshore windfarm - AC Substation - AC Collection cable\n",
    "This notebook shows the basics of Case 4b as suggested by Noor Abrahamse:"
   ]
  },
  {
   "cell_type": "markdown",
   "id": "6bb113ce",
   "metadata": {},
   "source": [
    "#### 0. Import basic methods (a.o. from source2.py)"
   ]
  },
  {
   "cell_type": "code",
   "execution_count": 7,
   "id": "f9fd7be4",
   "metadata": {},
   "outputs": [],
   "source": [
    "from source2 import *\n",
    "import folium\n",
    "import numpy as np\n",
    "import matplotlib.pyplot as plt\n",
    "\n",
    "import pyproj\n",
    "import shapely.geometry\n",
    "from shapely.geometry.base import BaseGeometry"
   ]
  },
  {
   "cell_type": "code",
   "execution_count": 8,
   "id": "f7530a08",
   "metadata": {},
   "outputs": [],
   "source": [
    "import matplotlib.pyplot as plt\n",
    "from scipy import stats "
   ]
  },
  {
   "cell_type": "code",
   "execution_count": 9,
   "id": "ec38e936",
   "metadata": {},
   "outputs": [],
   "source": [
    "# load basic info from the Input sheet\n",
    "mapping = load_input_from_xls(filename=r'Case 1 - Input sheet.xlsm')\n",
    "Inputs = extract_scenario(mapping, 'Scenario1')"
   ]
  },
  {
   "cell_type": "markdown",
   "id": "89024b92",
   "metadata": {},
   "source": [
    "##### 1. prepare input data and generate objects"
   ]
  },
  {
   "cell_type": "code",
   "execution_count": 10,
   "id": "ccd8436f",
   "metadata": {},
   "outputs": [
    {
     "name": "stdout",
     "output_type": "stream",
     "text": [
      "issue detected\n"
     ]
    }
   ],
   "source": [
    "foundation_data = get_object_data(Inputs=Inputs, \n",
    "                               subsystem='Wind energy source & Transport', \n",
    "                               element='Offshore wind park',\n",
    "                               component='Foundation & cable')\n",
    "foundation_data['depreciation_rate']=1/foundation_data['economic_lifetime']\n",
    "\n",
    "turbine_data = get_object_data(Inputs=Inputs, \n",
    "                               subsystem='Wind energy source & Transport', \n",
    "                               element='Offshore wind park',\n",
    "                               component='Turbine')\n",
    "turbine_data['depreciation_rate']=1/turbine_data['economic_lifetime']\n",
    "\n",
    "AC_substation_data = get_object_data(Inputs=Inputs, \n",
    "                               subsystem='AC Substation & Transport', \n",
    "                               element='AC Substation & Transport',\n",
    "                               component='AC Substation')\n",
    "AC_substation_data['depreciation_rate']=1/AC_substation_data['economic_lifetime']\n",
    "\n",
    "AC_collection_cable_data = get_object_data(Inputs=Inputs, \n",
    "                               subsystem='AC Substation & Transport', \n",
    "                               element='AC Substation & Transport',\n",
    "                               component='DC collection cable')\n",
    "AC_collection_cable_data['depreciation_rate']=1/AC_collection_cable_data['economic_lifetime']\n",
    "\n",
    "DCAC_converter_data = get_object_data(Inputs=Inputs, \n",
    "                               subsystem='Electrolysis, Electricity & Transport', \n",
    "                               element='Electricity',\n",
    "                               component='DCAC Converter')\n",
    "AC_collection_cable_data['depreciation_rate']=1/DCAC_converter_data['economic_lifetime']\n",
    "\n",
    "Mainland_data = get_object_data(Inputs=Inputs, \n",
    "                               subsystem='Electrolysis, Electricity & Transport', \n",
    "                               element='Facility location',\n",
    "                               component='Mainland')\n",
    "AC_collection_cable_data['depreciation_rate']=1/Mainland_data['economic_lifetime']"
   ]
  },
  {
   "cell_type": "code",
   "execution_count": 11,
   "id": "7b2e19d4",
   "metadata": {},
   "outputs": [],
   "source": [
    "# Create a list of capex_per_unit's\n",
    "capex_per_unit = stats.norm(turbine_data['capex_per_unit'],turbine_data['capex_per_unit']*0.1)\n",
    "capex_per_unit_realisations = capex_per_unit.rvs(100)"
   ]
  },
  {
   "cell_type": "code",
   "execution_count": 12,
   "id": "da205e93",
   "metadata": {},
   "outputs": [
    {
     "name": "stdout",
     "output_type": "stream",
     "text": [
      "total_wind_energy_production: 354780000000 kWh\n",
      "energy_after_inter_array_cable_loss (20 km): 347684400000 kWh\n",
      "energy_after_AC_collection_cable_loss (20 km): 340730712000 kWh\n"
     ]
    }
   ],
   "source": [
    "total_wind_energy_production = 3000 * 1000 * 4380 * 27 # parkcapacity * operational hours * operational lifecycle\n",
    "print('total_wind_energy_production: {:.0f} kWh'.format(total_wind_energy_production))\n",
    "energy_after_inter_array_cable_loss = 0.98 * total_wind_energy_production\n",
    "print('energy_after_inter_array_cable_loss (20 km): {:.0f} kWh'.format(energy_after_inter_array_cable_loss))\n",
    "energy_after_AC_collection_cable_loss = 0.98 * energy_after_inter_array_cable_loss\n",
    "print('energy_after_AC_collection_cable_loss (20 km): {:.0f} kWh'.format(energy_after_AC_collection_cable_loss))"
   ]
  },
  {
   "cell_type": "code",
   "execution_count": 13,
   "id": "9e725d68",
   "metadata": {},
   "outputs": [],
   "source": [
    "# is nog niet het snelste proces ... further optimisation needed\n",
    "lifecycle = 30\n",
    "LCOEs = []\n",
    "for value in capex_per_unit_realisations:\n",
    "    Turbine = Object(**turbine_data)\n",
    "    Turbine.capex_per_unit = value\n",
    "    Foundation = Object(**foundation_data)\n",
    "    ACStation = Object(**AC_substation_data)\n",
    "    ACCollectionCable = Object(**AC_collection_cable_data)\n",
    "    DCACConverter = Object(**DCAC_converter_data)\n",
    "    Mainland = Object(**Mainland_data)\n",
    "\n",
    "    Foundation.generate_cashflows(startyear=2023, lifecycle=lifecycle, debug=False)\n",
    "    Turbine.generate_cashflows(startyear=2023, lifecycle=lifecycle, debug=False)\n",
    "    ACStation.generate_cashflows(startyear=2023, lifecycle=lifecycle, debug=False)\n",
    "    ACCollectionCable.generate_cashflows(startyear=2023, lifecycle=lifecycle, debug=False)\n",
    "    DCACConverter.generate_cashflows(startyear=2023, lifecycle=lifecycle, debug=False)\n",
    "    Mainland.generate_cashflows(startyear=2023, lifecycle=lifecycle, debug=False)\n",
    "    \n",
    "    # collect the npv calculations per item (without revenues)\n",
    "    Turbine.df_npv = calculate_npv(Turbine.df, 2023, WACC=0.0984)\n",
    "    Foundation.df_npv = calculate_npv(Foundation.df, 2023, WACC=0.0984)\n",
    "    ACStation.df_npv = calculate_npv(ACStation.df, 2023, WACC=0.0984)\n",
    "    ACCollectionCable.df_npv = calculate_npv(ACCollectionCable.df, 2023, WACC=0.0984)\n",
    "    DCACConverter.df_npv = calculate_npv(DCACConverter.df, 2023, WACC=0.0984)\n",
    "    Mainland.df_npv = calculate_npv(Mainland.df, 2023, WACC=0.0984)\n",
    "    \n",
    "    data = [\n",
    "        -Foundation.df_npv.cashflow_sum.iloc[-1],\n",
    "        -Turbine.df_npv.cashflow_sum.iloc[-1],\n",
    "        -ACStation.df_npv.cashflow_sum.iloc[-1],\n",
    "        -ACCollectionCable.df_npv.cashflow_sum.iloc[-1],\n",
    "        -DCACConverter.df_npv.cashflow_sum.iloc[-1],\n",
    "        -Mainland.df_npv.cashflow_sum.iloc[-1],\n",
    "    ]   \n",
    "    \n",
    "    total_energy = energy_after_AC_collection_cable_loss # kWh\n",
    "    total_cost = sum(data)            # EU\n",
    "    \n",
    "    LCOEs.append(total_cost / total_energy)"
   ]
  },
  {
   "cell_type": "code",
   "execution_count": 14,
   "id": "1f3de80b",
   "metadata": {},
   "outputs": [
    {
     "data": {
      "image/png": "[encoded data removed]",
      "text/plain": [
       "<Figure size 432x288 with 1 Axes>"
      ]
     },
     "metadata": {
      "needs_background": "light"
     },
     "output_type": "display_data"
    }
   ],
   "source": [
    "fig, ax = plt.subplots(1, 1)\n",
    "plt.hist(capex_per_unit_realisations, density=True, bins='auto', histtype='stepfilled', alpha=0.2)\n",
    "ax.set_xlim([round(-min(capex_per_unit_realisations)), round(max(capex_per_unit_realisations))])\n",
    "ax.set_title(turbine_data['component'])\n",
    "plt.show()"
   ]
  },
  {
   "cell_type": "code",
   "execution_count": 15,
   "id": "dec7a7ff",
   "metadata": {},
   "outputs": [
    {
     "data": {
      "image/png": "[encoded data removed]",
      "text/plain": [
       "<Figure size 432x288 with 1 Axes>"
      ]
     },
     "metadata": {
      "needs_background": "light"
     },
     "output_type": "display_data"
    }
   ],
   "source": [
    "fig, ax = plt.subplots(1, 1)\n",
    "plt.hist(LCOEs, density=True, bins='auto', histtype='stepfilled', alpha=0.2)\n",
    "ax.set_xlim([-min(LCOEs), max(LCOEs)])\n",
    "ax.set_title('LCOEs')\n",
    "plt.show()"
   ]
  },
  {
   "cell_type": "code",
   "execution_count": null,
   "id": "21c686be",
   "metadata": {},
   "outputs": [],
   "source": []
  }
 ],
 "metadata": {
  "kernelspec": {
   "display_name": "Python 3 (ipykernel)",
   "language": "python",
   "name": "python3"
  },
  "language_info": {
   "codemirror_mode": {
    "name": "ipython",
    "version": 3
   },
   "file_extension": ".py",
   "mimetype": "text/x-python",
   "name": "python",
   "nbconvert_exporter": "python",
   "pygments_lexer": "ipython3",
   "version": "3.9.12"
  }
 },
 "nbformat": 4,
 "nbformat_minor": 5
}
